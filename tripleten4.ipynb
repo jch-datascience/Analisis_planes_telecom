{
  "cells": [
    {
      "cell_type": "markdown",
      "metadata": {
        "id": "KLo3S3uaSdaD"
      },
      "source": [
        "# ¿Cuál es un mejor plan?"
      ]
    },
    {
      "cell_type": "markdown",
      "metadata": {
        "id": "3ptnbX62SdaD"
      },
      "source": [
        "Por medio del siguiente proyecto llevaremos a cabo un estudio para saber cuáles de los planes de Megaline generan más ingresos, con el fin de ajustar el presupuesto de la publicidad. Los planes a estudiar son el plan **Surf** y el plan **Ultimate**.\n",
        "\n",
        "Para esto realizaremos un análisis preliminar de las tarifas basado en una selección de clientes relativamente pequeña. Tendremos los datos de 500 clientes de Megaline: quiénes son los clientes, de dónde son, qué tarifa usan, así como la cantidad de llamadas que hicieron y los mensajes de texto que enviaron en 2018. Al analizar el comportamiento de los clientes,determinaremos qué tarifa de prepago genera más ingresos.\n"
      ]
    },
    {
      "cell_type": "markdown",
      "metadata": {
        "id": "tfRV5SlISdaE"
      },
      "source": [
        "## Inicialización"
      ]
    },
    {
      "cell_type": "markdown",
      "metadata": {
        "id": "YCP7FILqSdaE"
      },
      "source": [
        "Primero cargamos las librerías necesarias para llevar a cabo el estudio."
      ]
    },
    {
      "cell_type": "code",
      "execution_count": null,
      "metadata": {
        "id": "bIXqURvoSdaF"
      },
      "outputs": [],
      "source": [
        "# Cargar todas las librerías\n",
        "import pandas as pd\n",
        "import numpy as np\n",
        "import matplotlib.pyplot as plt\n",
        "import seaborn as sns\n",
        "from scipy import stats as st\n",
        "from scipy.stats import ttest_ind\n",
        "import math"
      ]
    },
    {
      "cell_type": "markdown",
      "metadata": {
        "id": "G37ne9vISdaG"
      },
      "source": [
        "## Cargar los datos"
      ]
    },
    {
      "cell_type": "markdown",
      "metadata": {
        "id": "5UjU9c9vSdaG"
      },
      "source": [
        "A continuación cargamos todos los DataFrames"
      ]
    },
    {
      "cell_type": "code",
      "execution_count": null,
      "metadata": {
        "id": "pI9HSHk9SdaH"
      },
      "outputs": [],
      "source": [
        "# Cargamos los archivos de datos en diferentes DataFrames\n",
        "calls = pd.read_csv('/datasets/megaline_calls.csv')\n",
        "internet = pd.read_csv('/datasets/megaline_internet.csv')\n",
        "messages = pd.read_csv('/datasets/megaline_messages.csv')\n",
        "plans = pd.read_csv('/datasets/megaline_plans.csv')\n",
        "users = pd.read_csv('/datasets/megaline_users.csv')\n"
      ]
    },
    {
      "cell_type": "markdown",
      "metadata": {
        "id": "-xfNzDv7SdaI"
      },
      "source": [
        "## Preparar los datos"
      ]
    },
    {
      "cell_type": "markdown",
      "metadata": {
        "id": "qxGHgj6ySdaI"
      },
      "source": [
        "Los datos para este proyecto se dividen en varias tablas. De este modo, exploraremos cada una para tener una comprensión inicial de los datos. Si es necesario, haremos las correcciones necesarias para cada tabla."
      ]
    },
    {
      "cell_type": "markdown",
      "metadata": {
        "id": "b8PjboJ4SdaI"
      },
      "source": [
        "## Comenzaremos con el DataFrame **'calls'**."
      ]
    },
    {
      "cell_type": "code",
      "execution_count": null,
      "metadata": {
        "id": "Mot6NMn5SdaI",
        "outputId": "8a7ccbb6-a35f-4024-c6f1-fc192c8727bb"
      },
      "outputs": [
        {
          "data": {
            "text/html": [
              "<div>\n",
              "<style scoped>\n",
              "    .dataframe tbody tr th:only-of-type {\n",
              "        vertical-align: middle;\n",
              "    }\n",
              "\n",
              "    .dataframe tbody tr th {\n",
              "        vertical-align: top;\n",
              "    }\n",
              "\n",
              "    .dataframe thead th {\n",
              "        text-align: right;\n",
              "    }\n",
              "</style>\n",
              "<table border=\"1\" class=\"dataframe\">\n",
              "  <thead>\n",
              "    <tr style=\"text-align: right;\">\n",
              "      <th></th>\n",
              "      <th>id</th>\n",
              "      <th>user_id</th>\n",
              "      <th>call_date</th>\n",
              "      <th>duration</th>\n",
              "    </tr>\n",
              "  </thead>\n",
              "  <tbody>\n",
              "    <tr>\n",
              "      <th>0</th>\n",
              "      <td>1000_93</td>\n",
              "      <td>1000</td>\n",
              "      <td>2018-12-27</td>\n",
              "      <td>8.52</td>\n",
              "    </tr>\n",
              "    <tr>\n",
              "      <th>1</th>\n",
              "      <td>1000_145</td>\n",
              "      <td>1000</td>\n",
              "      <td>2018-12-27</td>\n",
              "      <td>13.66</td>\n",
              "    </tr>\n",
              "    <tr>\n",
              "      <th>2</th>\n",
              "      <td>1000_247</td>\n",
              "      <td>1000</td>\n",
              "      <td>2018-12-27</td>\n",
              "      <td>14.48</td>\n",
              "    </tr>\n",
              "    <tr>\n",
              "      <th>3</th>\n",
              "      <td>1000_309</td>\n",
              "      <td>1000</td>\n",
              "      <td>2018-12-28</td>\n",
              "      <td>5.76</td>\n",
              "    </tr>\n",
              "    <tr>\n",
              "      <th>4</th>\n",
              "      <td>1000_380</td>\n",
              "      <td>1000</td>\n",
              "      <td>2018-12-30</td>\n",
              "      <td>4.22</td>\n",
              "    </tr>\n",
              "    <tr>\n",
              "      <th>5</th>\n",
              "      <td>1000_388</td>\n",
              "      <td>1000</td>\n",
              "      <td>2018-12-31</td>\n",
              "      <td>2.20</td>\n",
              "    </tr>\n",
              "    <tr>\n",
              "      <th>6</th>\n",
              "      <td>1000_510</td>\n",
              "      <td>1000</td>\n",
              "      <td>2018-12-27</td>\n",
              "      <td>5.75</td>\n",
              "    </tr>\n",
              "    <tr>\n",
              "      <th>7</th>\n",
              "      <td>1000_521</td>\n",
              "      <td>1000</td>\n",
              "      <td>2018-12-28</td>\n",
              "      <td>14.18</td>\n",
              "    </tr>\n",
              "    <tr>\n",
              "      <th>8</th>\n",
              "      <td>1000_530</td>\n",
              "      <td>1000</td>\n",
              "      <td>2018-12-28</td>\n",
              "      <td>5.77</td>\n",
              "    </tr>\n",
              "    <tr>\n",
              "      <th>9</th>\n",
              "      <td>1000_544</td>\n",
              "      <td>1000</td>\n",
              "      <td>2018-12-26</td>\n",
              "      <td>4.40</td>\n",
              "    </tr>\n",
              "  </tbody>\n",
              "</table>\n",
              "</div>"
            ],
            "text/plain": [
              "         id  user_id   call_date  duration\n",
              "0   1000_93     1000  2018-12-27      8.52\n",
              "1  1000_145     1000  2018-12-27     13.66\n",
              "2  1000_247     1000  2018-12-27     14.48\n",
              "3  1000_309     1000  2018-12-28      5.76\n",
              "4  1000_380     1000  2018-12-30      4.22\n",
              "5  1000_388     1000  2018-12-31      2.20\n",
              "6  1000_510     1000  2018-12-27      5.75\n",
              "7  1000_521     1000  2018-12-28     14.18\n",
              "8  1000_530     1000  2018-12-28      5.77\n",
              "9  1000_544     1000  2018-12-26      4.40"
            ]
          },
          "execution_count": 3,
          "metadata": {},
          "output_type": "execute_result"
        }
      ],
      "source": [
        "# Echamos un vistazo a nuestra tabla\n",
        "calls.head(10)"
      ]
    },
    {
      "cell_type": "code",
      "execution_count": null,
      "metadata": {
        "scrolled": true,
        "id": "lkjuo7SjSdaJ",
        "outputId": "04eabc65-71c5-4aac-e971-2bee845e1dd9"
      },
      "outputs": [
        {
          "name": "stdout",
          "output_type": "stream",
          "text": [
            "<class 'pandas.core.frame.DataFrame'>\n",
            "RangeIndex: 137735 entries, 0 to 137734\n",
            "Data columns (total 4 columns):\n",
            " #   Column     Non-Null Count   Dtype  \n",
            "---  ------     --------------   -----  \n",
            " 0   id         137735 non-null  object \n",
            " 1   user_id    137735 non-null  int64  \n",
            " 2   call_date  137735 non-null  object \n",
            " 3   duration   137735 non-null  float64\n",
            "dtypes: float64(1), int64(1), object(2)\n",
            "memory usage: 4.2+ MB\n",
            "None\n",
            "\n",
            "(137735, 4)\n"
          ]
        }
      ],
      "source": [
        "# Revisamos su información general\n",
        "print(calls.info())\n",
        "print()\n",
        "print(calls.shape)"
      ]
    },
    {
      "cell_type": "code",
      "execution_count": null,
      "metadata": {
        "id": "zAFtJk6aSdaJ",
        "outputId": "7e348ad4-4a3c-4ffd-f27a-6f2eee8f8292"
      },
      "outputs": [
        {
          "data": {
            "text/plain": [
              "Index(['id', 'user_id', 'call_date', 'duration'], dtype='object')"
            ]
          },
          "execution_count": 5,
          "metadata": {},
          "output_type": "execute_result"
        }
      ],
      "source": [
        "# Revisamos las columnas para ver si hay algún espacio demás que no podamos ver\n",
        "calls.columns"
      ]
    },
    {
      "cell_type": "code",
      "execution_count": null,
      "metadata": {
        "id": "Cl5DgpLMSdaJ",
        "outputId": "ba270a7a-835e-4f67-ac2c-5b3ac1b7a25e"
      },
      "outputs": [
        {
          "data": {
            "text/html": [
              "<div>\n",
              "<style scoped>\n",
              "    .dataframe tbody tr th:only-of-type {\n",
              "        vertical-align: middle;\n",
              "    }\n",
              "\n",
              "    .dataframe tbody tr th {\n",
              "        vertical-align: top;\n",
              "    }\n",
              "\n",
              "    .dataframe thead th {\n",
              "        text-align: right;\n",
              "    }\n",
              "</style>\n",
              "<table border=\"1\" class=\"dataframe\">\n",
              "  <thead>\n",
              "    <tr style=\"text-align: right;\">\n",
              "      <th></th>\n",
              "      <th>user_id</th>\n",
              "      <th>duration</th>\n",
              "    </tr>\n",
              "  </thead>\n",
              "  <tbody>\n",
              "    <tr>\n",
              "      <th>count</th>\n",
              "      <td>137735.000000</td>\n",
              "      <td>137735.000000</td>\n",
              "    </tr>\n",
              "    <tr>\n",
              "      <th>mean</th>\n",
              "      <td>1247.658046</td>\n",
              "      <td>6.745927</td>\n",
              "    </tr>\n",
              "    <tr>\n",
              "      <th>std</th>\n",
              "      <td>139.416268</td>\n",
              "      <td>5.839241</td>\n",
              "    </tr>\n",
              "    <tr>\n",
              "      <th>min</th>\n",
              "      <td>1000.000000</td>\n",
              "      <td>0.000000</td>\n",
              "    </tr>\n",
              "    <tr>\n",
              "      <th>25%</th>\n",
              "      <td>1128.000000</td>\n",
              "      <td>1.290000</td>\n",
              "    </tr>\n",
              "    <tr>\n",
              "      <th>50%</th>\n",
              "      <td>1247.000000</td>\n",
              "      <td>5.980000</td>\n",
              "    </tr>\n",
              "    <tr>\n",
              "      <th>75%</th>\n",
              "      <td>1365.000000</td>\n",
              "      <td>10.690000</td>\n",
              "    </tr>\n",
              "    <tr>\n",
              "      <th>max</th>\n",
              "      <td>1499.000000</td>\n",
              "      <td>37.600000</td>\n",
              "    </tr>\n",
              "  </tbody>\n",
              "</table>\n",
              "</div>"
            ],
            "text/plain": [
              "             user_id       duration\n",
              "count  137735.000000  137735.000000\n",
              "mean     1247.658046       6.745927\n",
              "std       139.416268       5.839241\n",
              "min      1000.000000       0.000000\n",
              "25%      1128.000000       1.290000\n",
              "50%      1247.000000       5.980000\n",
              "75%      1365.000000      10.690000\n",
              "max      1499.000000      37.600000"
            ]
          },
          "execution_count": 6,
          "metadata": {},
          "output_type": "execute_result"
        }
      ],
      "source": [
        "# Revisamos su distribución\n",
        "calls.describe()"
      ]
    },
    {
      "cell_type": "code",
      "execution_count": null,
      "metadata": {
        "id": "pS44YvTZSdaJ",
        "outputId": "a8716d8e-18e1-46de-ac43-c4088527adcf"
      },
      "outputs": [
        {
          "data": {
            "text/plain": [
              "0"
            ]
          },
          "execution_count": 7,
          "metadata": {},
          "output_type": "execute_result"
        }
      ],
      "source": [
        "# Revisamos si hay datos duplicados\n",
        "calls.duplicated().sum()"
      ]
    },
    {
      "cell_type": "markdown",
      "metadata": {
        "id": "lAbtj5mESdaK"
      },
      "source": [
        "Si bien no hay valores ausentes, al ver la distribución podemos ver llamadas de 0 segundos, probablemente porque son llamadas perdidas. Veremos cuántas de estas hay para decidir qué haremos con estos datos."
      ]
    },
    {
      "cell_type": "code",
      "execution_count": null,
      "metadata": {
        "scrolled": true,
        "id": "QUPXHbX7SdaK",
        "outputId": "9dc5862f-fd4f-484a-b9b8-5ac6b67b1793"
      },
      "outputs": [
        {
          "name": "stdout",
          "output_type": "stream",
          "text": [
            "Cantidad de llamadas perdidas: 26834\n",
            "porcentaje de llamadas perdidas: 19%\n"
          ]
        }
      ],
      "source": [
        "# Revisamos cuántas llamadas con 0 segundos hay.\n",
        "missed = calls.duration[calls.duration == 0].count()\n",
        "print(f\"Cantidad de llamadas perdidas: {missed}\")\n",
        "missed_perc = calls.duration[calls.duration == 0].count() / len(calls.duration)*100\n",
        "print(f\"porcentaje de llamadas perdidas: {int(missed_perc)}%\")"
      ]
    },
    {
      "cell_type": "markdown",
      "metadata": {
        "id": "w5oXKJ6USdaK"
      },
      "source": [
        "Como podemos ver, **el 19% de las llamadas corresponden a llamadas perdidas**, por lo que no manipularemos estos datos ya que corresponden a un gran porcentaje del DataFrame."
      ]
    },
    {
      "cell_type": "markdown",
      "metadata": {
        "id": "F0FPlaZ-SdaK"
      },
      "source": [
        " Al analizar la tabla **calls** encontramos lo siguiente:\n",
        "\n",
        " - 1. El DataFrame **calls** se compone de 137.735 filas y 4 columnas.\n",
        " - 2. El formato de de los nombres de las columnas está correcto.\n",
        " - 3. Al revisar la información general no encontramos valores ausentes.\n",
        " - 4. No tenemos valores duplicados.\n",
        " - 5. La columna **call_date está en formato object, que pasaremos a formato Datetime**, por si en el futuro debemos analizar fechas.\n",
        " - 6. Además, **la columna duration la pasaremos a tipo Timedelta y redondearemos los segundos a minutos**. En este caso cada llamada individual se redondea; incluso si la llamada duró solo un segundo, se contará como un minuto.\n",
        " - 7. El valor mínimo de la columna **duration** es 0, el máximo es 38, su media es 6.7 y mediana 5.9.  Valores bastante normales a excepción de los 0.\n",
        " - 8. Un 19% se las llamadas tienen una duración de 0 segundos, estas probablemente son llamadas perdidas."
      ]
    },
    {
      "cell_type": "markdown",
      "metadata": {
        "id": "QkMVX4yASdaK"
      },
      "source": [
        "### Corregir datos\n",
        "\n",
        "Aquí corregiremos lo que observamos con anterioridad."
      ]
    },
    {
      "cell_type": "code",
      "execution_count": null,
      "metadata": {
        "id": "1-jtjXvdSdaK"
      },
      "outputs": [],
      "source": [
        "# Cambiamos de formato la columna 'calls_date' a Datetime\n",
        "calls.call_date = pd.to_datetime(calls['call_date'], format='%Y-%m-%d')"
      ]
    },
    {
      "cell_type": "code",
      "execution_count": null,
      "metadata": {
        "scrolled": true,
        "id": "91ru7roOSdaL"
      },
      "outputs": [],
      "source": [
        "# Cambiamos de formato la columna 'duration' a Timedelta\n",
        "calls['duration'] = pd.to_timedelta(calls['duration'], unit='m')"
      ]
    },
    {
      "cell_type": "code",
      "execution_count": null,
      "metadata": {
        "id": "4N-sdLHISdaL"
      },
      "outputs": [],
      "source": [
        "# redondeamos los segundos a minutos\n",
        "calls['duration'] = calls['duration'].apply(lambda x: pd.Timedelta(minutes=math.ceil(x.seconds/60)))"
      ]
    },
    {
      "cell_type": "code",
      "execution_count": null,
      "metadata": {
        "id": "oRMSlf0OSdaL",
        "outputId": "071a1857-742c-4a81-fe07-cc5e96b452c3"
      },
      "outputs": [
        {
          "name": "stdout",
          "output_type": "stream",
          "text": [
            "<class 'pandas.core.frame.DataFrame'>\n",
            "RangeIndex: 137735 entries, 0 to 137734\n",
            "Data columns (total 4 columns):\n",
            " #   Column     Non-Null Count   Dtype          \n",
            "---  ------     --------------   -----          \n",
            " 0   id         137735 non-null  object         \n",
            " 1   user_id    137735 non-null  int64          \n",
            " 2   call_date  137735 non-null  datetime64[ns] \n",
            " 3   duration   137735 non-null  timedelta64[ns]\n",
            "dtypes: datetime64[ns](1), int64(1), object(1), timedelta64[ns](1)\n",
            "memory usage: 4.2+ MB\n"
          ]
        }
      ],
      "source": [
        "# vemos que esté todo bien con los formatos\n",
        "calls.info()"
      ]
    },
    {
      "cell_type": "code",
      "execution_count": null,
      "metadata": {
        "id": "cwgi2w1GSdaL",
        "outputId": "a3c98c34-6021-4c51-8114-3e8c04e86a97"
      },
      "outputs": [
        {
          "data": {
            "text/html": [
              "<div>\n",
              "<style scoped>\n",
              "    .dataframe tbody tr th:only-of-type {\n",
              "        vertical-align: middle;\n",
              "    }\n",
              "\n",
              "    .dataframe tbody tr th {\n",
              "        vertical-align: top;\n",
              "    }\n",
              "\n",
              "    .dataframe thead th {\n",
              "        text-align: right;\n",
              "    }\n",
              "</style>\n",
              "<table border=\"1\" class=\"dataframe\">\n",
              "  <thead>\n",
              "    <tr style=\"text-align: right;\">\n",
              "      <th></th>\n",
              "      <th>id</th>\n",
              "      <th>user_id</th>\n",
              "      <th>call_date</th>\n",
              "      <th>duration</th>\n",
              "    </tr>\n",
              "  </thead>\n",
              "  <tbody>\n",
              "    <tr>\n",
              "      <th>0</th>\n",
              "      <td>1000_93</td>\n",
              "      <td>1000</td>\n",
              "      <td>2018-12-27</td>\n",
              "      <td>0 days 00:09:00</td>\n",
              "    </tr>\n",
              "    <tr>\n",
              "      <th>1</th>\n",
              "      <td>1000_145</td>\n",
              "      <td>1000</td>\n",
              "      <td>2018-12-27</td>\n",
              "      <td>0 days 00:14:00</td>\n",
              "    </tr>\n",
              "    <tr>\n",
              "      <th>2</th>\n",
              "      <td>1000_247</td>\n",
              "      <td>1000</td>\n",
              "      <td>2018-12-27</td>\n",
              "      <td>0 days 00:15:00</td>\n",
              "    </tr>\n",
              "    <tr>\n",
              "      <th>3</th>\n",
              "      <td>1000_309</td>\n",
              "      <td>1000</td>\n",
              "      <td>2018-12-28</td>\n",
              "      <td>0 days 00:06:00</td>\n",
              "    </tr>\n",
              "    <tr>\n",
              "      <th>4</th>\n",
              "      <td>1000_380</td>\n",
              "      <td>1000</td>\n",
              "      <td>2018-12-30</td>\n",
              "      <td>0 days 00:05:00</td>\n",
              "    </tr>\n",
              "    <tr>\n",
              "      <th>5</th>\n",
              "      <td>1000_388</td>\n",
              "      <td>1000</td>\n",
              "      <td>2018-12-31</td>\n",
              "      <td>0 days 00:03:00</td>\n",
              "    </tr>\n",
              "    <tr>\n",
              "      <th>6</th>\n",
              "      <td>1000_510</td>\n",
              "      <td>1000</td>\n",
              "      <td>2018-12-27</td>\n",
              "      <td>0 days 00:06:00</td>\n",
              "    </tr>\n",
              "    <tr>\n",
              "      <th>7</th>\n",
              "      <td>1000_521</td>\n",
              "      <td>1000</td>\n",
              "      <td>2018-12-28</td>\n",
              "      <td>0 days 00:15:00</td>\n",
              "    </tr>\n",
              "    <tr>\n",
              "      <th>8</th>\n",
              "      <td>1000_530</td>\n",
              "      <td>1000</td>\n",
              "      <td>2018-12-28</td>\n",
              "      <td>0 days 00:06:00</td>\n",
              "    </tr>\n",
              "    <tr>\n",
              "      <th>9</th>\n",
              "      <td>1000_544</td>\n",
              "      <td>1000</td>\n",
              "      <td>2018-12-26</td>\n",
              "      <td>0 days 00:05:00</td>\n",
              "    </tr>\n",
              "  </tbody>\n",
              "</table>\n",
              "</div>"
            ],
            "text/plain": [
              "         id  user_id  call_date        duration\n",
              "0   1000_93     1000 2018-12-27 0 days 00:09:00\n",
              "1  1000_145     1000 2018-12-27 0 days 00:14:00\n",
              "2  1000_247     1000 2018-12-27 0 days 00:15:00\n",
              "3  1000_309     1000 2018-12-28 0 days 00:06:00\n",
              "4  1000_380     1000 2018-12-30 0 days 00:05:00\n",
              "5  1000_388     1000 2018-12-31 0 days 00:03:00\n",
              "6  1000_510     1000 2018-12-27 0 days 00:06:00\n",
              "7  1000_521     1000 2018-12-28 0 days 00:15:00\n",
              "8  1000_530     1000 2018-12-28 0 days 00:06:00\n",
              "9  1000_544     1000 2018-12-26 0 days 00:05:00"
            ]
          },
          "execution_count": 13,
          "metadata": {},
          "output_type": "execute_result"
        }
      ],
      "source": [
        "# Revisamos la columna 'duration'\n",
        "calls.head(10)"
      ]
    },
    {
      "cell_type": "markdown",
      "metadata": {
        "id": "rIjoszr4SdaL"
      },
      "source": [
        "Como podemos ver, cambiamos los formatos de forma exitosa y los segundos se redondearon a minutos; incluso si la llamada duró solo un segundo, se contará como un minuto a partir de ahora."
      ]
    },
    {
      "cell_type": "markdown",
      "metadata": {
        "id": "7kdTtQTiSdaM"
      },
      "source": [
        "### Enriquecemos los datos"
      ]
    },
    {
      "cell_type": "markdown",
      "metadata": {
        "id": "976Zc2h3SdaM"
      },
      "source": [
        "Aquí agregaremos dos columnas con el número de llamadas realizadas y minutos utilizados al mes, llamadas **calls_monthly** y **minutes_monthly** respectivamente."
      ]
    },
    {
      "cell_type": "code",
      "execution_count": null,
      "metadata": {
        "id": "C9etrPTxSdaM"
      },
      "outputs": [],
      "source": [
        "# Agregamos una nueva columna con el número de llamadas por mes por usuario\n",
        "\n",
        "calls['calls_monthly'] = calls.groupby(['user_id', calls['call_date'].dt.month])['id'].transform('count')"
      ]
    },
    {
      "cell_type": "code",
      "execution_count": null,
      "metadata": {
        "id": "TstlsvC9SdaM",
        "outputId": "7aa6e54f-981e-4d2a-c623-8af14c872502"
      },
      "outputs": [
        {
          "data": {
            "text/html": [
              "<div>\n",
              "<style scoped>\n",
              "    .dataframe tbody tr th:only-of-type {\n",
              "        vertical-align: middle;\n",
              "    }\n",
              "\n",
              "    .dataframe tbody tr th {\n",
              "        vertical-align: top;\n",
              "    }\n",
              "\n",
              "    .dataframe thead th {\n",
              "        text-align: right;\n",
              "    }\n",
              "</style>\n",
              "<table border=\"1\" class=\"dataframe\">\n",
              "  <thead>\n",
              "    <tr style=\"text-align: right;\">\n",
              "      <th></th>\n",
              "      <th>id</th>\n",
              "      <th>user_id</th>\n",
              "      <th>call_date</th>\n",
              "      <th>duration</th>\n",
              "      <th>calls_monthly</th>\n",
              "    </tr>\n",
              "  </thead>\n",
              "  <tbody>\n",
              "    <tr>\n",
              "      <th>0</th>\n",
              "      <td>1000_93</td>\n",
              "      <td>1000</td>\n",
              "      <td>2018-12-27</td>\n",
              "      <td>0 days 00:09:00</td>\n",
              "      <td>16</td>\n",
              "    </tr>\n",
              "    <tr>\n",
              "      <th>1</th>\n",
              "      <td>1000_145</td>\n",
              "      <td>1000</td>\n",
              "      <td>2018-12-27</td>\n",
              "      <td>0 days 00:14:00</td>\n",
              "      <td>16</td>\n",
              "    </tr>\n",
              "    <tr>\n",
              "      <th>2</th>\n",
              "      <td>1000_247</td>\n",
              "      <td>1000</td>\n",
              "      <td>2018-12-27</td>\n",
              "      <td>0 days 00:15:00</td>\n",
              "      <td>16</td>\n",
              "    </tr>\n",
              "    <tr>\n",
              "      <th>3</th>\n",
              "      <td>1000_309</td>\n",
              "      <td>1000</td>\n",
              "      <td>2018-12-28</td>\n",
              "      <td>0 days 00:06:00</td>\n",
              "      <td>16</td>\n",
              "    </tr>\n",
              "    <tr>\n",
              "      <th>4</th>\n",
              "      <td>1000_380</td>\n",
              "      <td>1000</td>\n",
              "      <td>2018-12-30</td>\n",
              "      <td>0 days 00:05:00</td>\n",
              "      <td>16</td>\n",
              "    </tr>\n",
              "    <tr>\n",
              "      <th>5</th>\n",
              "      <td>1000_388</td>\n",
              "      <td>1000</td>\n",
              "      <td>2018-12-31</td>\n",
              "      <td>0 days 00:03:00</td>\n",
              "      <td>16</td>\n",
              "    </tr>\n",
              "    <tr>\n",
              "      <th>6</th>\n",
              "      <td>1000_510</td>\n",
              "      <td>1000</td>\n",
              "      <td>2018-12-27</td>\n",
              "      <td>0 days 00:06:00</td>\n",
              "      <td>16</td>\n",
              "    </tr>\n",
              "    <tr>\n",
              "      <th>7</th>\n",
              "      <td>1000_521</td>\n",
              "      <td>1000</td>\n",
              "      <td>2018-12-28</td>\n",
              "      <td>0 days 00:15:00</td>\n",
              "      <td>16</td>\n",
              "    </tr>\n",
              "    <tr>\n",
              "      <th>8</th>\n",
              "      <td>1000_530</td>\n",
              "      <td>1000</td>\n",
              "      <td>2018-12-28</td>\n",
              "      <td>0 days 00:06:00</td>\n",
              "      <td>16</td>\n",
              "    </tr>\n",
              "    <tr>\n",
              "      <th>9</th>\n",
              "      <td>1000_544</td>\n",
              "      <td>1000</td>\n",
              "      <td>2018-12-26</td>\n",
              "      <td>0 days 00:05:00</td>\n",
              "      <td>16</td>\n",
              "    </tr>\n",
              "    <tr>\n",
              "      <th>10</th>\n",
              "      <td>1000_693</td>\n",
              "      <td>1000</td>\n",
              "      <td>2018-12-31</td>\n",
              "      <td>0 days 00:05:00</td>\n",
              "      <td>16</td>\n",
              "    </tr>\n",
              "    <tr>\n",
              "      <th>11</th>\n",
              "      <td>1000_705</td>\n",
              "      <td>1000</td>\n",
              "      <td>2018-12-31</td>\n",
              "      <td>0 days 00:13:00</td>\n",
              "      <td>16</td>\n",
              "    </tr>\n",
              "    <tr>\n",
              "      <th>12</th>\n",
              "      <td>1000_735</td>\n",
              "      <td>1000</td>\n",
              "      <td>2018-12-29</td>\n",
              "      <td>0 days 00:02:00</td>\n",
              "      <td>16</td>\n",
              "    </tr>\n",
              "    <tr>\n",
              "      <th>13</th>\n",
              "      <td>1000_778</td>\n",
              "      <td>1000</td>\n",
              "      <td>2018-12-28</td>\n",
              "      <td>0 days 00:04:00</td>\n",
              "      <td>16</td>\n",
              "    </tr>\n",
              "    <tr>\n",
              "      <th>14</th>\n",
              "      <td>1000_826</td>\n",
              "      <td>1000</td>\n",
              "      <td>2018-12-26</td>\n",
              "      <td>0 days 00:10:00</td>\n",
              "      <td>16</td>\n",
              "    </tr>\n",
              "  </tbody>\n",
              "</table>\n",
              "</div>"
            ],
            "text/plain": [
              "          id  user_id  call_date        duration  calls_monthly\n",
              "0    1000_93     1000 2018-12-27 0 days 00:09:00             16\n",
              "1   1000_145     1000 2018-12-27 0 days 00:14:00             16\n",
              "2   1000_247     1000 2018-12-27 0 days 00:15:00             16\n",
              "3   1000_309     1000 2018-12-28 0 days 00:06:00             16\n",
              "4   1000_380     1000 2018-12-30 0 days 00:05:00             16\n",
              "5   1000_388     1000 2018-12-31 0 days 00:03:00             16\n",
              "6   1000_510     1000 2018-12-27 0 days 00:06:00             16\n",
              "7   1000_521     1000 2018-12-28 0 days 00:15:00             16\n",
              "8   1000_530     1000 2018-12-28 0 days 00:06:00             16\n",
              "9   1000_544     1000 2018-12-26 0 days 00:05:00             16\n",
              "10  1000_693     1000 2018-12-31 0 days 00:05:00             16\n",
              "11  1000_705     1000 2018-12-31 0 days 00:13:00             16\n",
              "12  1000_735     1000 2018-12-29 0 days 00:02:00             16\n",
              "13  1000_778     1000 2018-12-28 0 days 00:04:00             16\n",
              "14  1000_826     1000 2018-12-26 0 days 00:10:00             16"
            ]
          },
          "execution_count": 15,
          "metadata": {},
          "output_type": "execute_result"
        }
      ],
      "source": [
        "# Revisamos la columna 'calls_monthly'\n",
        "calls.head(15)"
      ]
    },
    {
      "cell_type": "code",
      "execution_count": null,
      "metadata": {
        "id": "xQ2HeuYvSdaM"
      },
      "outputs": [],
      "source": [
        "# Aquí agregaremos la columna 'minutes_monthly'\n",
        "calls['minutes_monthly'] = calls.groupby(['user_id', calls['call_date'].dt.month])['duration'].transform('sum')"
      ]
    },
    {
      "cell_type": "code",
      "execution_count": null,
      "metadata": {
        "id": "nCtPsK1JSdaN",
        "outputId": "8aa3c75f-e4aa-45fb-d321-3040650ac048"
      },
      "outputs": [
        {
          "data": {
            "text/html": [
              "<div>\n",
              "<style scoped>\n",
              "    .dataframe tbody tr th:only-of-type {\n",
              "        vertical-align: middle;\n",
              "    }\n",
              "\n",
              "    .dataframe tbody tr th {\n",
              "        vertical-align: top;\n",
              "    }\n",
              "\n",
              "    .dataframe thead th {\n",
              "        text-align: right;\n",
              "    }\n",
              "</style>\n",
              "<table border=\"1\" class=\"dataframe\">\n",
              "  <thead>\n",
              "    <tr style=\"text-align: right;\">\n",
              "      <th></th>\n",
              "      <th>id</th>\n",
              "      <th>user_id</th>\n",
              "      <th>call_date</th>\n",
              "      <th>duration</th>\n",
              "      <th>calls_monthly</th>\n",
              "      <th>minutes_monthly</th>\n",
              "    </tr>\n",
              "  </thead>\n",
              "  <tbody>\n",
              "    <tr>\n",
              "      <th>0</th>\n",
              "      <td>1000_93</td>\n",
              "      <td>1000</td>\n",
              "      <td>2018-12-27</td>\n",
              "      <td>0 days 00:09:00</td>\n",
              "      <td>16</td>\n",
              "      <td>0 days 02:04:00</td>\n",
              "    </tr>\n",
              "    <tr>\n",
              "      <th>1</th>\n",
              "      <td>1000_145</td>\n",
              "      <td>1000</td>\n",
              "      <td>2018-12-27</td>\n",
              "      <td>0 days 00:14:00</td>\n",
              "      <td>16</td>\n",
              "      <td>0 days 02:04:00</td>\n",
              "    </tr>\n",
              "    <tr>\n",
              "      <th>2</th>\n",
              "      <td>1000_247</td>\n",
              "      <td>1000</td>\n",
              "      <td>2018-12-27</td>\n",
              "      <td>0 days 00:15:00</td>\n",
              "      <td>16</td>\n",
              "      <td>0 days 02:04:00</td>\n",
              "    </tr>\n",
              "    <tr>\n",
              "      <th>3</th>\n",
              "      <td>1000_309</td>\n",
              "      <td>1000</td>\n",
              "      <td>2018-12-28</td>\n",
              "      <td>0 days 00:06:00</td>\n",
              "      <td>16</td>\n",
              "      <td>0 days 02:04:00</td>\n",
              "    </tr>\n",
              "    <tr>\n",
              "      <th>4</th>\n",
              "      <td>1000_380</td>\n",
              "      <td>1000</td>\n",
              "      <td>2018-12-30</td>\n",
              "      <td>0 days 00:05:00</td>\n",
              "      <td>16</td>\n",
              "      <td>0 days 02:04:00</td>\n",
              "    </tr>\n",
              "    <tr>\n",
              "      <th>5</th>\n",
              "      <td>1000_388</td>\n",
              "      <td>1000</td>\n",
              "      <td>2018-12-31</td>\n",
              "      <td>0 days 00:03:00</td>\n",
              "      <td>16</td>\n",
              "      <td>0 days 02:04:00</td>\n",
              "    </tr>\n",
              "    <tr>\n",
              "      <th>6</th>\n",
              "      <td>1000_510</td>\n",
              "      <td>1000</td>\n",
              "      <td>2018-12-27</td>\n",
              "      <td>0 days 00:06:00</td>\n",
              "      <td>16</td>\n",
              "      <td>0 days 02:04:00</td>\n",
              "    </tr>\n",
              "    <tr>\n",
              "      <th>7</th>\n",
              "      <td>1000_521</td>\n",
              "      <td>1000</td>\n",
              "      <td>2018-12-28</td>\n",
              "      <td>0 days 00:15:00</td>\n",
              "      <td>16</td>\n",
              "      <td>0 days 02:04:00</td>\n",
              "    </tr>\n",
              "    <tr>\n",
              "      <th>8</th>\n",
              "      <td>1000_530</td>\n",
              "      <td>1000</td>\n",
              "      <td>2018-12-28</td>\n",
              "      <td>0 days 00:06:00</td>\n",
              "      <td>16</td>\n",
              "      <td>0 days 02:04:00</td>\n",
              "    </tr>\n",
              "    <tr>\n",
              "      <th>9</th>\n",
              "      <td>1000_544</td>\n",
              "      <td>1000</td>\n",
              "      <td>2018-12-26</td>\n",
              "      <td>0 days 00:05:00</td>\n",
              "      <td>16</td>\n",
              "      <td>0 days 02:04:00</td>\n",
              "    </tr>\n",
              "    <tr>\n",
              "      <th>10</th>\n",
              "      <td>1000_693</td>\n",
              "      <td>1000</td>\n",
              "      <td>2018-12-31</td>\n",
              "      <td>0 days 00:05:00</td>\n",
              "      <td>16</td>\n",
              "      <td>0 days 02:04:00</td>\n",
              "    </tr>\n",
              "    <tr>\n",
              "      <th>11</th>\n",
              "      <td>1000_705</td>\n",
              "      <td>1000</td>\n",
              "      <td>2018-12-31</td>\n",
              "      <td>0 days 00:13:00</td>\n",
              "      <td>16</td>\n",
              "      <td>0 days 02:04:00</td>\n",
              "    </tr>\n",
              "    <tr>\n",
              "      <th>12</th>\n",
              "      <td>1000_735</td>\n",
              "      <td>1000</td>\n",
              "      <td>2018-12-29</td>\n",
              "      <td>0 days 00:02:00</td>\n",
              "      <td>16</td>\n",
              "      <td>0 days 02:04:00</td>\n",
              "    </tr>\n",
              "    <tr>\n",
              "      <th>13</th>\n",
              "      <td>1000_778</td>\n",
              "      <td>1000</td>\n",
              "      <td>2018-12-28</td>\n",
              "      <td>0 days 00:04:00</td>\n",
              "      <td>16</td>\n",
              "      <td>0 days 02:04:00</td>\n",
              "    </tr>\n",
              "    <tr>\n",
              "      <th>14</th>\n",
              "      <td>1000_826</td>\n",
              "      <td>1000</td>\n",
              "      <td>2018-12-26</td>\n",
              "      <td>0 days 00:10:00</td>\n",
              "      <td>16</td>\n",
              "      <td>0 days 02:04:00</td>\n",
              "    </tr>\n",
              "  </tbody>\n",
              "</table>\n",
              "</div>"
            ],
            "text/plain": [
              "          id  user_id  call_date        duration  calls_monthly  \\\n",
              "0    1000_93     1000 2018-12-27 0 days 00:09:00             16   \n",
              "1   1000_145     1000 2018-12-27 0 days 00:14:00             16   \n",
              "2   1000_247     1000 2018-12-27 0 days 00:15:00             16   \n",
              "3   1000_309     1000 2018-12-28 0 days 00:06:00             16   \n",
              "4   1000_380     1000 2018-12-30 0 days 00:05:00             16   \n",
              "5   1000_388     1000 2018-12-31 0 days 00:03:00             16   \n",
              "6   1000_510     1000 2018-12-27 0 days 00:06:00             16   \n",
              "7   1000_521     1000 2018-12-28 0 days 00:15:00             16   \n",
              "8   1000_530     1000 2018-12-28 0 days 00:06:00             16   \n",
              "9   1000_544     1000 2018-12-26 0 days 00:05:00             16   \n",
              "10  1000_693     1000 2018-12-31 0 days 00:05:00             16   \n",
              "11  1000_705     1000 2018-12-31 0 days 00:13:00             16   \n",
              "12  1000_735     1000 2018-12-29 0 days 00:02:00             16   \n",
              "13  1000_778     1000 2018-12-28 0 days 00:04:00             16   \n",
              "14  1000_826     1000 2018-12-26 0 days 00:10:00             16   \n",
              "\n",
              "   minutes_monthly  \n",
              "0  0 days 02:04:00  \n",
              "1  0 days 02:04:00  \n",
              "2  0 days 02:04:00  \n",
              "3  0 days 02:04:00  \n",
              "4  0 days 02:04:00  \n",
              "5  0 days 02:04:00  \n",
              "6  0 days 02:04:00  \n",
              "7  0 days 02:04:00  \n",
              "8  0 days 02:04:00  \n",
              "9  0 days 02:04:00  \n",
              "10 0 days 02:04:00  \n",
              "11 0 days 02:04:00  \n",
              "12 0 days 02:04:00  \n",
              "13 0 days 02:04:00  \n",
              "14 0 days 02:04:00  "
            ]
          },
          "execution_count": 17,
          "metadata": {},
          "output_type": "execute_result"
        }
      ],
      "source": [
        "# Revisamos la nueva columna 'minutes_monthly'\n",
        "calls.head(15)"
      ]
    },
    {
      "cell_type": "markdown",
      "metadata": {
        "id": "E3aG6Rm0SdaR"
      },
      "source": [
        "Al revisar nuestras nuevas columnas, todo se ve en orden!"
      ]
    },
    {
      "cell_type": "markdown",
      "metadata": {
        "id": "rN9k1rq1SdaR"
      },
      "source": [
        "## Seguimos con el Dataframe **'internet'**."
      ]
    },
    {
      "cell_type": "code",
      "execution_count": null,
      "metadata": {
        "scrolled": false,
        "id": "AQQA5WjkSdaR",
        "outputId": "b54bd572-9093-4f45-e42c-832e0995f81a"
      },
      "outputs": [
        {
          "data": {
            "text/html": [
              "<div>\n",
              "<style scoped>\n",
              "    .dataframe tbody tr th:only-of-type {\n",
              "        vertical-align: middle;\n",
              "    }\n",
              "\n",
              "    .dataframe tbody tr th {\n",
              "        vertical-align: top;\n",
              "    }\n",
              "\n",
              "    .dataframe thead th {\n",
              "        text-align: right;\n",
              "    }\n",
              "</style>\n",
              "<table border=\"1\" class=\"dataframe\">\n",
              "  <thead>\n",
              "    <tr style=\"text-align: right;\">\n",
              "      <th></th>\n",
              "      <th>id</th>\n",
              "      <th>user_id</th>\n",
              "      <th>session_date</th>\n",
              "      <th>mb_used</th>\n",
              "    </tr>\n",
              "  </thead>\n",
              "  <tbody>\n",
              "    <tr>\n",
              "      <th>0</th>\n",
              "      <td>1000_13</td>\n",
              "      <td>1000</td>\n",
              "      <td>2018-12-29</td>\n",
              "      <td>89.86</td>\n",
              "    </tr>\n",
              "    <tr>\n",
              "      <th>1</th>\n",
              "      <td>1000_204</td>\n",
              "      <td>1000</td>\n",
              "      <td>2018-12-31</td>\n",
              "      <td>0.00</td>\n",
              "    </tr>\n",
              "    <tr>\n",
              "      <th>2</th>\n",
              "      <td>1000_379</td>\n",
              "      <td>1000</td>\n",
              "      <td>2018-12-28</td>\n",
              "      <td>660.40</td>\n",
              "    </tr>\n",
              "    <tr>\n",
              "      <th>3</th>\n",
              "      <td>1000_413</td>\n",
              "      <td>1000</td>\n",
              "      <td>2018-12-26</td>\n",
              "      <td>270.99</td>\n",
              "    </tr>\n",
              "    <tr>\n",
              "      <th>4</th>\n",
              "      <td>1000_442</td>\n",
              "      <td>1000</td>\n",
              "      <td>2018-12-27</td>\n",
              "      <td>880.22</td>\n",
              "    </tr>\n",
              "    <tr>\n",
              "      <th>5</th>\n",
              "      <td>1001_0</td>\n",
              "      <td>1001</td>\n",
              "      <td>2018-08-24</td>\n",
              "      <td>284.68</td>\n",
              "    </tr>\n",
              "    <tr>\n",
              "      <th>6</th>\n",
              "      <td>1001_3</td>\n",
              "      <td>1001</td>\n",
              "      <td>2018-12-09</td>\n",
              "      <td>656.04</td>\n",
              "    </tr>\n",
              "    <tr>\n",
              "      <th>7</th>\n",
              "      <td>1001_4</td>\n",
              "      <td>1001</td>\n",
              "      <td>2018-11-04</td>\n",
              "      <td>16.97</td>\n",
              "    </tr>\n",
              "    <tr>\n",
              "      <th>8</th>\n",
              "      <td>1001_10</td>\n",
              "      <td>1001</td>\n",
              "      <td>2018-11-27</td>\n",
              "      <td>135.18</td>\n",
              "    </tr>\n",
              "    <tr>\n",
              "      <th>9</th>\n",
              "      <td>1001_15</td>\n",
              "      <td>1001</td>\n",
              "      <td>2018-12-13</td>\n",
              "      <td>761.92</td>\n",
              "    </tr>\n",
              "    <tr>\n",
              "      <th>10</th>\n",
              "      <td>1001_16</td>\n",
              "      <td>1001</td>\n",
              "      <td>2018-10-28</td>\n",
              "      <td>501.53</td>\n",
              "    </tr>\n",
              "    <tr>\n",
              "      <th>11</th>\n",
              "      <td>1001_17</td>\n",
              "      <td>1001</td>\n",
              "      <td>2018-09-05</td>\n",
              "      <td>727.29</td>\n",
              "    </tr>\n",
              "    <tr>\n",
              "      <th>12</th>\n",
              "      <td>1001_24</td>\n",
              "      <td>1001</td>\n",
              "      <td>2018-09-05</td>\n",
              "      <td>622.03</td>\n",
              "    </tr>\n",
              "    <tr>\n",
              "      <th>13</th>\n",
              "      <td>1001_25</td>\n",
              "      <td>1001</td>\n",
              "      <td>2018-10-14</td>\n",
              "      <td>310.43</td>\n",
              "    </tr>\n",
              "    <tr>\n",
              "      <th>14</th>\n",
              "      <td>1001_26</td>\n",
              "      <td>1001</td>\n",
              "      <td>2018-09-17</td>\n",
              "      <td>0.00</td>\n",
              "    </tr>\n",
              "  </tbody>\n",
              "</table>\n",
              "</div>"
            ],
            "text/plain": [
              "          id  user_id session_date  mb_used\n",
              "0    1000_13     1000   2018-12-29    89.86\n",
              "1   1000_204     1000   2018-12-31     0.00\n",
              "2   1000_379     1000   2018-12-28   660.40\n",
              "3   1000_413     1000   2018-12-26   270.99\n",
              "4   1000_442     1000   2018-12-27   880.22\n",
              "5     1001_0     1001   2018-08-24   284.68\n",
              "6     1001_3     1001   2018-12-09   656.04\n",
              "7     1001_4     1001   2018-11-04    16.97\n",
              "8    1001_10     1001   2018-11-27   135.18\n",
              "9    1001_15     1001   2018-12-13   761.92\n",
              "10   1001_16     1001   2018-10-28   501.53\n",
              "11   1001_17     1001   2018-09-05   727.29\n",
              "12   1001_24     1001   2018-09-05   622.03\n",
              "13   1001_25     1001   2018-10-14   310.43\n",
              "14   1001_26     1001   2018-09-17     0.00"
            ]
          },
          "execution_count": 18,
          "metadata": {},
          "output_type": "execute_result"
        }
      ],
      "source": [
        "# Echamos un vistazo a nuestra tabla\n",
        "internet.head(15)"
      ]
    },
    {
      "cell_type": "code",
      "execution_count": null,
      "metadata": {
        "id": "UzN1OxrKSdaR",
        "outputId": "aae2aeab-d619-4e3e-f296-bd6b9cac4df4"
      },
      "outputs": [
        {
          "name": "stdout",
          "output_type": "stream",
          "text": [
            "<class 'pandas.core.frame.DataFrame'>\n",
            "RangeIndex: 104825 entries, 0 to 104824\n",
            "Data columns (total 4 columns):\n",
            " #   Column        Non-Null Count   Dtype  \n",
            "---  ------        --------------   -----  \n",
            " 0   id            104825 non-null  object \n",
            " 1   user_id       104825 non-null  int64  \n",
            " 2   session_date  104825 non-null  object \n",
            " 3   mb_used       104825 non-null  float64\n",
            "dtypes: float64(1), int64(1), object(2)\n",
            "memory usage: 3.2+ MB\n",
            "None\n",
            "\n",
            "(104825, 4)\n"
          ]
        }
      ],
      "source": [
        "# Revisamos su información general\n",
        "print(internet.info())\n",
        "print()\n",
        "print(internet.shape)"
      ]
    },
    {
      "cell_type": "code",
      "execution_count": null,
      "metadata": {
        "scrolled": true,
        "id": "Hd2O9d2GSdaR",
        "outputId": "00c0b3d1-79ad-4be6-e703-11f2d800a3e5"
      },
      "outputs": [
        {
          "data": {
            "text/plain": [
              "Index(['id', 'user_id', 'session_date', 'mb_used'], dtype='object')"
            ]
          },
          "execution_count": 20,
          "metadata": {},
          "output_type": "execute_result"
        }
      ],
      "source": [
        "# Revisamos las columnas para ver que esté todo en orden\n",
        "internet.columns"
      ]
    },
    {
      "cell_type": "code",
      "execution_count": null,
      "metadata": {
        "scrolled": true,
        "id": "H5P2fM5LSdaS",
        "outputId": "7e1b66fe-10a7-406f-d8d5-c501e20d8029"
      },
      "outputs": [
        {
          "data": {
            "text/html": [
              "<div>\n",
              "<style scoped>\n",
              "    .dataframe tbody tr th:only-of-type {\n",
              "        vertical-align: middle;\n",
              "    }\n",
              "\n",
              "    .dataframe tbody tr th {\n",
              "        vertical-align: top;\n",
              "    }\n",
              "\n",
              "    .dataframe thead th {\n",
              "        text-align: right;\n",
              "    }\n",
              "</style>\n",
              "<table border=\"1\" class=\"dataframe\">\n",
              "  <thead>\n",
              "    <tr style=\"text-align: right;\">\n",
              "      <th></th>\n",
              "      <th>user_id</th>\n",
              "      <th>mb_used</th>\n",
              "    </tr>\n",
              "  </thead>\n",
              "  <tbody>\n",
              "    <tr>\n",
              "      <th>count</th>\n",
              "      <td>104825.000000</td>\n",
              "      <td>104825.000000</td>\n",
              "    </tr>\n",
              "    <tr>\n",
              "      <th>mean</th>\n",
              "      <td>1242.496361</td>\n",
              "      <td>366.713701</td>\n",
              "    </tr>\n",
              "    <tr>\n",
              "      <th>std</th>\n",
              "      <td>142.053913</td>\n",
              "      <td>277.170542</td>\n",
              "    </tr>\n",
              "    <tr>\n",
              "      <th>min</th>\n",
              "      <td>1000.000000</td>\n",
              "      <td>0.000000</td>\n",
              "    </tr>\n",
              "    <tr>\n",
              "      <th>25%</th>\n",
              "      <td>1122.000000</td>\n",
              "      <td>136.080000</td>\n",
              "    </tr>\n",
              "    <tr>\n",
              "      <th>50%</th>\n",
              "      <td>1236.000000</td>\n",
              "      <td>343.980000</td>\n",
              "    </tr>\n",
              "    <tr>\n",
              "      <th>75%</th>\n",
              "      <td>1367.000000</td>\n",
              "      <td>554.610000</td>\n",
              "    </tr>\n",
              "    <tr>\n",
              "      <th>max</th>\n",
              "      <td>1499.000000</td>\n",
              "      <td>1693.470000</td>\n",
              "    </tr>\n",
              "  </tbody>\n",
              "</table>\n",
              "</div>"
            ],
            "text/plain": [
              "             user_id        mb_used\n",
              "count  104825.000000  104825.000000\n",
              "mean     1242.496361     366.713701\n",
              "std       142.053913     277.170542\n",
              "min      1000.000000       0.000000\n",
              "25%      1122.000000     136.080000\n",
              "50%      1236.000000     343.980000\n",
              "75%      1367.000000     554.610000\n",
              "max      1499.000000    1693.470000"
            ]
          },
          "execution_count": 21,
          "metadata": {},
          "output_type": "execute_result"
        }
      ],
      "source": [
        "# Revisamos su distribución\n",
        "internet.describe()"
      ]
    },
    {
      "cell_type": "code",
      "execution_count": null,
      "metadata": {
        "id": "xUt9XK0ESdaS",
        "outputId": "da3df996-f4d0-419f-ab9b-f0ef0a7cdf65"
      },
      "outputs": [
        {
          "data": {
            "text/plain": [
              "0"
            ]
          },
          "execution_count": 22,
          "metadata": {},
          "output_type": "execute_result"
        }
      ],
      "source": [
        "# Revisamos si hay datos duplicados\n",
        "internet.duplicated().sum()"
      ]
    },
    {
      "cell_type": "markdown",
      "metadata": {
        "id": "mKtKjRkGSdaS"
      },
      "source": [
        "Al analizar la tabla **internet** encontramos lo siguiente:\n",
        "\n",
        " - 1. El DataFrame **internet** se compone de 104.825 filas y 4 columnas.\n",
        " - 2. El formato de los nombres de las columnas está correcto.\n",
        " - 3. Al revisar la información general no encontramos valores ausentes.\n",
        " - 4. No tenemos valores duplicados.\n",
        " - 5. La columna **session_date** está en formato object, **que pasaremos a formato Datetime**, por si en el futuro debemos analizar fechas.\n",
        " - 6. El valor mínimo de la columna **mb_used** es 0, el máximo es 1.693, su media es 366 y mediana 344.\n",
        " - 7. **En este caso, el total del mes se redondea hacia arriba. Si alguien usa 1025 megabytes este mes, se le cobrarán 2 gigabytes. De este modo, crearemos una nueva columna en GB y con los valores redondeados**."
      ]
    },
    {
      "cell_type": "markdown",
      "metadata": {
        "id": "IW52hOkrSdaS"
      },
      "source": [
        "### Corregimos los datos"
      ]
    },
    {
      "cell_type": "code",
      "execution_count": null,
      "metadata": {
        "id": "jQpYWlQLSdaS"
      },
      "outputs": [],
      "source": [
        "# Pasamos la columna 'session_date' a formato Datetime\n",
        "internet.session_date = pd.to_datetime(internet['session_date'], format='%Y-%m-%d')"
      ]
    },
    {
      "cell_type": "markdown",
      "metadata": {
        "id": "ypUKXFaVSdaS"
      },
      "source": [
        "### Enriquecemos los datos"
      ]
    },
    {
      "cell_type": "markdown",
      "metadata": {
        "id": "-rqFKYO9SdaT"
      },
      "source": [
        "Ahora creamos una nueva columna '**mg_monthly**' con el volumen de datos por mes en MB por cada usuario."
      ]
    },
    {
      "cell_type": "code",
      "execution_count": null,
      "metadata": {
        "id": "5rMITHeBSdaT"
      },
      "outputs": [],
      "source": [
        "# Sacamos el total de mb por mes por usuario\n",
        "# Utilizamos la función transform para agregar la columna al dataframe original y que coincidan los índices\n",
        "internet['mg_monthly'] = internet.groupby(['user_id', pd.Grouper(key='session_date', freq='M')])['mb_used'].transform('sum')"
      ]
    },
    {
      "cell_type": "markdown",
      "metadata": {
        "id": "XRzVVsLHSdaT"
      },
      "source": [
        "Creamos una nueva columna '**gb_monthly_rounded**' con los datos en **GB** redondeados, con el fin de alcular el consumo de datos."
      ]
    },
    {
      "cell_type": "code",
      "execution_count": null,
      "metadata": {
        "id": "GyXG4X1MSdaT"
      },
      "outputs": [],
      "source": [
        "internet['gb_monthly'] = internet['mg_monthly'] / 1024\n",
        "internet['gb_monthly_rounded'] = np.ceil(internet['mg_monthly'] / 1024)"
      ]
    },
    {
      "cell_type": "code",
      "execution_count": null,
      "metadata": {
        "id": "PJJvoS9FSdaT",
        "outputId": "8f221379-77d5-46bf-c3d1-5b033589691b"
      },
      "outputs": [
        {
          "data": {
            "text/html": [
              "<div>\n",
              "<style scoped>\n",
              "    .dataframe tbody tr th:only-of-type {\n",
              "        vertical-align: middle;\n",
              "    }\n",
              "\n",
              "    .dataframe tbody tr th {\n",
              "        vertical-align: top;\n",
              "    }\n",
              "\n",
              "    .dataframe thead th {\n",
              "        text-align: right;\n",
              "    }\n",
              "</style>\n",
              "<table border=\"1\" class=\"dataframe\">\n",
              "  <thead>\n",
              "    <tr style=\"text-align: right;\">\n",
              "      <th></th>\n",
              "      <th>id</th>\n",
              "      <th>user_id</th>\n",
              "      <th>session_date</th>\n",
              "      <th>mb_used</th>\n",
              "      <th>mg_monthly</th>\n",
              "      <th>gb_monthly</th>\n",
              "      <th>gb_monthly_rounded</th>\n",
              "    </tr>\n",
              "  </thead>\n",
              "  <tbody>\n",
              "    <tr>\n",
              "      <th>0</th>\n",
              "      <td>1000_13</td>\n",
              "      <td>1000</td>\n",
              "      <td>2018-12-29</td>\n",
              "      <td>89.86</td>\n",
              "      <td>1901.47</td>\n",
              "      <td>1.856904</td>\n",
              "      <td>2.0</td>\n",
              "    </tr>\n",
              "    <tr>\n",
              "      <th>1</th>\n",
              "      <td>1000_204</td>\n",
              "      <td>1000</td>\n",
              "      <td>2018-12-31</td>\n",
              "      <td>0.00</td>\n",
              "      <td>1901.47</td>\n",
              "      <td>1.856904</td>\n",
              "      <td>2.0</td>\n",
              "    </tr>\n",
              "    <tr>\n",
              "      <th>2</th>\n",
              "      <td>1000_379</td>\n",
              "      <td>1000</td>\n",
              "      <td>2018-12-28</td>\n",
              "      <td>660.40</td>\n",
              "      <td>1901.47</td>\n",
              "      <td>1.856904</td>\n",
              "      <td>2.0</td>\n",
              "    </tr>\n",
              "    <tr>\n",
              "      <th>3</th>\n",
              "      <td>1000_413</td>\n",
              "      <td>1000</td>\n",
              "      <td>2018-12-26</td>\n",
              "      <td>270.99</td>\n",
              "      <td>1901.47</td>\n",
              "      <td>1.856904</td>\n",
              "      <td>2.0</td>\n",
              "    </tr>\n",
              "    <tr>\n",
              "      <th>4</th>\n",
              "      <td>1000_442</td>\n",
              "      <td>1000</td>\n",
              "      <td>2018-12-27</td>\n",
              "      <td>880.22</td>\n",
              "      <td>1901.47</td>\n",
              "      <td>1.856904</td>\n",
              "      <td>2.0</td>\n",
              "    </tr>\n",
              "    <tr>\n",
              "      <th>5</th>\n",
              "      <td>1001_0</td>\n",
              "      <td>1001</td>\n",
              "      <td>2018-08-24</td>\n",
              "      <td>284.68</td>\n",
              "      <td>6919.15</td>\n",
              "      <td>6.756982</td>\n",
              "      <td>7.0</td>\n",
              "    </tr>\n",
              "    <tr>\n",
              "      <th>6</th>\n",
              "      <td>1001_3</td>\n",
              "      <td>1001</td>\n",
              "      <td>2018-12-09</td>\n",
              "      <td>656.04</td>\n",
              "      <td>19369.18</td>\n",
              "      <td>18.915215</td>\n",
              "      <td>19.0</td>\n",
              "    </tr>\n",
              "    <tr>\n",
              "      <th>7</th>\n",
              "      <td>1001_4</td>\n",
              "      <td>1001</td>\n",
              "      <td>2018-11-04</td>\n",
              "      <td>16.97</td>\n",
              "      <td>18504.30</td>\n",
              "      <td>18.070605</td>\n",
              "      <td>19.0</td>\n",
              "    </tr>\n",
              "    <tr>\n",
              "      <th>8</th>\n",
              "      <td>1001_10</td>\n",
              "      <td>1001</td>\n",
              "      <td>2018-11-27</td>\n",
              "      <td>135.18</td>\n",
              "      <td>18504.30</td>\n",
              "      <td>18.070605</td>\n",
              "      <td>19.0</td>\n",
              "    </tr>\n",
              "    <tr>\n",
              "      <th>9</th>\n",
              "      <td>1001_15</td>\n",
              "      <td>1001</td>\n",
              "      <td>2018-12-13</td>\n",
              "      <td>761.92</td>\n",
              "      <td>19369.18</td>\n",
              "      <td>18.915215</td>\n",
              "      <td>19.0</td>\n",
              "    </tr>\n",
              "  </tbody>\n",
              "</table>\n",
              "</div>"
            ],
            "text/plain": [
              "         id  user_id session_date  mb_used  mg_monthly  gb_monthly  \\\n",
              "0   1000_13     1000   2018-12-29    89.86     1901.47    1.856904   \n",
              "1  1000_204     1000   2018-12-31     0.00     1901.47    1.856904   \n",
              "2  1000_379     1000   2018-12-28   660.40     1901.47    1.856904   \n",
              "3  1000_413     1000   2018-12-26   270.99     1901.47    1.856904   \n",
              "4  1000_442     1000   2018-12-27   880.22     1901.47    1.856904   \n",
              "5    1001_0     1001   2018-08-24   284.68     6919.15    6.756982   \n",
              "6    1001_3     1001   2018-12-09   656.04    19369.18   18.915215   \n",
              "7    1001_4     1001   2018-11-04    16.97    18504.30   18.070605   \n",
              "8   1001_10     1001   2018-11-27   135.18    18504.30   18.070605   \n",
              "9   1001_15     1001   2018-12-13   761.92    19369.18   18.915215   \n",
              "\n",
              "   gb_monthly_rounded  \n",
              "0                 2.0  \n",
              "1                 2.0  \n",
              "2                 2.0  \n",
              "3                 2.0  \n",
              "4                 2.0  \n",
              "5                 7.0  \n",
              "6                19.0  \n",
              "7                19.0  \n",
              "8                19.0  \n",
              "9                19.0  "
            ]
          },
          "execution_count": 26,
          "metadata": {},
          "output_type": "execute_result"
        }
      ],
      "source": [
        "# Revisamos nuestra nueva columna 'gb_monthly_rounded'\n",
        "internet.head(10)"
      ]
    },
    {
      "cell_type": "code",
      "execution_count": null,
      "metadata": {
        "id": "MTjMaOEiSdaU",
        "outputId": "72462605-ecbb-44e4-8f80-ec5277845b6a"
      },
      "outputs": [
        {
          "name": "stdout",
          "output_type": "stream",
          "text": [
            "<class 'pandas.core.frame.DataFrame'>\n",
            "RangeIndex: 104825 entries, 0 to 104824\n",
            "Data columns (total 7 columns):\n",
            " #   Column              Non-Null Count   Dtype         \n",
            "---  ------              --------------   -----         \n",
            " 0   id                  104825 non-null  object        \n",
            " 1   user_id             104825 non-null  int64         \n",
            " 2   session_date        104825 non-null  datetime64[ns]\n",
            " 3   mb_used             104825 non-null  float64       \n",
            " 4   mg_monthly          104825 non-null  float64       \n",
            " 5   gb_monthly          104825 non-null  float64       \n",
            " 6   gb_monthly_rounded  104825 non-null  float64       \n",
            "dtypes: datetime64[ns](1), float64(4), int64(1), object(1)\n",
            "memory usage: 5.6+ MB\n"
          ]
        }
      ],
      "source": [
        "# Revisamos que esté todo bien con nuestras columnas\n",
        "internet.info()"
      ]
    },
    {
      "cell_type": "markdown",
      "metadata": {
        "id": "6thtVQ-DSdaU"
      },
      "source": [
        "Como se puede ver, **agregamos la columna 'bg_monthly_rounded'** con la que calcularemos el consumo de datos; y **pasamos la columna 'session_date' a formato Datetime**."
      ]
    },
    {
      "cell_type": "markdown",
      "metadata": {
        "id": "h7VWHC3mSdaU"
      },
      "source": [
        "## Seguimos con el DataFrame **'messages'**."
      ]
    },
    {
      "cell_type": "code",
      "execution_count": null,
      "metadata": {
        "scrolled": true,
        "id": "J9mjjDqQSdaU",
        "outputId": "b39e5aa3-bf46-49a8-dc45-cfd8500f49f3"
      },
      "outputs": [
        {
          "name": "stdout",
          "output_type": "stream",
          "text": [
            "         id  user_id message_date\n",
            "0  1000_125     1000   2018-12-27\n",
            "1  1000_160     1000   2018-12-31\n",
            "2  1000_223     1000   2018-12-31\n",
            "3  1000_251     1000   2018-12-27\n",
            "4  1000_255     1000   2018-12-26\n",
            "5  1000_346     1000   2018-12-29\n",
            "6  1000_386     1000   2018-12-30\n",
            "7  1000_413     1000   2018-12-31\n",
            "8  1000_502     1000   2018-12-27\n",
            "9  1000_525     1000   2018-12-28\n",
            "\n",
            "             id  user_id message_date\n",
            "76041  1497_502     1497   2018-12-30\n",
            "76042  1497_503     1497   2018-12-29\n",
            "76043  1497_507     1497   2018-12-23\n",
            "76044  1497_517     1497   2018-12-17\n",
            "76045  1497_524     1497   2018-12-12\n",
            "76046  1497_526     1497   2018-12-24\n",
            "76047  1497_536     1497   2018-12-24\n",
            "76048  1497_547     1497   2018-12-31\n",
            "76049  1497_558     1497   2018-12-24\n",
            "76050  1497_613     1497   2018-12-23\n"
          ]
        }
      ],
      "source": [
        "# Echamos un vistazo a nuestra tabla\n",
        "print(messages.head(10))\n",
        "print()\n",
        "print(messages.tail(10))"
      ]
    },
    {
      "cell_type": "code",
      "execution_count": null,
      "metadata": {
        "id": "bsmcSNUDSdaU",
        "outputId": "5ce301ff-d9ec-4551-ac28-6a3416bef48f"
      },
      "outputs": [
        {
          "name": "stdout",
          "output_type": "stream",
          "text": [
            "<class 'pandas.core.frame.DataFrame'>\n",
            "RangeIndex: 76051 entries, 0 to 76050\n",
            "Data columns (total 3 columns):\n",
            " #   Column        Non-Null Count  Dtype \n",
            "---  ------        --------------  ----- \n",
            " 0   id            76051 non-null  object\n",
            " 1   user_id       76051 non-null  int64 \n",
            " 2   message_date  76051 non-null  object\n",
            "dtypes: int64(1), object(2)\n",
            "memory usage: 1.7+ MB\n",
            "None\n",
            "\n",
            "(76051, 3)\n"
          ]
        }
      ],
      "source": [
        "# Revisamos su información general\n",
        "print(messages.info())\n",
        "print()\n",
        "print(messages.shape)"
      ]
    },
    {
      "cell_type": "code",
      "execution_count": null,
      "metadata": {
        "id": "e6cW2iJ4SdaU",
        "outputId": "5fdcfc40-34ec-4142-9026-40e3f279e26e"
      },
      "outputs": [
        {
          "data": {
            "text/plain": [
              "Index(['id', 'user_id', 'message_date'], dtype='object')"
            ]
          },
          "execution_count": 30,
          "metadata": {},
          "output_type": "execute_result"
        }
      ],
      "source": [
        "# Revisamos las columnas para ver que esté todo en orden\n",
        "messages.columns"
      ]
    },
    {
      "cell_type": "markdown",
      "metadata": {
        "id": "l82-5NDsSdaV"
      },
      "source": [
        "**En este caso no es necesario revisar distribución, ya que solo hay dos columnas con 'ids' y una con fechas.**"
      ]
    },
    {
      "cell_type": "code",
      "execution_count": null,
      "metadata": {
        "id": "xtjo7mP3SdaV",
        "outputId": "1f50516d-bb14-40de-dcca-bbe5d7c01111"
      },
      "outputs": [
        {
          "data": {
            "text/plain": [
              "0"
            ]
          },
          "execution_count": 31,
          "metadata": {},
          "output_type": "execute_result"
        }
      ],
      "source": [
        "# Revisamos si hay datos duplicados\n",
        "messages.duplicated().sum()"
      ]
    },
    {
      "cell_type": "markdown",
      "metadata": {
        "id": "MU6XeFc2SdaV"
      },
      "source": [
        "Al analizar la tabla **messages** encontramos lo siguiente:\n",
        "\n",
        " - 1. El DataFrame **messages** se compone de 76.051 filas y 3 columnas.\n",
        " - 2. El formato de de los nombres de las columnas está correcto.\n",
        " - 3. Al revisar la información general no encontramos valores ausentes.\n",
        " - 4. No tenemos valores duplicados.\n",
        " - 5. La columna **message_date** está en formato object, **que pasaremos a formato Datetime**, por si en el futuro debemos analizar fechas.\n",
        " - 7. En este caso no fue necesario revisar distribución, ya que solo hay dos columnas con 'ids' y una con fechas."
      ]
    },
    {
      "cell_type": "markdown",
      "metadata": {
        "id": "nT0-UQPKSdaV"
      },
      "source": [
        "### Corregimos los datos"
      ]
    },
    {
      "cell_type": "code",
      "execution_count": null,
      "metadata": {
        "id": "_nr7Ab52SdaV"
      },
      "outputs": [],
      "source": [
        "# Cambiamos 'message_date' a formato Datetime\n",
        "messages.message_date = pd.to_datetime(messages['message_date'], format='%Y-%m-%d')"
      ]
    },
    {
      "cell_type": "code",
      "execution_count": null,
      "metadata": {
        "id": "dU1qn2M2SdaV",
        "outputId": "f287c0f0-b3c1-4239-8853-f599f203c852"
      },
      "outputs": [
        {
          "name": "stdout",
          "output_type": "stream",
          "text": [
            "<class 'pandas.core.frame.DataFrame'>\n",
            "RangeIndex: 76051 entries, 0 to 76050\n",
            "Data columns (total 3 columns):\n",
            " #   Column        Non-Null Count  Dtype         \n",
            "---  ------        --------------  -----         \n",
            " 0   id            76051 non-null  object        \n",
            " 1   user_id       76051 non-null  int64         \n",
            " 2   message_date  76051 non-null  datetime64[ns]\n",
            "dtypes: datetime64[ns](1), int64(1), object(1)\n",
            "memory usage: 1.7+ MB\n"
          ]
        }
      ],
      "source": [
        "# Revisamos los cambios\n",
        "messages.info()"
      ]
    },
    {
      "cell_type": "markdown",
      "metadata": {
        "id": "0hoKZ9wVSdaW"
      },
      "source": [
        "### Enriquecer los datos"
      ]
    },
    {
      "cell_type": "markdown",
      "metadata": {
        "id": "3-7cegA5SdaW"
      },
      "source": [
        "Aquí agregaremos una columna con la cantidad de los SMS enviados por mes. La llamaremos **sms_monthly**."
      ]
    },
    {
      "cell_type": "code",
      "execution_count": null,
      "metadata": {
        "id": "3b2ARBADSdaW"
      },
      "outputs": [],
      "source": [
        "# Agregar una columna con el número de mensajes por mes para cada usuario\n",
        "messages['sms_monthly'] = messages.groupby(['user_id', messages['message_date'].dt.month])['id'].transform('count')"
      ]
    },
    {
      "cell_type": "code",
      "execution_count": null,
      "metadata": {
        "id": "AdDFlVeZSdaW",
        "outputId": "7c36c7a4-3d9f-4017-ac13-9e87b9e6c400"
      },
      "outputs": [
        {
          "data": {
            "text/html": [
              "<div>\n",
              "<style scoped>\n",
              "    .dataframe tbody tr th:only-of-type {\n",
              "        vertical-align: middle;\n",
              "    }\n",
              "\n",
              "    .dataframe tbody tr th {\n",
              "        vertical-align: top;\n",
              "    }\n",
              "\n",
              "    .dataframe thead th {\n",
              "        text-align: right;\n",
              "    }\n",
              "</style>\n",
              "<table border=\"1\" class=\"dataframe\">\n",
              "  <thead>\n",
              "    <tr style=\"text-align: right;\">\n",
              "      <th></th>\n",
              "      <th>id</th>\n",
              "      <th>user_id</th>\n",
              "      <th>message_date</th>\n",
              "      <th>sms_monthly</th>\n",
              "    </tr>\n",
              "  </thead>\n",
              "  <tbody>\n",
              "    <tr>\n",
              "      <th>0</th>\n",
              "      <td>1000_125</td>\n",
              "      <td>1000</td>\n",
              "      <td>2018-12-27</td>\n",
              "      <td>11</td>\n",
              "    </tr>\n",
              "    <tr>\n",
              "      <th>1</th>\n",
              "      <td>1000_160</td>\n",
              "      <td>1000</td>\n",
              "      <td>2018-12-31</td>\n",
              "      <td>11</td>\n",
              "    </tr>\n",
              "    <tr>\n",
              "      <th>2</th>\n",
              "      <td>1000_223</td>\n",
              "      <td>1000</td>\n",
              "      <td>2018-12-31</td>\n",
              "      <td>11</td>\n",
              "    </tr>\n",
              "    <tr>\n",
              "      <th>3</th>\n",
              "      <td>1000_251</td>\n",
              "      <td>1000</td>\n",
              "      <td>2018-12-27</td>\n",
              "      <td>11</td>\n",
              "    </tr>\n",
              "    <tr>\n",
              "      <th>4</th>\n",
              "      <td>1000_255</td>\n",
              "      <td>1000</td>\n",
              "      <td>2018-12-26</td>\n",
              "      <td>11</td>\n",
              "    </tr>\n",
              "    <tr>\n",
              "      <th>...</th>\n",
              "      <td>...</td>\n",
              "      <td>...</td>\n",
              "      <td>...</td>\n",
              "      <td>...</td>\n",
              "    </tr>\n",
              "    <tr>\n",
              "      <th>76046</th>\n",
              "      <td>1497_526</td>\n",
              "      <td>1497</td>\n",
              "      <td>2018-12-24</td>\n",
              "      <td>50</td>\n",
              "    </tr>\n",
              "    <tr>\n",
              "      <th>76047</th>\n",
              "      <td>1497_536</td>\n",
              "      <td>1497</td>\n",
              "      <td>2018-12-24</td>\n",
              "      <td>50</td>\n",
              "    </tr>\n",
              "    <tr>\n",
              "      <th>76048</th>\n",
              "      <td>1497_547</td>\n",
              "      <td>1497</td>\n",
              "      <td>2018-12-31</td>\n",
              "      <td>50</td>\n",
              "    </tr>\n",
              "    <tr>\n",
              "      <th>76049</th>\n",
              "      <td>1497_558</td>\n",
              "      <td>1497</td>\n",
              "      <td>2018-12-24</td>\n",
              "      <td>50</td>\n",
              "    </tr>\n",
              "    <tr>\n",
              "      <th>76050</th>\n",
              "      <td>1497_613</td>\n",
              "      <td>1497</td>\n",
              "      <td>2018-12-23</td>\n",
              "      <td>50</td>\n",
              "    </tr>\n",
              "  </tbody>\n",
              "</table>\n",
              "<p>76051 rows × 4 columns</p>\n",
              "</div>"
            ],
            "text/plain": [
              "             id  user_id message_date  sms_monthly\n",
              "0      1000_125     1000   2018-12-27           11\n",
              "1      1000_160     1000   2018-12-31           11\n",
              "2      1000_223     1000   2018-12-31           11\n",
              "3      1000_251     1000   2018-12-27           11\n",
              "4      1000_255     1000   2018-12-26           11\n",
              "...         ...      ...          ...          ...\n",
              "76046  1497_526     1497   2018-12-24           50\n",
              "76047  1497_536     1497   2018-12-24           50\n",
              "76048  1497_547     1497   2018-12-31           50\n",
              "76049  1497_558     1497   2018-12-24           50\n",
              "76050  1497_613     1497   2018-12-23           50\n",
              "\n",
              "[76051 rows x 4 columns]"
            ]
          },
          "execution_count": 35,
          "metadata": {},
          "output_type": "execute_result"
        }
      ],
      "source": [
        "# Revisamos la columna 'sms_monthly'\n",
        "messages"
      ]
    },
    {
      "cell_type": "markdown",
      "metadata": {
        "id": "pDrymwVPSdaX"
      },
      "source": [
        "Como se puede observar, pasamos la columna **'message_date'** a formato **Datetime**. También agregamo una nueva columna con la cantidad de SMS enviados por mes por cada usuario, llamada **sms_monthly**."
      ]
    },
    {
      "cell_type": "markdown",
      "metadata": {
        "id": "-CiO55rWSdaX"
      },
      "source": [
        "## Revisamos el Dataframe **'plans'**."
      ]
    },
    {
      "cell_type": "code",
      "execution_count": null,
      "metadata": {
        "scrolled": false,
        "id": "x4latJ-2SdaX",
        "outputId": "4e559180-ab10-4f86-bb21-44894a1dd4ac"
      },
      "outputs": [
        {
          "data": {
            "text/html": [
              "<div>\n",
              "<style scoped>\n",
              "    .dataframe tbody tr th:only-of-type {\n",
              "        vertical-align: middle;\n",
              "    }\n",
              "\n",
              "    .dataframe tbody tr th {\n",
              "        vertical-align: top;\n",
              "    }\n",
              "\n",
              "    .dataframe thead th {\n",
              "        text-align: right;\n",
              "    }\n",
              "</style>\n",
              "<table border=\"1\" class=\"dataframe\">\n",
              "  <thead>\n",
              "    <tr style=\"text-align: right;\">\n",
              "      <th></th>\n",
              "      <th>messages_included</th>\n",
              "      <th>mb_per_month_included</th>\n",
              "      <th>minutes_included</th>\n",
              "      <th>usd_monthly_pay</th>\n",
              "      <th>usd_per_gb</th>\n",
              "      <th>usd_per_message</th>\n",
              "      <th>usd_per_minute</th>\n",
              "      <th>plan_name</th>\n",
              "    </tr>\n",
              "  </thead>\n",
              "  <tbody>\n",
              "    <tr>\n",
              "      <th>0</th>\n",
              "      <td>50</td>\n",
              "      <td>15360</td>\n",
              "      <td>500</td>\n",
              "      <td>20</td>\n",
              "      <td>10</td>\n",
              "      <td>0.03</td>\n",
              "      <td>0.03</td>\n",
              "      <td>surf</td>\n",
              "    </tr>\n",
              "    <tr>\n",
              "      <th>1</th>\n",
              "      <td>1000</td>\n",
              "      <td>30720</td>\n",
              "      <td>3000</td>\n",
              "      <td>70</td>\n",
              "      <td>7</td>\n",
              "      <td>0.01</td>\n",
              "      <td>0.01</td>\n",
              "      <td>ultimate</td>\n",
              "    </tr>\n",
              "  </tbody>\n",
              "</table>\n",
              "</div>"
            ],
            "text/plain": [
              "   messages_included  mb_per_month_included  minutes_included  \\\n",
              "0                 50                  15360               500   \n",
              "1               1000                  30720              3000   \n",
              "\n",
              "   usd_monthly_pay  usd_per_gb  usd_per_message  usd_per_minute plan_name  \n",
              "0               20          10             0.03            0.03      surf  \n",
              "1               70           7             0.01            0.01  ultimate  "
            ]
          },
          "execution_count": 36,
          "metadata": {},
          "output_type": "execute_result"
        }
      ],
      "source": [
        "# Echamos un vistazo a nuestra tabla\n",
        "plans"
      ]
    },
    {
      "cell_type": "code",
      "execution_count": null,
      "metadata": {
        "id": "9iPZmbU3SdaY",
        "outputId": "2ba5b392-772c-4ae8-d336-bf94bb8fab11"
      },
      "outputs": [
        {
          "name": "stdout",
          "output_type": "stream",
          "text": [
            "<class 'pandas.core.frame.DataFrame'>\n",
            "RangeIndex: 2 entries, 0 to 1\n",
            "Data columns (total 8 columns):\n",
            " #   Column                 Non-Null Count  Dtype  \n",
            "---  ------                 --------------  -----  \n",
            " 0   messages_included      2 non-null      int64  \n",
            " 1   mb_per_month_included  2 non-null      int64  \n",
            " 2   minutes_included       2 non-null      int64  \n",
            " 3   usd_monthly_pay        2 non-null      int64  \n",
            " 4   usd_per_gb             2 non-null      int64  \n",
            " 5   usd_per_message        2 non-null      float64\n",
            " 6   usd_per_minute         2 non-null      float64\n",
            " 7   plan_name              2 non-null      object \n",
            "dtypes: float64(2), int64(5), object(1)\n",
            "memory usage: 256.0+ bytes\n",
            "None\n",
            "\n",
            "(2, 8)\n"
          ]
        }
      ],
      "source": [
        "# Revisamos su información general\n",
        "print(plans.info())\n",
        "print()\n",
        "print(plans.shape)"
      ]
    },
    {
      "cell_type": "code",
      "execution_count": null,
      "metadata": {
        "id": "nU8S87zYSdaZ",
        "outputId": "54cef7d4-31cb-496a-8df5-a480885f90ac"
      },
      "outputs": [
        {
          "data": {
            "text/plain": [
              "Index(['messages_included', 'mb_per_month_included', 'minutes_included',\n",
              "       'usd_monthly_pay', 'usd_per_gb', 'usd_per_message', 'usd_per_minute',\n",
              "       'plan_name'],\n",
              "      dtype='object')"
            ]
          },
          "execution_count": 38,
          "metadata": {},
          "output_type": "execute_result"
        }
      ],
      "source": [
        "# Revisamos las columnas para ver que esté todo en orden\n",
        "plans.columns"
      ]
    },
    {
      "cell_type": "markdown",
      "metadata": {
        "id": "qLgiN7BpSdaZ"
      },
      "source": [
        "**En este caso no es necesario revisar distribución, ya que solo hay dos filas que representan los valores de las características de los planes 'Surf' y 'Ultimate'**."
      ]
    },
    {
      "cell_type": "markdown",
      "metadata": {
        "id": "bb1WZy3sSdaa"
      },
      "source": [
        "**Tampoco revisaremos duplicados ya que solo tenemos dos filas**"
      ]
    },
    {
      "cell_type": "markdown",
      "metadata": {
        "id": "CArTaoAESdaa"
      },
      "source": [
        "Al analizar la tabla **plans** encontramos lo siguiente:\n",
        "\n",
        " - 1. El DataFrame **plans** se compone de 2 filas y 8 columnas.\n",
        " - 2. El formato de de los nombres de las columnas está correcto.\n",
        " - 3. Al revisar la información general no encontramos valores ausentes.\n",
        " - 4. No tenemos valores duplicados.\n",
        " - 5. Los formatos de las columnas son correctos.\n",
        " - 7. En este caso no fue necesario revisar distribución, ya que solo hay dos filas que representan los valores de las características de los plabes 'Surf' y 'Ultimate'.\n",
        "\n",
        " Con esta tabla está todo en orden."
      ]
    },
    {
      "cell_type": "markdown",
      "metadata": {
        "id": "ZC30DCrxSdaa"
      },
      "source": [
        "###  Finalmente revisamos el DataFrame **'users'**."
      ]
    },
    {
      "cell_type": "code",
      "execution_count": null,
      "metadata": {
        "scrolled": false,
        "id": "f4TlUqtISdaa",
        "outputId": "ca05bb92-5bb3-42c5-8267-fe0e48ef4c2e"
      },
      "outputs": [
        {
          "data": {
            "text/html": [
              "<div>\n",
              "<style scoped>\n",
              "    .dataframe tbody tr th:only-of-type {\n",
              "        vertical-align: middle;\n",
              "    }\n",
              "\n",
              "    .dataframe tbody tr th {\n",
              "        vertical-align: top;\n",
              "    }\n",
              "\n",
              "    .dataframe thead th {\n",
              "        text-align: right;\n",
              "    }\n",
              "</style>\n",
              "<table border=\"1\" class=\"dataframe\">\n",
              "  <thead>\n",
              "    <tr style=\"text-align: right;\">\n",
              "      <th></th>\n",
              "      <th>user_id</th>\n",
              "      <th>first_name</th>\n",
              "      <th>last_name</th>\n",
              "      <th>age</th>\n",
              "      <th>city</th>\n",
              "      <th>reg_date</th>\n",
              "      <th>plan</th>\n",
              "      <th>churn_date</th>\n",
              "    </tr>\n",
              "  </thead>\n",
              "  <tbody>\n",
              "    <tr>\n",
              "      <th>0</th>\n",
              "      <td>1000</td>\n",
              "      <td>Anamaria</td>\n",
              "      <td>Bauer</td>\n",
              "      <td>45</td>\n",
              "      <td>Atlanta-Sandy Springs-Roswell, GA MSA</td>\n",
              "      <td>2018-12-24</td>\n",
              "      <td>ultimate</td>\n",
              "      <td>NaN</td>\n",
              "    </tr>\n",
              "    <tr>\n",
              "      <th>1</th>\n",
              "      <td>1001</td>\n",
              "      <td>Mickey</td>\n",
              "      <td>Wilkerson</td>\n",
              "      <td>28</td>\n",
              "      <td>Seattle-Tacoma-Bellevue, WA MSA</td>\n",
              "      <td>2018-08-13</td>\n",
              "      <td>surf</td>\n",
              "      <td>NaN</td>\n",
              "    </tr>\n",
              "    <tr>\n",
              "      <th>2</th>\n",
              "      <td>1002</td>\n",
              "      <td>Carlee</td>\n",
              "      <td>Hoffman</td>\n",
              "      <td>36</td>\n",
              "      <td>Las Vegas-Henderson-Paradise, NV MSA</td>\n",
              "      <td>2018-10-21</td>\n",
              "      <td>surf</td>\n",
              "      <td>NaN</td>\n",
              "    </tr>\n",
              "    <tr>\n",
              "      <th>3</th>\n",
              "      <td>1003</td>\n",
              "      <td>Reynaldo</td>\n",
              "      <td>Jenkins</td>\n",
              "      <td>52</td>\n",
              "      <td>Tulsa, OK MSA</td>\n",
              "      <td>2018-01-28</td>\n",
              "      <td>surf</td>\n",
              "      <td>NaN</td>\n",
              "    </tr>\n",
              "    <tr>\n",
              "      <th>4</th>\n",
              "      <td>1004</td>\n",
              "      <td>Leonila</td>\n",
              "      <td>Thompson</td>\n",
              "      <td>40</td>\n",
              "      <td>Seattle-Tacoma-Bellevue, WA MSA</td>\n",
              "      <td>2018-05-23</td>\n",
              "      <td>surf</td>\n",
              "      <td>NaN</td>\n",
              "    </tr>\n",
              "    <tr>\n",
              "      <th>5</th>\n",
              "      <td>1005</td>\n",
              "      <td>Livia</td>\n",
              "      <td>Shields</td>\n",
              "      <td>31</td>\n",
              "      <td>Dallas-Fort Worth-Arlington, TX MSA</td>\n",
              "      <td>2018-11-29</td>\n",
              "      <td>surf</td>\n",
              "      <td>NaN</td>\n",
              "    </tr>\n",
              "    <tr>\n",
              "      <th>6</th>\n",
              "      <td>1006</td>\n",
              "      <td>Jesusa</td>\n",
              "      <td>Bradford</td>\n",
              "      <td>73</td>\n",
              "      <td>San Francisco-Oakland-Berkeley, CA MSA</td>\n",
              "      <td>2018-11-27</td>\n",
              "      <td>ultimate</td>\n",
              "      <td>2018-12-18</td>\n",
              "    </tr>\n",
              "    <tr>\n",
              "      <th>7</th>\n",
              "      <td>1007</td>\n",
              "      <td>Eusebio</td>\n",
              "      <td>Welch</td>\n",
              "      <td>42</td>\n",
              "      <td>Grand Rapids-Kentwood, MI MSA</td>\n",
              "      <td>2018-07-11</td>\n",
              "      <td>surf</td>\n",
              "      <td>NaN</td>\n",
              "    </tr>\n",
              "    <tr>\n",
              "      <th>8</th>\n",
              "      <td>1008</td>\n",
              "      <td>Emely</td>\n",
              "      <td>Hoffman</td>\n",
              "      <td>53</td>\n",
              "      <td>Orlando-Kissimmee-Sanford, FL MSA</td>\n",
              "      <td>2018-08-03</td>\n",
              "      <td>ultimate</td>\n",
              "      <td>NaN</td>\n",
              "    </tr>\n",
              "    <tr>\n",
              "      <th>9</th>\n",
              "      <td>1009</td>\n",
              "      <td>Gerry</td>\n",
              "      <td>Little</td>\n",
              "      <td>19</td>\n",
              "      <td>San Jose-Sunnyvale-Santa Clara, CA MSA</td>\n",
              "      <td>2018-04-22</td>\n",
              "      <td>surf</td>\n",
              "      <td>NaN</td>\n",
              "    </tr>\n",
              "    <tr>\n",
              "      <th>10</th>\n",
              "      <td>1010</td>\n",
              "      <td>Wilber</td>\n",
              "      <td>Blair</td>\n",
              "      <td>52</td>\n",
              "      <td>Dallas-Fort Worth-Arlington, TX MSA</td>\n",
              "      <td>2018-03-09</td>\n",
              "      <td>surf</td>\n",
              "      <td>NaN</td>\n",
              "    </tr>\n",
              "    <tr>\n",
              "      <th>11</th>\n",
              "      <td>1011</td>\n",
              "      <td>Halina</td>\n",
              "      <td>Henry</td>\n",
              "      <td>73</td>\n",
              "      <td>Cleveland-Elyria, OH MSA</td>\n",
              "      <td>2018-01-18</td>\n",
              "      <td>ultimate</td>\n",
              "      <td>NaN</td>\n",
              "    </tr>\n",
              "    <tr>\n",
              "      <th>12</th>\n",
              "      <td>1012</td>\n",
              "      <td>Jonelle</td>\n",
              "      <td>Mcbride</td>\n",
              "      <td>59</td>\n",
              "      <td>Chicago-Naperville-Elgin, IL-IN-WI MSA</td>\n",
              "      <td>2018-06-28</td>\n",
              "      <td>surf</td>\n",
              "      <td>2018-11-16</td>\n",
              "    </tr>\n",
              "    <tr>\n",
              "      <th>13</th>\n",
              "      <td>1013</td>\n",
              "      <td>Nicolas</td>\n",
              "      <td>Snider</td>\n",
              "      <td>50</td>\n",
              "      <td>Knoxville, TN MSA</td>\n",
              "      <td>2018-12-01</td>\n",
              "      <td>ultimate</td>\n",
              "      <td>NaN</td>\n",
              "    </tr>\n",
              "    <tr>\n",
              "      <th>14</th>\n",
              "      <td>1014</td>\n",
              "      <td>Edmundo</td>\n",
              "      <td>Simon</td>\n",
              "      <td>61</td>\n",
              "      <td>New York-Newark-Jersey City, NY-NJ-PA MSA</td>\n",
              "      <td>2018-11-25</td>\n",
              "      <td>surf</td>\n",
              "      <td>NaN</td>\n",
              "    </tr>\n",
              "  </tbody>\n",
              "</table>\n",
              "</div>"
            ],
            "text/plain": [
              "    user_id first_name  last_name  age  \\\n",
              "0      1000   Anamaria      Bauer   45   \n",
              "1      1001     Mickey  Wilkerson   28   \n",
              "2      1002     Carlee    Hoffman   36   \n",
              "3      1003   Reynaldo    Jenkins   52   \n",
              "4      1004    Leonila   Thompson   40   \n",
              "5      1005      Livia    Shields   31   \n",
              "6      1006     Jesusa   Bradford   73   \n",
              "7      1007    Eusebio      Welch   42   \n",
              "8      1008      Emely    Hoffman   53   \n",
              "9      1009      Gerry     Little   19   \n",
              "10     1010     Wilber      Blair   52   \n",
              "11     1011     Halina      Henry   73   \n",
              "12     1012    Jonelle    Mcbride   59   \n",
              "13     1013    Nicolas     Snider   50   \n",
              "14     1014    Edmundo      Simon   61   \n",
              "\n",
              "                                         city    reg_date      plan  \\\n",
              "0       Atlanta-Sandy Springs-Roswell, GA MSA  2018-12-24  ultimate   \n",
              "1             Seattle-Tacoma-Bellevue, WA MSA  2018-08-13      surf   \n",
              "2        Las Vegas-Henderson-Paradise, NV MSA  2018-10-21      surf   \n",
              "3                               Tulsa, OK MSA  2018-01-28      surf   \n",
              "4             Seattle-Tacoma-Bellevue, WA MSA  2018-05-23      surf   \n",
              "5         Dallas-Fort Worth-Arlington, TX MSA  2018-11-29      surf   \n",
              "6      San Francisco-Oakland-Berkeley, CA MSA  2018-11-27  ultimate   \n",
              "7               Grand Rapids-Kentwood, MI MSA  2018-07-11      surf   \n",
              "8           Orlando-Kissimmee-Sanford, FL MSA  2018-08-03  ultimate   \n",
              "9      San Jose-Sunnyvale-Santa Clara, CA MSA  2018-04-22      surf   \n",
              "10        Dallas-Fort Worth-Arlington, TX MSA  2018-03-09      surf   \n",
              "11                   Cleveland-Elyria, OH MSA  2018-01-18  ultimate   \n",
              "12     Chicago-Naperville-Elgin, IL-IN-WI MSA  2018-06-28      surf   \n",
              "13                          Knoxville, TN MSA  2018-12-01  ultimate   \n",
              "14  New York-Newark-Jersey City, NY-NJ-PA MSA  2018-11-25      surf   \n",
              "\n",
              "    churn_date  \n",
              "0          NaN  \n",
              "1          NaN  \n",
              "2          NaN  \n",
              "3          NaN  \n",
              "4          NaN  \n",
              "5          NaN  \n",
              "6   2018-12-18  \n",
              "7          NaN  \n",
              "8          NaN  \n",
              "9          NaN  \n",
              "10         NaN  \n",
              "11         NaN  \n",
              "12  2018-11-16  \n",
              "13         NaN  \n",
              "14         NaN  "
            ]
          },
          "execution_count": 39,
          "metadata": {},
          "output_type": "execute_result"
        }
      ],
      "source": [
        "# Echamos un vistazo a nuestra tabla\n",
        "users.head(15)"
      ]
    },
    {
      "cell_type": "code",
      "execution_count": null,
      "metadata": {
        "id": "ju7bZ51zSdaa",
        "outputId": "1793abaa-4ed4-4590-c4bf-e7b13ef73b38"
      },
      "outputs": [
        {
          "name": "stdout",
          "output_type": "stream",
          "text": [
            "<class 'pandas.core.frame.DataFrame'>\n",
            "RangeIndex: 500 entries, 0 to 499\n",
            "Data columns (total 8 columns):\n",
            " #   Column      Non-Null Count  Dtype \n",
            "---  ------      --------------  ----- \n",
            " 0   user_id     500 non-null    int64 \n",
            " 1   first_name  500 non-null    object\n",
            " 2   last_name   500 non-null    object\n",
            " 3   age         500 non-null    int64 \n",
            " 4   city        500 non-null    object\n",
            " 5   reg_date    500 non-null    object\n",
            " 6   plan        500 non-null    object\n",
            " 7   churn_date  34 non-null     object\n",
            "dtypes: int64(2), object(6)\n",
            "memory usage: 31.4+ KB\n",
            "None\n",
            "\n",
            "(500, 8)\n"
          ]
        }
      ],
      "source": [
        "# Revisamos su información general\n",
        "print(users.info())\n",
        "print()\n",
        "print(users.shape)"
      ]
    },
    {
      "cell_type": "markdown",
      "metadata": {
        "id": "dnNoykFWSdab"
      },
      "source": [
        "Podemos ver que en la columna **'churn_date'** hay valores ausentes. Los revisaremos un poco más a fondo."
      ]
    },
    {
      "cell_type": "code",
      "execution_count": null,
      "metadata": {
        "id": "hjCH_78nSdab",
        "outputId": "2e0290fb-6b8b-4186-fcfb-ec7f556d8be8"
      },
      "outputs": [
        {
          "name": "stdout",
          "output_type": "stream",
          "text": [
            "Número de valores ausentes en columna 'churn_date': 466\n",
            "Porcentaje de valores ausentes en columna 'churn_date': 93%\n"
          ]
        }
      ],
      "source": [
        "# Revisamos los valores ausentes de la columna 'churn_date'\n",
        "user_isna = users.churn_date.isna().sum()\n",
        "user_isna_perc = users.churn_date.isna().sum() / len(users.churn_date)*100\n",
        "print(f\"Número de valores ausentes en columna 'churn_date': {user_isna}\")\n",
        "print(f\"Porcentaje de valores ausentes en columna 'churn_date': {int(user_isna_perc)}%\")"
      ]
    },
    {
      "cell_type": "code",
      "execution_count": null,
      "metadata": {
        "id": "fL3BItkGSdab",
        "outputId": "b0991faf-66bd-40dc-b5d7-307ee2d1874e"
      },
      "outputs": [
        {
          "data": {
            "text/plain": [
              "Index(['user_id', 'first_name', 'last_name', 'age', 'city', 'reg_date', 'plan',\n",
              "       'churn_date'],\n",
              "      dtype='object')"
            ]
          },
          "execution_count": 42,
          "metadata": {},
          "output_type": "execute_result"
        }
      ],
      "source": [
        "# Revisamos las columnas para ver que esté todo en orden\n",
        "users.columns"
      ]
    },
    {
      "cell_type": "code",
      "execution_count": null,
      "metadata": {
        "id": "tzryWyqJSdab",
        "outputId": "bff19805-41af-420a-f7e9-03c94567d903"
      },
      "outputs": [
        {
          "data": {
            "text/html": [
              "<div>\n",
              "<style scoped>\n",
              "    .dataframe tbody tr th:only-of-type {\n",
              "        vertical-align: middle;\n",
              "    }\n",
              "\n",
              "    .dataframe tbody tr th {\n",
              "        vertical-align: top;\n",
              "    }\n",
              "\n",
              "    .dataframe thead th {\n",
              "        text-align: right;\n",
              "    }\n",
              "</style>\n",
              "<table border=\"1\" class=\"dataframe\">\n",
              "  <thead>\n",
              "    <tr style=\"text-align: right;\">\n",
              "      <th></th>\n",
              "      <th>user_id</th>\n",
              "      <th>age</th>\n",
              "    </tr>\n",
              "  </thead>\n",
              "  <tbody>\n",
              "    <tr>\n",
              "      <th>count</th>\n",
              "      <td>500.000000</td>\n",
              "      <td>500.000000</td>\n",
              "    </tr>\n",
              "    <tr>\n",
              "      <th>mean</th>\n",
              "      <td>1249.500000</td>\n",
              "      <td>45.486000</td>\n",
              "    </tr>\n",
              "    <tr>\n",
              "      <th>std</th>\n",
              "      <td>144.481833</td>\n",
              "      <td>16.972269</td>\n",
              "    </tr>\n",
              "    <tr>\n",
              "      <th>min</th>\n",
              "      <td>1000.000000</td>\n",
              "      <td>18.000000</td>\n",
              "    </tr>\n",
              "    <tr>\n",
              "      <th>25%</th>\n",
              "      <td>1124.750000</td>\n",
              "      <td>30.000000</td>\n",
              "    </tr>\n",
              "    <tr>\n",
              "      <th>50%</th>\n",
              "      <td>1249.500000</td>\n",
              "      <td>46.000000</td>\n",
              "    </tr>\n",
              "    <tr>\n",
              "      <th>75%</th>\n",
              "      <td>1374.250000</td>\n",
              "      <td>61.000000</td>\n",
              "    </tr>\n",
              "    <tr>\n",
              "      <th>max</th>\n",
              "      <td>1499.000000</td>\n",
              "      <td>75.000000</td>\n",
              "    </tr>\n",
              "  </tbody>\n",
              "</table>\n",
              "</div>"
            ],
            "text/plain": [
              "           user_id         age\n",
              "count   500.000000  500.000000\n",
              "mean   1249.500000   45.486000\n",
              "std     144.481833   16.972269\n",
              "min    1000.000000   18.000000\n",
              "25%    1124.750000   30.000000\n",
              "50%    1249.500000   46.000000\n",
              "75%    1374.250000   61.000000\n",
              "max    1499.000000   75.000000"
            ]
          },
          "execution_count": 43,
          "metadata": {},
          "output_type": "execute_result"
        }
      ],
      "source": [
        "# Revisamos su distribución\n",
        "users.describe()"
      ]
    },
    {
      "cell_type": "code",
      "execution_count": null,
      "metadata": {
        "id": "tnrERWHpSdab",
        "outputId": "71b62c56-8ac3-4b83-d7e2-d5429ce80a40"
      },
      "outputs": [
        {
          "data": {
            "text/plain": [
              "0"
            ]
          },
          "execution_count": 44,
          "metadata": {},
          "output_type": "execute_result"
        }
      ],
      "source": [
        "# Revisamos si hay datos duplicados\n",
        "users.duplicated().sum()"
      ]
    },
    {
      "cell_type": "markdown",
      "metadata": {
        "id": "w2F8BEvcSdab"
      },
      "source": [
        " Al analizar la tabla **users** encontramos lo siguiente:\n",
        "\n",
        " - 1. El DataFrame **users** se compone de 500 filas y 8 columnas.\n",
        " - 2. El formato de de los nombres de las columnas está correcto, **a excepción de 'reg_date' que reemplazaremos por 'subscription_date'**.\n",
        " - 3. Al revisar la información general vemos que la columna **churn_date** tiene valores ausentes. El 93% de los valores de esta columna son valores ausentes.\n",
        " - 4. No tenemos valores duplicados.\n",
        " - 5. La columna **'reg_date' y 'churn_date' están en formato object, que pasaremos a formato Datetime**, por si en el futuro debemos analizar fechas.\n",
        " - 7. El valor mínimo de la columna **age** es 18, el máximo es 75, su media es 45 y mediana 46. Con las edades se ve todo bien."
      ]
    },
    {
      "cell_type": "markdown",
      "metadata": {
        "id": "3_B5kIH8Sdac"
      },
      "source": [
        "### Corregir los datos"
      ]
    },
    {
      "cell_type": "markdown",
      "metadata": {
        "id": "9-k7fJiOSdac"
      },
      "source": [
        "Para '**churn_date**' el 93% de los datos están ausentes, esta columna representa la fecha en que los clientes abandonaron sus planes. Al no saber estas fechas, imputaremos con 'unknown'."
      ]
    },
    {
      "cell_type": "code",
      "execution_count": null,
      "metadata": {
        "id": "Qmz8Zf4QSdac"
      },
      "outputs": [],
      "source": [
        "# Cambiamos el nombre de la columna 'reg_date' a 'subcription_date' que es más representativo\n",
        "users.rename(columns={'reg_date': 'subscription_date'}, inplace=True)"
      ]
    },
    {
      "cell_type": "code",
      "execution_count": null,
      "metadata": {
        "id": "PC0vRtmmSdac"
      },
      "outputs": [],
      "source": [
        "# Cambiamos de formato la columna 'subscription_date' a Datetime\n",
        "users.subscription_date = pd.to_datetime(users['subscription_date'], format='%Y-%m-%d')"
      ]
    },
    {
      "cell_type": "code",
      "execution_count": null,
      "metadata": {
        "id": "S9r2uFVgSdac"
      },
      "outputs": [],
      "source": [
        "# Cambiamos de formato la columna 'churn_date' a Datetime\n",
        "users.churn_date = pd.to_datetime(users['churn_date'], format='%Y-%m-%d')"
      ]
    },
    {
      "cell_type": "code",
      "execution_count": null,
      "metadata": {
        "id": "H7erkEThSdac"
      },
      "outputs": [],
      "source": [
        "# Imputamos con 'unknown'\n",
        "users['churn_date'].fillna('unknown', inplace=True)"
      ]
    },
    {
      "cell_type": "code",
      "execution_count": null,
      "metadata": {
        "scrolled": false,
        "id": "4CEkjCjkSdac",
        "outputId": "0d3ce625-2fcb-49ee-a58c-a5693de38852"
      },
      "outputs": [
        {
          "data": {
            "text/html": [
              "<div>\n",
              "<style scoped>\n",
              "    .dataframe tbody tr th:only-of-type {\n",
              "        vertical-align: middle;\n",
              "    }\n",
              "\n",
              "    .dataframe tbody tr th {\n",
              "        vertical-align: top;\n",
              "    }\n",
              "\n",
              "    .dataframe thead th {\n",
              "        text-align: right;\n",
              "    }\n",
              "</style>\n",
              "<table border=\"1\" class=\"dataframe\">\n",
              "  <thead>\n",
              "    <tr style=\"text-align: right;\">\n",
              "      <th></th>\n",
              "      <th>user_id</th>\n",
              "      <th>first_name</th>\n",
              "      <th>last_name</th>\n",
              "      <th>age</th>\n",
              "      <th>city</th>\n",
              "      <th>subscription_date</th>\n",
              "      <th>plan</th>\n",
              "      <th>churn_date</th>\n",
              "    </tr>\n",
              "  </thead>\n",
              "  <tbody>\n",
              "    <tr>\n",
              "      <th>0</th>\n",
              "      <td>1000</td>\n",
              "      <td>Anamaria</td>\n",
              "      <td>Bauer</td>\n",
              "      <td>45</td>\n",
              "      <td>Atlanta-Sandy Springs-Roswell, GA MSA</td>\n",
              "      <td>2018-12-24</td>\n",
              "      <td>ultimate</td>\n",
              "      <td>unknown</td>\n",
              "    </tr>\n",
              "    <tr>\n",
              "      <th>1</th>\n",
              "      <td>1001</td>\n",
              "      <td>Mickey</td>\n",
              "      <td>Wilkerson</td>\n",
              "      <td>28</td>\n",
              "      <td>Seattle-Tacoma-Bellevue, WA MSA</td>\n",
              "      <td>2018-08-13</td>\n",
              "      <td>surf</td>\n",
              "      <td>unknown</td>\n",
              "    </tr>\n",
              "    <tr>\n",
              "      <th>2</th>\n",
              "      <td>1002</td>\n",
              "      <td>Carlee</td>\n",
              "      <td>Hoffman</td>\n",
              "      <td>36</td>\n",
              "      <td>Las Vegas-Henderson-Paradise, NV MSA</td>\n",
              "      <td>2018-10-21</td>\n",
              "      <td>surf</td>\n",
              "      <td>unknown</td>\n",
              "    </tr>\n",
              "    <tr>\n",
              "      <th>3</th>\n",
              "      <td>1003</td>\n",
              "      <td>Reynaldo</td>\n",
              "      <td>Jenkins</td>\n",
              "      <td>52</td>\n",
              "      <td>Tulsa, OK MSA</td>\n",
              "      <td>2018-01-28</td>\n",
              "      <td>surf</td>\n",
              "      <td>unknown</td>\n",
              "    </tr>\n",
              "    <tr>\n",
              "      <th>4</th>\n",
              "      <td>1004</td>\n",
              "      <td>Leonila</td>\n",
              "      <td>Thompson</td>\n",
              "      <td>40</td>\n",
              "      <td>Seattle-Tacoma-Bellevue, WA MSA</td>\n",
              "      <td>2018-05-23</td>\n",
              "      <td>surf</td>\n",
              "      <td>unknown</td>\n",
              "    </tr>\n",
              "    <tr>\n",
              "      <th>5</th>\n",
              "      <td>1005</td>\n",
              "      <td>Livia</td>\n",
              "      <td>Shields</td>\n",
              "      <td>31</td>\n",
              "      <td>Dallas-Fort Worth-Arlington, TX MSA</td>\n",
              "      <td>2018-11-29</td>\n",
              "      <td>surf</td>\n",
              "      <td>unknown</td>\n",
              "    </tr>\n",
              "    <tr>\n",
              "      <th>6</th>\n",
              "      <td>1006</td>\n",
              "      <td>Jesusa</td>\n",
              "      <td>Bradford</td>\n",
              "      <td>73</td>\n",
              "      <td>San Francisco-Oakland-Berkeley, CA MSA</td>\n",
              "      <td>2018-11-27</td>\n",
              "      <td>ultimate</td>\n",
              "      <td>2018-12-18 00:00:00</td>\n",
              "    </tr>\n",
              "    <tr>\n",
              "      <th>7</th>\n",
              "      <td>1007</td>\n",
              "      <td>Eusebio</td>\n",
              "      <td>Welch</td>\n",
              "      <td>42</td>\n",
              "      <td>Grand Rapids-Kentwood, MI MSA</td>\n",
              "      <td>2018-07-11</td>\n",
              "      <td>surf</td>\n",
              "      <td>unknown</td>\n",
              "    </tr>\n",
              "    <tr>\n",
              "      <th>8</th>\n",
              "      <td>1008</td>\n",
              "      <td>Emely</td>\n",
              "      <td>Hoffman</td>\n",
              "      <td>53</td>\n",
              "      <td>Orlando-Kissimmee-Sanford, FL MSA</td>\n",
              "      <td>2018-08-03</td>\n",
              "      <td>ultimate</td>\n",
              "      <td>unknown</td>\n",
              "    </tr>\n",
              "    <tr>\n",
              "      <th>9</th>\n",
              "      <td>1009</td>\n",
              "      <td>Gerry</td>\n",
              "      <td>Little</td>\n",
              "      <td>19</td>\n",
              "      <td>San Jose-Sunnyvale-Santa Clara, CA MSA</td>\n",
              "      <td>2018-04-22</td>\n",
              "      <td>surf</td>\n",
              "      <td>unknown</td>\n",
              "    </tr>\n",
              "    <tr>\n",
              "      <th>10</th>\n",
              "      <td>1010</td>\n",
              "      <td>Wilber</td>\n",
              "      <td>Blair</td>\n",
              "      <td>52</td>\n",
              "      <td>Dallas-Fort Worth-Arlington, TX MSA</td>\n",
              "      <td>2018-03-09</td>\n",
              "      <td>surf</td>\n",
              "      <td>unknown</td>\n",
              "    </tr>\n",
              "    <tr>\n",
              "      <th>11</th>\n",
              "      <td>1011</td>\n",
              "      <td>Halina</td>\n",
              "      <td>Henry</td>\n",
              "      <td>73</td>\n",
              "      <td>Cleveland-Elyria, OH MSA</td>\n",
              "      <td>2018-01-18</td>\n",
              "      <td>ultimate</td>\n",
              "      <td>unknown</td>\n",
              "    </tr>\n",
              "    <tr>\n",
              "      <th>12</th>\n",
              "      <td>1012</td>\n",
              "      <td>Jonelle</td>\n",
              "      <td>Mcbride</td>\n",
              "      <td>59</td>\n",
              "      <td>Chicago-Naperville-Elgin, IL-IN-WI MSA</td>\n",
              "      <td>2018-06-28</td>\n",
              "      <td>surf</td>\n",
              "      <td>2018-11-16 00:00:00</td>\n",
              "    </tr>\n",
              "    <tr>\n",
              "      <th>13</th>\n",
              "      <td>1013</td>\n",
              "      <td>Nicolas</td>\n",
              "      <td>Snider</td>\n",
              "      <td>50</td>\n",
              "      <td>Knoxville, TN MSA</td>\n",
              "      <td>2018-12-01</td>\n",
              "      <td>ultimate</td>\n",
              "      <td>unknown</td>\n",
              "    </tr>\n",
              "    <tr>\n",
              "      <th>14</th>\n",
              "      <td>1014</td>\n",
              "      <td>Edmundo</td>\n",
              "      <td>Simon</td>\n",
              "      <td>61</td>\n",
              "      <td>New York-Newark-Jersey City, NY-NJ-PA MSA</td>\n",
              "      <td>2018-11-25</td>\n",
              "      <td>surf</td>\n",
              "      <td>unknown</td>\n",
              "    </tr>\n",
              "  </tbody>\n",
              "</table>\n",
              "</div>"
            ],
            "text/plain": [
              "    user_id first_name  last_name  age  \\\n",
              "0      1000   Anamaria      Bauer   45   \n",
              "1      1001     Mickey  Wilkerson   28   \n",
              "2      1002     Carlee    Hoffman   36   \n",
              "3      1003   Reynaldo    Jenkins   52   \n",
              "4      1004    Leonila   Thompson   40   \n",
              "5      1005      Livia    Shields   31   \n",
              "6      1006     Jesusa   Bradford   73   \n",
              "7      1007    Eusebio      Welch   42   \n",
              "8      1008      Emely    Hoffman   53   \n",
              "9      1009      Gerry     Little   19   \n",
              "10     1010     Wilber      Blair   52   \n",
              "11     1011     Halina      Henry   73   \n",
              "12     1012    Jonelle    Mcbride   59   \n",
              "13     1013    Nicolas     Snider   50   \n",
              "14     1014    Edmundo      Simon   61   \n",
              "\n",
              "                                         city subscription_date      plan  \\\n",
              "0       Atlanta-Sandy Springs-Roswell, GA MSA        2018-12-24  ultimate   \n",
              "1             Seattle-Tacoma-Bellevue, WA MSA        2018-08-13      surf   \n",
              "2        Las Vegas-Henderson-Paradise, NV MSA        2018-10-21      surf   \n",
              "3                               Tulsa, OK MSA        2018-01-28      surf   \n",
              "4             Seattle-Tacoma-Bellevue, WA MSA        2018-05-23      surf   \n",
              "5         Dallas-Fort Worth-Arlington, TX MSA        2018-11-29      surf   \n",
              "6      San Francisco-Oakland-Berkeley, CA MSA        2018-11-27  ultimate   \n",
              "7               Grand Rapids-Kentwood, MI MSA        2018-07-11      surf   \n",
              "8           Orlando-Kissimmee-Sanford, FL MSA        2018-08-03  ultimate   \n",
              "9      San Jose-Sunnyvale-Santa Clara, CA MSA        2018-04-22      surf   \n",
              "10        Dallas-Fort Worth-Arlington, TX MSA        2018-03-09      surf   \n",
              "11                   Cleveland-Elyria, OH MSA        2018-01-18  ultimate   \n",
              "12     Chicago-Naperville-Elgin, IL-IN-WI MSA        2018-06-28      surf   \n",
              "13                          Knoxville, TN MSA        2018-12-01  ultimate   \n",
              "14  New York-Newark-Jersey City, NY-NJ-PA MSA        2018-11-25      surf   \n",
              "\n",
              "             churn_date  \n",
              "0               unknown  \n",
              "1               unknown  \n",
              "2               unknown  \n",
              "3               unknown  \n",
              "4               unknown  \n",
              "5               unknown  \n",
              "6   2018-12-18 00:00:00  \n",
              "7               unknown  \n",
              "8               unknown  \n",
              "9               unknown  \n",
              "10              unknown  \n",
              "11              unknown  \n",
              "12  2018-11-16 00:00:00  \n",
              "13              unknown  \n",
              "14              unknown  "
            ]
          },
          "execution_count": 49,
          "metadata": {},
          "output_type": "execute_result"
        }
      ],
      "source": [
        "# echamos un vistazo a los cambios\n",
        "users.head(15)"
      ]
    },
    {
      "cell_type": "code",
      "execution_count": null,
      "metadata": {
        "id": "2sLyooeRSdad",
        "outputId": "6fe917a0-2167-4e25-ca8f-03eeb4cf9115"
      },
      "outputs": [
        {
          "name": "stdout",
          "output_type": "stream",
          "text": [
            "<class 'pandas.core.frame.DataFrame'>\n",
            "RangeIndex: 500 entries, 0 to 499\n",
            "Data columns (total 8 columns):\n",
            " #   Column             Non-Null Count  Dtype         \n",
            "---  ------             --------------  -----         \n",
            " 0   user_id            500 non-null    int64         \n",
            " 1   first_name         500 non-null    object        \n",
            " 2   last_name          500 non-null    object        \n",
            " 3   age                500 non-null    int64         \n",
            " 4   city               500 non-null    object        \n",
            " 5   subscription_date  500 non-null    datetime64[ns]\n",
            " 6   plan               500 non-null    object        \n",
            " 7   churn_date         500 non-null    object        \n",
            "dtypes: datetime64[ns](1), int64(2), object(5)\n",
            "memory usage: 31.4+ KB\n"
          ]
        }
      ],
      "source": [
        "# Comprobamos los cambios\n",
        "users.info()"
      ]
    },
    {
      "cell_type": "markdown",
      "metadata": {
        "id": "pMlylYJqSdad"
      },
      "source": [
        "Hemos dejado todo en orden!"
      ]
    },
    {
      "cell_type": "markdown",
      "metadata": {
        "id": "CdOwGGRgSdad"
      },
      "source": [
        "## Estudiar las condiciones del plan"
      ]
    },
    {
      "cell_type": "markdown",
      "metadata": {
        "id": "KO6UnUEHSdad"
      },
      "source": [
        "Es sumamente importante entender cómo funcionan los planes, cómo se cobra a los usuarios con base en su plan de suscripción. Por lo tanto visualizaremos la información del plan para ver una vez más sus condiciones."
      ]
    },
    {
      "cell_type": "code",
      "execution_count": null,
      "metadata": {
        "scrolled": false,
        "id": "qE9dXAGKSdad",
        "outputId": "5cc02a8e-2914-4d4c-faf4-a91f4c276e69"
      },
      "outputs": [
        {
          "data": {
            "text/html": [
              "<div>\n",
              "<style scoped>\n",
              "    .dataframe tbody tr th:only-of-type {\n",
              "        vertical-align: middle;\n",
              "    }\n",
              "\n",
              "    .dataframe tbody tr th {\n",
              "        vertical-align: top;\n",
              "    }\n",
              "\n",
              "    .dataframe thead th {\n",
              "        text-align: right;\n",
              "    }\n",
              "</style>\n",
              "<table border=\"1\" class=\"dataframe\">\n",
              "  <thead>\n",
              "    <tr style=\"text-align: right;\">\n",
              "      <th></th>\n",
              "      <th>messages_included</th>\n",
              "      <th>mb_per_month_included</th>\n",
              "      <th>minutes_included</th>\n",
              "      <th>usd_monthly_pay</th>\n",
              "      <th>usd_per_gb</th>\n",
              "      <th>usd_per_message</th>\n",
              "      <th>usd_per_minute</th>\n",
              "      <th>plan_name</th>\n",
              "    </tr>\n",
              "  </thead>\n",
              "  <tbody>\n",
              "    <tr>\n",
              "      <th>0</th>\n",
              "      <td>50</td>\n",
              "      <td>15360</td>\n",
              "      <td>500</td>\n",
              "      <td>20</td>\n",
              "      <td>10</td>\n",
              "      <td>0.03</td>\n",
              "      <td>0.03</td>\n",
              "      <td>surf</td>\n",
              "    </tr>\n",
              "    <tr>\n",
              "      <th>1</th>\n",
              "      <td>1000</td>\n",
              "      <td>30720</td>\n",
              "      <td>3000</td>\n",
              "      <td>70</td>\n",
              "      <td>7</td>\n",
              "      <td>0.01</td>\n",
              "      <td>0.01</td>\n",
              "      <td>ultimate</td>\n",
              "    </tr>\n",
              "  </tbody>\n",
              "</table>\n",
              "</div>"
            ],
            "text/plain": [
              "   messages_included  mb_per_month_included  minutes_included  \\\n",
              "0                 50                  15360               500   \n",
              "1               1000                  30720              3000   \n",
              "\n",
              "   usd_monthly_pay  usd_per_gb  usd_per_message  usd_per_minute plan_name  \n",
              "0               20          10             0.03            0.03      surf  \n",
              "1               70           7             0.01            0.01  ultimate  "
            ]
          },
          "execution_count": 51,
          "metadata": {},
          "output_type": "execute_result"
        }
      ],
      "source": [
        "# Imprime las condiciones del plan y asegúrate de que te resulten claros\n",
        "plans"
      ]
    },
    {
      "cell_type": "markdown",
      "metadata": {
        "id": "gaPH5UVkSdad"
      },
      "source": [
        "Las condiciones del plan **Surf** son las siguientes:\n",
        "\n",
        "1. Pago mensual: 20\n",
        "2. 500 minutos al mes, 50 SMS y 15 GB de datos\n",
        "3. Si se exceden los límites del paquete:\n",
        " - minuto: 3 centavos\n",
        " - SMS: 3 centavos\n",
        " - GB de datos: 10$\n"
      ]
    },
    {
      "cell_type": "markdown",
      "metadata": {
        "id": "i87qBhKlSdad"
      },
      "source": [
        "Y las condiciones del plan **Ultimate** son:\n",
        "\n",
        "1. Pago mensual: 70\n",
        "2. 3000 minutos al mes, 1000 SMS y 30 GB de datos\n",
        "3. Si se exceden los límites del paquete:\n",
        " - 1 minuto: 1 centavo\n",
        " - 1 SMS: 1 centavo\n",
        " - 1 GB de datos: 7$"
      ]
    },
    {
      "cell_type": "markdown",
      "metadata": {
        "id": "k31N9HxLSdae"
      },
      "source": [
        "## Agregar datos por usuario\n",
        "\n",
        "- Ahora que los datos están limpios, agregaremos los datos por usuario por periodo para poder tener solo un registro por usuario por periodo. Esto facilitará mucho su posterior análisis.\n",
        "\n",
        "\n",
        "- Aquí además cambiaremos los nombres de las columnas que contienen fechas, a **'date'**, de modo que no haya problemas al unir las tablas con el método '.merge()'.\n",
        "\n",
        "\n",
        "- También cambiaremos los nombres de las columnas **'id'** por otros más representativos."
      ]
    },
    {
      "cell_type": "code",
      "execution_count": null,
      "metadata": {
        "id": "y3R5fgOcSdae"
      },
      "outputs": [],
      "source": [
        "# Calcula el número de llamadas hechas por cada usuario por mes. Guarda el resultado.\n",
        "calls_monthly_df = calls.groupby(['user_id', pd.Grouper(key='call_date', freq='M')])['id'].agg('count').reset_index()\n",
        "\n",
        "# Cambiamos el nombre de la columna 'id' por 'calls_per_month'\n",
        "calls_monthly_df = calls_monthly_df.rename(columns={'id':'calls_per_month'})\n",
        "\n",
        "# Cambiamos el nombre de la columna 'call_date' por 'date'\n",
        "calls_monthly_df = calls_monthly_df.rename(columns={'call_date':'date'})\n"
      ]
    },
    {
      "cell_type": "code",
      "execution_count": null,
      "metadata": {
        "id": "BUenbyQWSdae"
      },
      "outputs": [],
      "source": [
        "# Calcula la cantidad de minutos que usó cada usuario por mes. Guarda el resultado.\n",
        "minutes_monthly_df = calls.groupby(['user_id', pd.Grouper(key='call_date', freq='M')])['duration'].agg('sum').reset_index()\n",
        "\n",
        "# Cambiamos el nombre de la columna 'call_date' por 'date'\n",
        "minutes_monthly_df = minutes_monthly_df.rename(columns={'call_date':'date'})\n"
      ]
    },
    {
      "cell_type": "code",
      "execution_count": null,
      "metadata": {
        "id": "GrdCIpjUSdae"
      },
      "outputs": [],
      "source": [
        "# Calcula el número de mensajes enviados por cada usuario por mes. Guarda el resultado.\n",
        "sms_monthly_df = messages.groupby(['user_id', pd.Grouper(key='message_date', freq='M')])['id'].agg('count').reset_index()\n",
        "\n",
        "# Cambiamos el nombre de la columna 'id' por 'calls_per_month'\n",
        "sms_monthly_df = sms_monthly_df.rename(columns={'id':'sms_per_month'})\n",
        "\n",
        "# Cambiamos el nombre de la columna 'message_date' por 'date'\n",
        "sms_monthly_df = sms_monthly_df.rename(columns={'message_date':'date'})\n"
      ]
    },
    {
      "cell_type": "code",
      "execution_count": null,
      "metadata": {
        "id": "ucKdVc65Sdae"
      },
      "outputs": [],
      "source": [
        "# Calcula el volumen del tráfico de internet usado por cada usuario por mes. Guarda el resultado.\n",
        "mb_monthly_df = internet.groupby(['user_id', pd.Grouper(key='session_date', freq='M')])['mb_used'].agg('sum').reset_index()\n",
        "mb_monthly_df['gb_usage'] = np.ceil(mb_monthly_df['mb_used']/1024)\n",
        "\n",
        "# Cambiamos el nombre de la columna 'session_date' por 'date'\n",
        "mb_monthly_df = mb_monthly_df.rename(columns={'session_date':'date'})\n"
      ]
    },
    {
      "cell_type": "markdown",
      "metadata": {
        "id": "Qs8i679xSdae"
      },
      "source": [
        "A continuación juntaremos todos los datos obtenidos previamente, en un **DataFrame llamado 'megaline'**. Es decir, el número de llamadas, duración de llamadas, mensajes enviados e internet usado por mes para cada cliente."
      ]
    },
    {
      "cell_type": "code",
      "execution_count": null,
      "metadata": {
        "scrolled": true,
        "id": "EwjDa97NSdaf"
      },
      "outputs": [],
      "source": [
        "# Combina los datos para las llamadas, minutos, mensajes e internet con base en el user_id y el mes\n",
        "df_1 = calls_monthly_df.merge(minutes_monthly_df, on=['user_id', 'date'], how='outer')\n",
        "df_2 = df_1.merge(sms_monthly_df, on=['user_id', 'date'], how='outer')\n",
        "megaline = df_2.merge(mb_monthly_df, on=['user_id', 'date'], how='outer')"
      ]
    },
    {
      "cell_type": "code",
      "execution_count": null,
      "metadata": {
        "scrolled": false,
        "id": "vhQEjutTSdaf",
        "outputId": "1031517b-8831-4429-84fb-42e87bbcdc76"
      },
      "outputs": [
        {
          "data": {
            "text/html": [
              "<div>\n",
              "<style scoped>\n",
              "    .dataframe tbody tr th:only-of-type {\n",
              "        vertical-align: middle;\n",
              "    }\n",
              "\n",
              "    .dataframe tbody tr th {\n",
              "        vertical-align: top;\n",
              "    }\n",
              "\n",
              "    .dataframe thead th {\n",
              "        text-align: right;\n",
              "    }\n",
              "</style>\n",
              "<table border=\"1\" class=\"dataframe\">\n",
              "  <thead>\n",
              "    <tr style=\"text-align: right;\">\n",
              "      <th></th>\n",
              "      <th>user_id</th>\n",
              "      <th>date</th>\n",
              "      <th>calls_per_month</th>\n",
              "      <th>duration</th>\n",
              "      <th>sms_per_month</th>\n",
              "      <th>mb_used</th>\n",
              "      <th>gb_usage</th>\n",
              "    </tr>\n",
              "  </thead>\n",
              "  <tbody>\n",
              "    <tr>\n",
              "      <th>0</th>\n",
              "      <td>1000</td>\n",
              "      <td>2018-12-31</td>\n",
              "      <td>16.0</td>\n",
              "      <td>0 days 02:04:00</td>\n",
              "      <td>11.0</td>\n",
              "      <td>1901.47</td>\n",
              "      <td>2.0</td>\n",
              "    </tr>\n",
              "    <tr>\n",
              "      <th>1</th>\n",
              "      <td>1001</td>\n",
              "      <td>2018-08-31</td>\n",
              "      <td>27.0</td>\n",
              "      <td>0 days 03:02:00</td>\n",
              "      <td>30.0</td>\n",
              "      <td>6919.15</td>\n",
              "      <td>7.0</td>\n",
              "    </tr>\n",
              "    <tr>\n",
              "      <th>2</th>\n",
              "      <td>1001</td>\n",
              "      <td>2018-09-30</td>\n",
              "      <td>49.0</td>\n",
              "      <td>0 days 05:15:00</td>\n",
              "      <td>44.0</td>\n",
              "      <td>13314.82</td>\n",
              "      <td>14.0</td>\n",
              "    </tr>\n",
              "    <tr>\n",
              "      <th>3</th>\n",
              "      <td>1001</td>\n",
              "      <td>2018-10-31</td>\n",
              "      <td>65.0</td>\n",
              "      <td>0 days 06:33:00</td>\n",
              "      <td>53.0</td>\n",
              "      <td>22330.49</td>\n",
              "      <td>22.0</td>\n",
              "    </tr>\n",
              "    <tr>\n",
              "      <th>4</th>\n",
              "      <td>1001</td>\n",
              "      <td>2018-11-30</td>\n",
              "      <td>64.0</td>\n",
              "      <td>0 days 07:06:00</td>\n",
              "      <td>36.0</td>\n",
              "      <td>18504.30</td>\n",
              "      <td>19.0</td>\n",
              "    </tr>\n",
              "  </tbody>\n",
              "</table>\n",
              "</div>"
            ],
            "text/plain": [
              "   user_id       date  calls_per_month        duration  sms_per_month  \\\n",
              "0     1000 2018-12-31             16.0 0 days 02:04:00           11.0   \n",
              "1     1001 2018-08-31             27.0 0 days 03:02:00           30.0   \n",
              "2     1001 2018-09-30             49.0 0 days 05:15:00           44.0   \n",
              "3     1001 2018-10-31             65.0 0 days 06:33:00           53.0   \n",
              "4     1001 2018-11-30             64.0 0 days 07:06:00           36.0   \n",
              "\n",
              "    mb_used  gb_usage  \n",
              "0   1901.47       2.0  \n",
              "1   6919.15       7.0  \n",
              "2  13314.82      14.0  \n",
              "3  22330.49      22.0  \n",
              "4  18504.30      19.0  "
            ]
          },
          "execution_count": 57,
          "metadata": {},
          "output_type": "execute_result"
        }
      ],
      "source": [
        "# Echamos un vistazo a nuestra tabla con los datos unidos\n",
        "megaline.head()"
      ]
    },
    {
      "cell_type": "markdown",
      "metadata": {
        "id": "QoL_tifdSdaf"
      },
      "source": [
        "En este caso solo usaremos la columna **'gb_usage'** para el volumen de dato por cliente, por lo que quitaremos la columna **'mb_used'** de nuestro DataFrame. Y a la columna **'duration'** le daremos un nombre más representativo. La llamaremos **'call_time_monthly'**."
      ]
    },
    {
      "cell_type": "code",
      "execution_count": null,
      "metadata": {
        "id": "ghTQ0q3wSdaf"
      },
      "outputs": [],
      "source": [
        "# Quitamos la columna 'mb_used'\n",
        "megaline.drop('mb_used', axis= 1, inplace=True)"
      ]
    },
    {
      "cell_type": "code",
      "execution_count": null,
      "metadata": {
        "id": "xgyyhkmUSdaf"
      },
      "outputs": [],
      "source": [
        "# A la columna 'duration' le daremos un nombre más representativo. La llamaremos 'call_time_monthly'\n",
        "megaline = megaline.rename(columns={'duration':'call_time_monthly'})"
      ]
    },
    {
      "cell_type": "code",
      "execution_count": null,
      "metadata": {
        "id": "qqq9oY1nSdaf",
        "outputId": "d7affe02-3672-47d7-e42a-fd17288d9796"
      },
      "outputs": [
        {
          "data": {
            "text/html": [
              "<div>\n",
              "<style scoped>\n",
              "    .dataframe tbody tr th:only-of-type {\n",
              "        vertical-align: middle;\n",
              "    }\n",
              "\n",
              "    .dataframe tbody tr th {\n",
              "        vertical-align: top;\n",
              "    }\n",
              "\n",
              "    .dataframe thead th {\n",
              "        text-align: right;\n",
              "    }\n",
              "</style>\n",
              "<table border=\"1\" class=\"dataframe\">\n",
              "  <thead>\n",
              "    <tr style=\"text-align: right;\">\n",
              "      <th></th>\n",
              "      <th>user_id</th>\n",
              "      <th>date</th>\n",
              "      <th>calls_per_month</th>\n",
              "      <th>call_time_monthly</th>\n",
              "      <th>sms_per_month</th>\n",
              "      <th>gb_usage</th>\n",
              "    </tr>\n",
              "  </thead>\n",
              "  <tbody>\n",
              "    <tr>\n",
              "      <th>0</th>\n",
              "      <td>1000</td>\n",
              "      <td>2018-12-31</td>\n",
              "      <td>16.0</td>\n",
              "      <td>0 days 02:04:00</td>\n",
              "      <td>11.0</td>\n",
              "      <td>2.0</td>\n",
              "    </tr>\n",
              "    <tr>\n",
              "      <th>1</th>\n",
              "      <td>1001</td>\n",
              "      <td>2018-08-31</td>\n",
              "      <td>27.0</td>\n",
              "      <td>0 days 03:02:00</td>\n",
              "      <td>30.0</td>\n",
              "      <td>7.0</td>\n",
              "    </tr>\n",
              "    <tr>\n",
              "      <th>2</th>\n",
              "      <td>1001</td>\n",
              "      <td>2018-09-30</td>\n",
              "      <td>49.0</td>\n",
              "      <td>0 days 05:15:00</td>\n",
              "      <td>44.0</td>\n",
              "      <td>14.0</td>\n",
              "    </tr>\n",
              "    <tr>\n",
              "      <th>3</th>\n",
              "      <td>1001</td>\n",
              "      <td>2018-10-31</td>\n",
              "      <td>65.0</td>\n",
              "      <td>0 days 06:33:00</td>\n",
              "      <td>53.0</td>\n",
              "      <td>22.0</td>\n",
              "    </tr>\n",
              "    <tr>\n",
              "      <th>4</th>\n",
              "      <td>1001</td>\n",
              "      <td>2018-11-30</td>\n",
              "      <td>64.0</td>\n",
              "      <td>0 days 07:06:00</td>\n",
              "      <td>36.0</td>\n",
              "      <td>19.0</td>\n",
              "    </tr>\n",
              "  </tbody>\n",
              "</table>\n",
              "</div>"
            ],
            "text/plain": [
              "   user_id       date  calls_per_month call_time_monthly  sms_per_month  \\\n",
              "0     1000 2018-12-31             16.0   0 days 02:04:00           11.0   \n",
              "1     1001 2018-08-31             27.0   0 days 03:02:00           30.0   \n",
              "2     1001 2018-09-30             49.0   0 days 05:15:00           44.0   \n",
              "3     1001 2018-10-31             65.0   0 days 06:33:00           53.0   \n",
              "4     1001 2018-11-30             64.0   0 days 07:06:00           36.0   \n",
              "\n",
              "   gb_usage  \n",
              "0       2.0  \n",
              "1       7.0  \n",
              "2      14.0  \n",
              "3      22.0  \n",
              "4      19.0  "
            ]
          },
          "execution_count": 60,
          "metadata": {},
          "output_type": "execute_result"
        }
      ],
      "source": [
        "# Damos otro breve vistazo\n",
        "megaline.head(5)"
      ]
    },
    {
      "cell_type": "code",
      "execution_count": null,
      "metadata": {
        "id": "Bq2o3UjFSdaf",
        "outputId": "0bbc0c88-f4bc-4479-d5c0-7b7f4ae8fcc2"
      },
      "outputs": [
        {
          "name": "stdout",
          "output_type": "stream",
          "text": [
            "<class 'pandas.core.frame.DataFrame'>\n",
            "Int64Index: 2293 entries, 0 to 2292\n",
            "Data columns (total 6 columns):\n",
            " #   Column             Non-Null Count  Dtype          \n",
            "---  ------             --------------  -----          \n",
            " 0   user_id            2293 non-null   int64          \n",
            " 1   date               2293 non-null   datetime64[ns] \n",
            " 2   calls_per_month    2258 non-null   float64        \n",
            " 3   call_time_monthly  2258 non-null   timedelta64[ns]\n",
            " 4   sms_per_month      1806 non-null   float64        \n",
            " 5   gb_usage           2277 non-null   float64        \n",
            "dtypes: datetime64[ns](1), float64(3), int64(1), timedelta64[ns](1)\n",
            "memory usage: 125.4 KB\n"
          ]
        }
      ],
      "source": [
        "# Revisamos la distribución de nuestra nueva tabla\n",
        "megaline.info()"
      ]
    },
    {
      "cell_type": "markdown",
      "metadata": {
        "id": "BjK9VSnmSdag"
      },
      "source": [
        "Al ver la distribución podemos ver que las columnas **'calls_per_month', 'call_time_monthly', 'sms_per_month'**, y '**gb_usage'** tienen datos ausentes."
      ]
    },
    {
      "cell_type": "code",
      "execution_count": null,
      "metadata": {
        "scrolled": false,
        "id": "zeLnyY6wSdag",
        "outputId": "f1b63f17-2d09-4d5c-d400-b19b2729cb4d"
      },
      "outputs": [
        {
          "name": "stdout",
          "output_type": "stream",
          "text": [
            "Porcentaje de valores ausentes en 'calls_per_month': 1.526384648931531%\n",
            "Porcentaje de valores ausentes en 'call_time_monthly': 1.526384648931531%\n",
            "Porcentaje de valores ausentes en 'sms_per_month': 21.238552115133015%\n",
            "Porcentaje de valores ausentes en 'gb_usage': 0.697775839511557%\n"
          ]
        }
      ],
      "source": [
        "# Calculamos el porcentaje de valores ausentes para cada columna\n",
        "nacalls = megaline.calls_per_month.isna().sum() / len(megaline) * 100\n",
        "natime = megaline.call_time_monthly.isna().sum() / len(megaline) * 100\n",
        "nasms = megaline.sms_per_month.isna().sum() / len(megaline) * 100\n",
        "nagb = megaline.gb_usage.isna().sum() / len(megaline) * 100\n",
        "\n",
        "print(f\"Porcentaje de valores ausentes en 'calls_per_month': {nacalls}%\")\n",
        "print(f\"Porcentaje de valores ausentes en 'call_time_monthly': {natime}%\")\n",
        "print(f\"Porcentaje de valores ausentes en 'sms_per_month': {nasms}%\")\n",
        "print(f\"Porcentaje de valores ausentes en 'gb_usage': {nagb}%\")\n"
      ]
    },
    {
      "cell_type": "markdown",
      "metadata": {
        "id": "j8neRTAvSdag"
      },
      "source": [
        "Aquí podemos ver que los sms son el medio menos utilizado, debido a que **en este caso los valores ausentes hacen referencia a no consumo. De este modo, lo mejor será imputar los valores ausentes con 0**."
      ]
    },
    {
      "cell_type": "markdown",
      "metadata": {
        "id": "0hdJ3NjwSdag"
      },
      "source": [
        "Primero imputamos los valores de la columna 'call_time_monthly' que está en formato datetime64."
      ]
    },
    {
      "cell_type": "code",
      "execution_count": null,
      "metadata": {
        "id": "Fz37pPCXSdah"
      },
      "outputs": [],
      "source": [
        "# Rellenamos los NaN de 'call_time_monthly' con 0\n",
        "megaline.call_time_monthly.fillna(pd.Timedelta(minutes=0), inplace=True)"
      ]
    },
    {
      "cell_type": "code",
      "execution_count": null,
      "metadata": {
        "id": "x7I_iAgkSdah"
      },
      "outputs": [],
      "source": [
        "# Imputamos las demás columnas con 0\n",
        "megaline.calls_per_month.fillna(0, inplace=True)\n",
        "megaline.sms_per_month.fillna(0, inplace=True)\n",
        "megaline.gb_usage.fillna(0, inplace=True)"
      ]
    },
    {
      "cell_type": "code",
      "execution_count": null,
      "metadata": {
        "id": "_rWC4ZeVSdah",
        "outputId": "89b582d5-33bb-44ee-e342-c7d4da7722a6"
      },
      "outputs": [
        {
          "name": "stdout",
          "output_type": "stream",
          "text": [
            "<class 'pandas.core.frame.DataFrame'>\n",
            "Int64Index: 2293 entries, 0 to 2292\n",
            "Data columns (total 6 columns):\n",
            " #   Column             Non-Null Count  Dtype          \n",
            "---  ------             --------------  -----          \n",
            " 0   user_id            2293 non-null   int64          \n",
            " 1   date               2293 non-null   datetime64[ns] \n",
            " 2   calls_per_month    2293 non-null   float64        \n",
            " 3   call_time_monthly  2293 non-null   timedelta64[ns]\n",
            " 4   sms_per_month      2293 non-null   float64        \n",
            " 5   gb_usage           2293 non-null   float64        \n",
            "dtypes: datetime64[ns](1), float64(3), int64(1), timedelta64[ns](1)\n",
            "memory usage: 125.4 KB\n"
          ]
        }
      ],
      "source": [
        "# Revisamos que esté todo en orden\n",
        "megaline.info()"
      ]
    },
    {
      "cell_type": "markdown",
      "metadata": {
        "id": "dPlFEjX9Sdah"
      },
      "source": [
        "Como podemos ver nuestro DataFrame ya se encuentra sin valores ausentes. A continuación añadiremos la información de los usuarios y sus respectivos planes."
      ]
    },
    {
      "cell_type": "markdown",
      "metadata": {
        "id": "C3nU-l7MSdah"
      },
      "source": [
        "Comenzaremos cambiando el nombre de la columna **'plan'** del DataFrame 'users' a **'plan_name'** para llevar a cabo de forma exitosa la unión con el DataFrame **'plans'**.\n"
      ]
    },
    {
      "cell_type": "code",
      "execution_count": null,
      "metadata": {
        "id": "7HOvoC8QSdah"
      },
      "outputs": [],
      "source": [
        "# Cambiamos nombre de columna 'plan' a 'plan_name'\n",
        "users.rename(columns={'plan': 'plan_name'}, inplace=True)"
      ]
    },
    {
      "cell_type": "code",
      "execution_count": null,
      "metadata": {
        "id": "KhP2NN48Sdah"
      },
      "outputs": [],
      "source": [
        "# Añadimos la información del plan y los usuarios\n",
        "megalinev2 = megaline.merge(users, on='user_id')\n",
        "megalinev3 = megalinev2.merge(plans, on='plan_name')"
      ]
    },
    {
      "cell_type": "code",
      "execution_count": null,
      "metadata": {
        "id": "X23nOF-fSdai",
        "outputId": "47a51785-5c06-4513-a3eb-b4bb4b1bf24a"
      },
      "outputs": [
        {
          "name": "stdout",
          "output_type": "stream",
          "text": [
            "<class 'pandas.core.frame.DataFrame'>\n",
            "Int64Index: 2293 entries, 0 to 2292\n",
            "Data columns (total 20 columns):\n",
            " #   Column                 Non-Null Count  Dtype          \n",
            "---  ------                 --------------  -----          \n",
            " 0   user_id                2293 non-null   int64          \n",
            " 1   date                   2293 non-null   datetime64[ns] \n",
            " 2   calls_per_month        2293 non-null   float64        \n",
            " 3   call_time_monthly      2293 non-null   timedelta64[ns]\n",
            " 4   sms_per_month          2293 non-null   float64        \n",
            " 5   gb_usage               2293 non-null   float64        \n",
            " 6   first_name             2293 non-null   object         \n",
            " 7   last_name              2293 non-null   object         \n",
            " 8   age                    2293 non-null   int64          \n",
            " 9   city                   2293 non-null   object         \n",
            " 10  subscription_date      2293 non-null   datetime64[ns] \n",
            " 11  plan_name              2293 non-null   object         \n",
            " 12  churn_date             2293 non-null   object         \n",
            " 13  messages_included      2293 non-null   int64          \n",
            " 14  mb_per_month_included  2293 non-null   int64          \n",
            " 15  minutes_included       2293 non-null   int64          \n",
            " 16  usd_monthly_pay        2293 non-null   int64          \n",
            " 17  usd_per_gb             2293 non-null   int64          \n",
            " 18  usd_per_message        2293 non-null   float64        \n",
            " 19  usd_per_minute         2293 non-null   float64        \n",
            "dtypes: datetime64[ns](2), float64(5), int64(7), object(5), timedelta64[ns](1)\n",
            "memory usage: 376.2+ KB\n"
          ]
        }
      ],
      "source": [
        "# Revisamos nuestra nueva tabla\n",
        "megalinev3.info()"
      ]
    },
    {
      "cell_type": "code",
      "execution_count": null,
      "metadata": {
        "scrolled": true,
        "id": "dKCFdwR1Sdai",
        "outputId": "15ce291e-90ab-4b4e-cbc1-a1dc61c9a333"
      },
      "outputs": [
        {
          "data": {
            "text/html": [
              "<div>\n",
              "<style scoped>\n",
              "    .dataframe tbody tr th:only-of-type {\n",
              "        vertical-align: middle;\n",
              "    }\n",
              "\n",
              "    .dataframe tbody tr th {\n",
              "        vertical-align: top;\n",
              "    }\n",
              "\n",
              "    .dataframe thead th {\n",
              "        text-align: right;\n",
              "    }\n",
              "</style>\n",
              "<table border=\"1\" class=\"dataframe\">\n",
              "  <thead>\n",
              "    <tr style=\"text-align: right;\">\n",
              "      <th></th>\n",
              "      <th>user_id</th>\n",
              "      <th>date</th>\n",
              "      <th>calls_per_month</th>\n",
              "      <th>call_time_monthly</th>\n",
              "      <th>sms_per_month</th>\n",
              "      <th>gb_usage</th>\n",
              "      <th>first_name</th>\n",
              "      <th>last_name</th>\n",
              "      <th>age</th>\n",
              "      <th>city</th>\n",
              "      <th>subscription_date</th>\n",
              "      <th>plan_name</th>\n",
              "      <th>churn_date</th>\n",
              "      <th>messages_included</th>\n",
              "      <th>mb_per_month_included</th>\n",
              "      <th>minutes_included</th>\n",
              "      <th>usd_monthly_pay</th>\n",
              "      <th>usd_per_gb</th>\n",
              "      <th>usd_per_message</th>\n",
              "      <th>usd_per_minute</th>\n",
              "    </tr>\n",
              "  </thead>\n",
              "  <tbody>\n",
              "    <tr>\n",
              "      <th>0</th>\n",
              "      <td>1000</td>\n",
              "      <td>2018-12-31</td>\n",
              "      <td>16.0</td>\n",
              "      <td>0 days 02:04:00</td>\n",
              "      <td>11.0</td>\n",
              "      <td>2.0</td>\n",
              "      <td>Anamaria</td>\n",
              "      <td>Bauer</td>\n",
              "      <td>45</td>\n",
              "      <td>Atlanta-Sandy Springs-Roswell, GA MSA</td>\n",
              "      <td>2018-12-24</td>\n",
              "      <td>ultimate</td>\n",
              "      <td>unknown</td>\n",
              "      <td>1000</td>\n",
              "      <td>30720</td>\n",
              "      <td>3000</td>\n",
              "      <td>70</td>\n",
              "      <td>7</td>\n",
              "      <td>0.01</td>\n",
              "      <td>0.01</td>\n",
              "    </tr>\n",
              "    <tr>\n",
              "      <th>1</th>\n",
              "      <td>1006</td>\n",
              "      <td>2018-11-30</td>\n",
              "      <td>2.0</td>\n",
              "      <td>0 days 00:10:00</td>\n",
              "      <td>15.0</td>\n",
              "      <td>3.0</td>\n",
              "      <td>Jesusa</td>\n",
              "      <td>Bradford</td>\n",
              "      <td>73</td>\n",
              "      <td>San Francisco-Oakland-Berkeley, CA MSA</td>\n",
              "      <td>2018-11-27</td>\n",
              "      <td>ultimate</td>\n",
              "      <td>2018-12-18 00:00:00</td>\n",
              "      <td>1000</td>\n",
              "      <td>30720</td>\n",
              "      <td>3000</td>\n",
              "      <td>70</td>\n",
              "      <td>7</td>\n",
              "      <td>0.01</td>\n",
              "      <td>0.01</td>\n",
              "    </tr>\n",
              "    <tr>\n",
              "      <th>2</th>\n",
              "      <td>1006</td>\n",
              "      <td>2018-12-31</td>\n",
              "      <td>9.0</td>\n",
              "      <td>0 days 00:59:00</td>\n",
              "      <td>139.0</td>\n",
              "      <td>32.0</td>\n",
              "      <td>Jesusa</td>\n",
              "      <td>Bradford</td>\n",
              "      <td>73</td>\n",
              "      <td>San Francisco-Oakland-Berkeley, CA MSA</td>\n",
              "      <td>2018-11-27</td>\n",
              "      <td>ultimate</td>\n",
              "      <td>2018-12-18 00:00:00</td>\n",
              "      <td>1000</td>\n",
              "      <td>30720</td>\n",
              "      <td>3000</td>\n",
              "      <td>70</td>\n",
              "      <td>7</td>\n",
              "      <td>0.01</td>\n",
              "      <td>0.01</td>\n",
              "    </tr>\n",
              "    <tr>\n",
              "      <th>3</th>\n",
              "      <td>1008</td>\n",
              "      <td>2018-10-31</td>\n",
              "      <td>71.0</td>\n",
              "      <td>0 days 07:55:00</td>\n",
              "      <td>21.0</td>\n",
              "      <td>17.0</td>\n",
              "      <td>Emely</td>\n",
              "      <td>Hoffman</td>\n",
              "      <td>53</td>\n",
              "      <td>Orlando-Kissimmee-Sanford, FL MSA</td>\n",
              "      <td>2018-08-03</td>\n",
              "      <td>ultimate</td>\n",
              "      <td>unknown</td>\n",
              "      <td>1000</td>\n",
              "      <td>30720</td>\n",
              "      <td>3000</td>\n",
              "      <td>70</td>\n",
              "      <td>7</td>\n",
              "      <td>0.01</td>\n",
              "      <td>0.01</td>\n",
              "    </tr>\n",
              "    <tr>\n",
              "      <th>4</th>\n",
              "      <td>1008</td>\n",
              "      <td>2018-11-30</td>\n",
              "      <td>63.0</td>\n",
              "      <td>0 days 07:26:00</td>\n",
              "      <td>37.0</td>\n",
              "      <td>24.0</td>\n",
              "      <td>Emely</td>\n",
              "      <td>Hoffman</td>\n",
              "      <td>53</td>\n",
              "      <td>Orlando-Kissimmee-Sanford, FL MSA</td>\n",
              "      <td>2018-08-03</td>\n",
              "      <td>ultimate</td>\n",
              "      <td>unknown</td>\n",
              "      <td>1000</td>\n",
              "      <td>30720</td>\n",
              "      <td>3000</td>\n",
              "      <td>70</td>\n",
              "      <td>7</td>\n",
              "      <td>0.01</td>\n",
              "      <td>0.01</td>\n",
              "    </tr>\n",
              "    <tr>\n",
              "      <th>...</th>\n",
              "      <td>...</td>\n",
              "      <td>...</td>\n",
              "      <td>...</td>\n",
              "      <td>...</td>\n",
              "      <td>...</td>\n",
              "      <td>...</td>\n",
              "      <td>...</td>\n",
              "      <td>...</td>\n",
              "      <td>...</td>\n",
              "      <td>...</td>\n",
              "      <td>...</td>\n",
              "      <td>...</td>\n",
              "      <td>...</td>\n",
              "      <td>...</td>\n",
              "      <td>...</td>\n",
              "      <td>...</td>\n",
              "      <td>...</td>\n",
              "      <td>...</td>\n",
              "      <td>...</td>\n",
              "      <td>...</td>\n",
              "    </tr>\n",
              "    <tr>\n",
              "      <th>2288</th>\n",
              "      <td>1194</td>\n",
              "      <td>2018-11-30</td>\n",
              "      <td>0.0</td>\n",
              "      <td>0 days 00:00:00</td>\n",
              "      <td>62.0</td>\n",
              "      <td>42.0</td>\n",
              "      <td>Robert</td>\n",
              "      <td>Mclean</td>\n",
              "      <td>40</td>\n",
              "      <td>San Jose-Sunnyvale-Santa Clara, CA MSA</td>\n",
              "      <td>2018-05-31</td>\n",
              "      <td>surf</td>\n",
              "      <td>unknown</td>\n",
              "      <td>50</td>\n",
              "      <td>15360</td>\n",
              "      <td>500</td>\n",
              "      <td>20</td>\n",
              "      <td>10</td>\n",
              "      <td>0.03</td>\n",
              "      <td>0.03</td>\n",
              "    </tr>\n",
              "    <tr>\n",
              "      <th>2289</th>\n",
              "      <td>1194</td>\n",
              "      <td>2018-12-31</td>\n",
              "      <td>0.0</td>\n",
              "      <td>0 days 00:00:00</td>\n",
              "      <td>56.0</td>\n",
              "      <td>31.0</td>\n",
              "      <td>Robert</td>\n",
              "      <td>Mclean</td>\n",
              "      <td>40</td>\n",
              "      <td>San Jose-Sunnyvale-Santa Clara, CA MSA</td>\n",
              "      <td>2018-05-31</td>\n",
              "      <td>surf</td>\n",
              "      <td>unknown</td>\n",
              "      <td>50</td>\n",
              "      <td>15360</td>\n",
              "      <td>500</td>\n",
              "      <td>20</td>\n",
              "      <td>10</td>\n",
              "      <td>0.03</td>\n",
              "      <td>0.03</td>\n",
              "    </tr>\n",
              "    <tr>\n",
              "      <th>2290</th>\n",
              "      <td>1349</td>\n",
              "      <td>2018-10-31</td>\n",
              "      <td>0.0</td>\n",
              "      <td>0 days 00:00:00</td>\n",
              "      <td>76.0</td>\n",
              "      <td>13.0</td>\n",
              "      <td>Florentina</td>\n",
              "      <td>Diaz</td>\n",
              "      <td>69</td>\n",
              "      <td>Boston-Cambridge-Newton, MA-NH MSA</td>\n",
              "      <td>2018-10-01</td>\n",
              "      <td>surf</td>\n",
              "      <td>unknown</td>\n",
              "      <td>50</td>\n",
              "      <td>15360</td>\n",
              "      <td>500</td>\n",
              "      <td>20</td>\n",
              "      <td>10</td>\n",
              "      <td>0.03</td>\n",
              "      <td>0.03</td>\n",
              "    </tr>\n",
              "    <tr>\n",
              "      <th>2291</th>\n",
              "      <td>1349</td>\n",
              "      <td>2018-11-30</td>\n",
              "      <td>0.0</td>\n",
              "      <td>0 days 00:00:00</td>\n",
              "      <td>72.0</td>\n",
              "      <td>17.0</td>\n",
              "      <td>Florentina</td>\n",
              "      <td>Diaz</td>\n",
              "      <td>69</td>\n",
              "      <td>Boston-Cambridge-Newton, MA-NH MSA</td>\n",
              "      <td>2018-10-01</td>\n",
              "      <td>surf</td>\n",
              "      <td>unknown</td>\n",
              "      <td>50</td>\n",
              "      <td>15360</td>\n",
              "      <td>500</td>\n",
              "      <td>20</td>\n",
              "      <td>10</td>\n",
              "      <td>0.03</td>\n",
              "      <td>0.03</td>\n",
              "    </tr>\n",
              "    <tr>\n",
              "      <th>2292</th>\n",
              "      <td>1349</td>\n",
              "      <td>2018-12-31</td>\n",
              "      <td>0.0</td>\n",
              "      <td>0 days 00:00:00</td>\n",
              "      <td>61.0</td>\n",
              "      <td>13.0</td>\n",
              "      <td>Florentina</td>\n",
              "      <td>Diaz</td>\n",
              "      <td>69</td>\n",
              "      <td>Boston-Cambridge-Newton, MA-NH MSA</td>\n",
              "      <td>2018-10-01</td>\n",
              "      <td>surf</td>\n",
              "      <td>unknown</td>\n",
              "      <td>50</td>\n",
              "      <td>15360</td>\n",
              "      <td>500</td>\n",
              "      <td>20</td>\n",
              "      <td>10</td>\n",
              "      <td>0.03</td>\n",
              "      <td>0.03</td>\n",
              "    </tr>\n",
              "  </tbody>\n",
              "</table>\n",
              "<p>2293 rows × 20 columns</p>\n",
              "</div>"
            ],
            "text/plain": [
              "      user_id       date  calls_per_month call_time_monthly  sms_per_month  \\\n",
              "0        1000 2018-12-31             16.0   0 days 02:04:00           11.0   \n",
              "1        1006 2018-11-30              2.0   0 days 00:10:00           15.0   \n",
              "2        1006 2018-12-31              9.0   0 days 00:59:00          139.0   \n",
              "3        1008 2018-10-31             71.0   0 days 07:55:00           21.0   \n",
              "4        1008 2018-11-30             63.0   0 days 07:26:00           37.0   \n",
              "...       ...        ...              ...               ...            ...   \n",
              "2288     1194 2018-11-30              0.0   0 days 00:00:00           62.0   \n",
              "2289     1194 2018-12-31              0.0   0 days 00:00:00           56.0   \n",
              "2290     1349 2018-10-31              0.0   0 days 00:00:00           76.0   \n",
              "2291     1349 2018-11-30              0.0   0 days 00:00:00           72.0   \n",
              "2292     1349 2018-12-31              0.0   0 days 00:00:00           61.0   \n",
              "\n",
              "      gb_usage  first_name last_name  age  \\\n",
              "0          2.0    Anamaria     Bauer   45   \n",
              "1          3.0      Jesusa  Bradford   73   \n",
              "2         32.0      Jesusa  Bradford   73   \n",
              "3         17.0       Emely   Hoffman   53   \n",
              "4         24.0       Emely   Hoffman   53   \n",
              "...        ...         ...       ...  ...   \n",
              "2288      42.0      Robert    Mclean   40   \n",
              "2289      31.0      Robert    Mclean   40   \n",
              "2290      13.0  Florentina      Diaz   69   \n",
              "2291      17.0  Florentina      Diaz   69   \n",
              "2292      13.0  Florentina      Diaz   69   \n",
              "\n",
              "                                        city subscription_date plan_name  \\\n",
              "0      Atlanta-Sandy Springs-Roswell, GA MSA        2018-12-24  ultimate   \n",
              "1     San Francisco-Oakland-Berkeley, CA MSA        2018-11-27  ultimate   \n",
              "2     San Francisco-Oakland-Berkeley, CA MSA        2018-11-27  ultimate   \n",
              "3          Orlando-Kissimmee-Sanford, FL MSA        2018-08-03  ultimate   \n",
              "4          Orlando-Kissimmee-Sanford, FL MSA        2018-08-03  ultimate   \n",
              "...                                      ...               ...       ...   \n",
              "2288  San Jose-Sunnyvale-Santa Clara, CA MSA        2018-05-31      surf   \n",
              "2289  San Jose-Sunnyvale-Santa Clara, CA MSA        2018-05-31      surf   \n",
              "2290      Boston-Cambridge-Newton, MA-NH MSA        2018-10-01      surf   \n",
              "2291      Boston-Cambridge-Newton, MA-NH MSA        2018-10-01      surf   \n",
              "2292      Boston-Cambridge-Newton, MA-NH MSA        2018-10-01      surf   \n",
              "\n",
              "               churn_date  messages_included  mb_per_month_included  \\\n",
              "0                 unknown               1000                  30720   \n",
              "1     2018-12-18 00:00:00               1000                  30720   \n",
              "2     2018-12-18 00:00:00               1000                  30720   \n",
              "3                 unknown               1000                  30720   \n",
              "4                 unknown               1000                  30720   \n",
              "...                   ...                ...                    ...   \n",
              "2288              unknown                 50                  15360   \n",
              "2289              unknown                 50                  15360   \n",
              "2290              unknown                 50                  15360   \n",
              "2291              unknown                 50                  15360   \n",
              "2292              unknown                 50                  15360   \n",
              "\n",
              "      minutes_included  usd_monthly_pay  usd_per_gb  usd_per_message  \\\n",
              "0                 3000               70           7             0.01   \n",
              "1                 3000               70           7             0.01   \n",
              "2                 3000               70           7             0.01   \n",
              "3                 3000               70           7             0.01   \n",
              "4                 3000               70           7             0.01   \n",
              "...                ...              ...         ...              ...   \n",
              "2288               500               20          10             0.03   \n",
              "2289               500               20          10             0.03   \n",
              "2290               500               20          10             0.03   \n",
              "2291               500               20          10             0.03   \n",
              "2292               500               20          10             0.03   \n",
              "\n",
              "      usd_per_minute  \n",
              "0               0.01  \n",
              "1               0.01  \n",
              "2               0.01  \n",
              "3               0.01  \n",
              "4               0.01  \n",
              "...              ...  \n",
              "2288            0.03  \n",
              "2289            0.03  \n",
              "2290            0.03  \n",
              "2291            0.03  \n",
              "2292            0.03  \n",
              "\n",
              "[2293 rows x 20 columns]"
            ]
          },
          "execution_count": 69,
          "metadata": {},
          "output_type": "execute_result"
        }
      ],
      "source": [
        "# Le damos un vistazo\n",
        "megalinev3"
      ]
    },
    {
      "cell_type": "markdown",
      "metadata": {
        "id": "1HspAFFMSdai"
      },
      "source": [
        "Pasaremos la columna **'mb_per_month_included'** de mb a gb y la renombraremos como **'gb_per_month_included'**, para no tener problemas en calcular el excedente por usuario más adelante."
      ]
    },
    {
      "cell_type": "code",
      "execution_count": null,
      "metadata": {
        "id": "oU2i2z7CSdai"
      },
      "outputs": [],
      "source": [
        "# En este caso pasaremos la columna 'mb_per_month_included' de mg a gb\n",
        "megalinev3['mb_per_month_included'] = megalinev3['mb_per_month_included'] / 1024\n",
        "\n",
        "# Cambiamos el nombre de la columna a 'gb_per_month_included'\n",
        "megalinev3.rename(columns={'mb_per_month_included': 'gb_per_month_included'}, inplace=True)"
      ]
    },
    {
      "cell_type": "markdown",
      "metadata": {
        "id": "uTfmFF5_Sdai"
      },
      "source": [
        "Ya teniendo nuestras tablas unidas con la información de los usuarios, las especificaciones de los planes y el uso de sms, internet y llamadas por usuarios por mes, calcularemos los ingresos mensuales por usuario. Para esto restaremos el límite del paquete gratuito del número total de llamadas, SMS y datos; y multiplicaremos el resultado por el valor de tarifa de llamadas, SMS y datos, respectivamente."
      ]
    },
    {
      "cell_type": "markdown",
      "metadata": {
        "id": "1vDm7tsTSdai"
      },
      "source": [
        "### Primero calcularemos el excedente de uso de intenet en GB. Para esto crearemos la columna **'gb_surplus_charge'**."
      ]
    },
    {
      "cell_type": "code",
      "execution_count": null,
      "metadata": {
        "id": "_PcT1_b2Sdai"
      },
      "outputs": [],
      "source": [
        "# Creamos la columna 'gb_surplus_charge'\n",
        "megalinev3['gb_surplus_charge'] = megalinev3['gb_per_month_included'] - megalinev3['gb_usage']"
      ]
    },
    {
      "cell_type": "markdown",
      "metadata": {
        "id": "hVMCbzTfSdaj"
      },
      "source": [
        "Sus valores positivos los dejaremos en 0, ya que no representan un excedente. Y los valores negativos los pasaremos a positivos, ya que representan el excedente de gb, que será multiplicado por el valor de la tarifa de los gb del plan respectivo."
      ]
    },
    {
      "cell_type": "code",
      "execution_count": null,
      "metadata": {
        "id": "wd6iIHpKSdaj"
      },
      "outputs": [],
      "source": [
        "# Dejamos los valores positivos en 0\n",
        "megalinev3['gb_surplus_charge'] = megalinev3['gb_surplus_charge'].apply(lambda x: x if x < 0 else 0)"
      ]
    },
    {
      "cell_type": "code",
      "execution_count": null,
      "metadata": {
        "id": "FpKzAtZwSdaj"
      },
      "outputs": [],
      "source": [
        "# Pasamos los valores negativos a positivos y los multiplicamos por el costo de la tarifa de gb (usd_per_gb)\n",
        "megalinev3['gb_surplus_charge'] = megalinev3['gb_surplus_charge'].abs() * megalinev3['usd_per_gb']"
      ]
    },
    {
      "cell_type": "code",
      "execution_count": null,
      "metadata": {
        "id": "8kGbVbiZSdaj",
        "outputId": "e5f6c230-7dcf-40e3-a5bf-5851e3718c06"
      },
      "outputs": [
        {
          "data": {
            "text/plain": [
              "0         0.0\n",
              "1         0.0\n",
              "2        14.0\n",
              "3         0.0\n",
              "4         0.0\n",
              "        ...  \n",
              "2288    270.0\n",
              "2289    160.0\n",
              "2290      0.0\n",
              "2291     20.0\n",
              "2292      0.0\n",
              "Name: gb_surplus_charge, Length: 2293, dtype: float64"
            ]
          },
          "execution_count": 74,
          "metadata": {},
          "output_type": "execute_result"
        }
      ],
      "source": [
        "# Echamos un vistazo a nuestra columna\n",
        "megalinev3['gb_surplus_charge']"
      ]
    },
    {
      "cell_type": "markdown",
      "metadata": {
        "id": "3VwPrGAESdaj"
      },
      "source": [
        "### Continuamos con el excedente de sms. Para esto crearemos la columna **'sms_surplus_charge'**."
      ]
    },
    {
      "cell_type": "markdown",
      "metadata": {
        "id": "Q5bYPX4pSdaj"
      },
      "source": [
        "Para crear las siguientes columnas seguiremos la misma lógica que utilizamos para crear la columna 'gb_surplus_charge'."
      ]
    },
    {
      "cell_type": "code",
      "execution_count": null,
      "metadata": {
        "id": "XvR84y9ySdaj"
      },
      "outputs": [],
      "source": [
        "# Creamos la columna 'sms_surplus_charge'\n",
        "megalinev3['sms_surplus_charge'] = megalinev3['messages_included'] - megalinev3['sms_per_month']"
      ]
    },
    {
      "cell_type": "code",
      "execution_count": null,
      "metadata": {
        "scrolled": true,
        "id": "Dpl73LYzSdak"
      },
      "outputs": [],
      "source": [
        "# Dejamos los valores positivos en 0\n",
        "megalinev3['sms_surplus_charge'] = megalinev3['sms_surplus_charge'].apply(lambda x: x if x < 0 else 0)"
      ]
    },
    {
      "cell_type": "code",
      "execution_count": null,
      "metadata": {
        "id": "csjI7aSzSdak"
      },
      "outputs": [],
      "source": [
        "# Pasamos los valores negativos a positivos y los multiplicamos por el costo de la tarifa de gb (usd_per_gb)\n",
        "megalinev3['sms_surplus_charge'] = megalinev3['sms_surplus_charge'].abs() * megalinev3['usd_per_message']"
      ]
    },
    {
      "cell_type": "code",
      "execution_count": null,
      "metadata": {
        "id": "HTql16tOSdak",
        "outputId": "c91cd26f-32bd-4d87-dbb1-e0babb3cad42"
      },
      "outputs": [
        {
          "data": {
            "text/plain": [
              "0       0.00\n",
              "1       0.00\n",
              "2       0.00\n",
              "3       0.00\n",
              "4       0.00\n",
              "        ... \n",
              "2288    0.36\n",
              "2289    0.18\n",
              "2290    0.78\n",
              "2291    0.66\n",
              "2292    0.33\n",
              "Name: sms_surplus_charge, Length: 2293, dtype: float64"
            ]
          },
          "execution_count": 78,
          "metadata": {},
          "output_type": "execute_result"
        }
      ],
      "source": [
        "# Revisamos la columna\n",
        "megalinev3['sms_surplus_charge']"
      ]
    },
    {
      "cell_type": "markdown",
      "metadata": {
        "id": "uvHm1qm4Sdak"
      },
      "source": [
        "### Calculamos el excedente de los minutos para las llamadas. Para esto crearemos la columna 'minutes_surplus_charge'."
      ]
    },
    {
      "cell_type": "markdown",
      "metadata": {
        "id": "AYhp8uyrSdak"
      },
      "source": [
        "En este caso la columna con la que queremos hacer los cálculos (**'call_time_monthly'**) está en formato timedelta64, que la pasaremos a int64 para no tener problemas al hacer los cálculos."
      ]
    },
    {
      "cell_type": "code",
      "execution_count": null,
      "metadata": {
        "id": "0xEMTSvfSdak"
      },
      "outputs": [],
      "source": [
        "# Extraer los minutos de la columna 'call_time_monthly'\n",
        "megalinev3['call_time_monthly'] = (megalinev3['call_time_monthly'].dt.total_seconds() / 60).round().astype('int64')"
      ]
    },
    {
      "cell_type": "code",
      "execution_count": null,
      "metadata": {
        "scrolled": false,
        "id": "xq7rxENBSdak",
        "outputId": "54174e0f-1c6f-4d4c-e9a6-763aaed0d3cd"
      },
      "outputs": [
        {
          "data": {
            "text/plain": [
              "0       124\n",
              "1        10\n",
              "2        59\n",
              "3       475\n",
              "4       446\n",
              "       ... \n",
              "2288      0\n",
              "2289      0\n",
              "2290      0\n",
              "2291      0\n",
              "2292      0\n",
              "Name: call_time_monthly, Length: 2293, dtype: int64"
            ]
          },
          "execution_count": 80,
          "metadata": {},
          "output_type": "execute_result"
        }
      ],
      "source": [
        "# Revisamos que se hayan efectuado los cambios\n",
        "megalinev3['call_time_monthly']"
      ]
    },
    {
      "cell_type": "markdown",
      "metadata": {
        "id": "uwqP1YDqSdal"
      },
      "source": [
        "Los cambios se llevaron a cabo con éxito, ahora aplicaremos el proceso utilizado anteriormente."
      ]
    },
    {
      "cell_type": "code",
      "execution_count": null,
      "metadata": {
        "id": "MiuG82hISdal"
      },
      "outputs": [],
      "source": [
        "# Creamos la columna 'minutes_surplus_charge'\n",
        "megalinev3['minutes_surplus_charge'] = megalinev3['minutes_included'] - megalinev3['call_time_monthly']"
      ]
    },
    {
      "cell_type": "code",
      "execution_count": null,
      "metadata": {
        "id": "iK3bq32vSdal"
      },
      "outputs": [],
      "source": [
        "# Dejamos los valores positivos en 0\n",
        "megalinev3['minutes_surplus_charge'] = megalinev3['minutes_surplus_charge'].apply(lambda x: x if x < 0 else 0)"
      ]
    },
    {
      "cell_type": "code",
      "execution_count": null,
      "metadata": {
        "id": "5dpBYH7eSdal"
      },
      "outputs": [],
      "source": [
        "# Pasamos los valores negativos a positivos y los multiplicamos por el costo de la tarifa de gb (usd_per_gb)\n",
        "megalinev3['minutes_surplus_charge'] = megalinev3['minutes_surplus_charge'].abs() * megalinev3['usd_per_minute']"
      ]
    },
    {
      "cell_type": "code",
      "execution_count": null,
      "metadata": {
        "id": "TcUtwI10Sdal",
        "outputId": "d80e937a-128e-4222-f7ec-381e74705c9e"
      },
      "outputs": [
        {
          "data": {
            "text/plain": [
              "0       0.0\n",
              "1       0.0\n",
              "2       0.0\n",
              "3       0.0\n",
              "4       0.0\n",
              "       ... \n",
              "2288    0.0\n",
              "2289    0.0\n",
              "2290    0.0\n",
              "2291    0.0\n",
              "2292    0.0\n",
              "Name: minutes_surplus_charge, Length: 2293, dtype: float64"
            ]
          },
          "execution_count": 84,
          "metadata": {},
          "output_type": "execute_result"
        }
      ],
      "source": [
        "# Revisamos nuestra nueva columna\n",
        "megalinev3['minutes_surplus_charge']"
      ]
    },
    {
      "cell_type": "markdown",
      "metadata": {
        "id": "vabj4zJPSdal"
      },
      "source": [
        "### Finalmente calcula el ingreso mensual para cada usuario."
      ]
    },
    {
      "cell_type": "markdown",
      "metadata": {
        "id": "8sIQF7gySdal"
      },
      "source": [
        "Para esto crearemos la columna **'total_surplus_charge'** que guardará el total de los excedentes calculados anteriormente. Luego crearemos la columna **'user_monthly_income'**, que guardará los ingresos mensuales por usuario. Esto lo haremos sumando la columna **'total_surplus_charge'** la columna **'usd_monthly_pay'**."
      ]
    },
    {
      "cell_type": "code",
      "execution_count": null,
      "metadata": {
        "id": "mHoy7_t7Sdam"
      },
      "outputs": [],
      "source": [
        "# Sumamos los excedentes\n",
        "megalinev3['total_surplus_charge'] = megalinev3['gb_surplus_charge'] + megalinev3['sms_surplus_charge'] + megalinev3['minutes_surplus_charge']"
      ]
    },
    {
      "cell_type": "code",
      "execution_count": null,
      "metadata": {
        "id": "OVvzqzvaSdam"
      },
      "outputs": [],
      "source": [
        "# Creamos la columna 'user_monthly_income'\n",
        "megalinev3['user_monthly_income'] = megalinev3['total_surplus_charge'] + megalinev3['usd_monthly_pay']"
      ]
    },
    {
      "cell_type": "code",
      "execution_count": null,
      "metadata": {
        "id": "fSdNWwp_Sdam",
        "outputId": "24dfe8ba-f002-4f06-ba76-3e46d52d44ee"
      },
      "outputs": [
        {
          "data": {
            "text/plain": [
              "0        70.00\n",
              "1        70.00\n",
              "2        84.00\n",
              "3        70.00\n",
              "4        70.00\n",
              "         ...  \n",
              "2288    290.36\n",
              "2289    180.18\n",
              "2290     20.78\n",
              "2291     40.66\n",
              "2292     20.33\n",
              "Name: user_monthly_income, Length: 2293, dtype: float64"
            ]
          },
          "execution_count": 87,
          "metadata": {},
          "output_type": "execute_result"
        }
      ],
      "source": [
        "# Revisamos nuestra valiosa columna\n",
        "megalinev3['user_monthly_income']"
      ]
    },
    {
      "cell_type": "code",
      "execution_count": null,
      "metadata": {
        "scrolled": true,
        "id": "WFoF95-mSdam",
        "outputId": "090da389-1345-48f9-f5ad-b8f02949e818"
      },
      "outputs": [
        {
          "name": "stdout",
          "output_type": "stream",
          "text": [
            "<class 'pandas.core.frame.DataFrame'>\n",
            "Int64Index: 2293 entries, 0 to 2292\n",
            "Data columns (total 25 columns):\n",
            " #   Column                  Non-Null Count  Dtype         \n",
            "---  ------                  --------------  -----         \n",
            " 0   user_id                 2293 non-null   int64         \n",
            " 1   date                    2293 non-null   datetime64[ns]\n",
            " 2   calls_per_month         2293 non-null   float64       \n",
            " 3   call_time_monthly       2293 non-null   int64         \n",
            " 4   sms_per_month           2293 non-null   float64       \n",
            " 5   gb_usage                2293 non-null   float64       \n",
            " 6   first_name              2293 non-null   object        \n",
            " 7   last_name               2293 non-null   object        \n",
            " 8   age                     2293 non-null   int64         \n",
            " 9   city                    2293 non-null   object        \n",
            " 10  subscription_date       2293 non-null   datetime64[ns]\n",
            " 11  plan_name               2293 non-null   object        \n",
            " 12  churn_date              2293 non-null   object        \n",
            " 13  messages_included       2293 non-null   int64         \n",
            " 14  gb_per_month_included   2293 non-null   float64       \n",
            " 15  minutes_included        2293 non-null   int64         \n",
            " 16  usd_monthly_pay         2293 non-null   int64         \n",
            " 17  usd_per_gb              2293 non-null   int64         \n",
            " 18  usd_per_message         2293 non-null   float64       \n",
            " 19  usd_per_minute          2293 non-null   float64       \n",
            " 20  gb_surplus_charge       2293 non-null   float64       \n",
            " 21  sms_surplus_charge      2293 non-null   float64       \n",
            " 22  minutes_surplus_charge  2293 non-null   float64       \n",
            " 23  total_surplus_charge    2293 non-null   float64       \n",
            " 24  user_monthly_income     2293 non-null   float64       \n",
            "dtypes: datetime64[ns](2), float64(11), int64(7), object(5)\n",
            "memory usage: 465.8+ KB\n"
          ]
        }
      ],
      "source": [
        "# Revisamos las características de nuestro nuevo DataFrame\n",
        "megalinev3.info()"
      ]
    },
    {
      "cell_type": "code",
      "execution_count": null,
      "metadata": {
        "scrolled": true,
        "id": "DwRANqSNSdao",
        "outputId": "0320167c-ec91-42cd-cfa8-00410808033a"
      },
      "outputs": [
        {
          "data": {
            "text/html": [
              "<div>\n",
              "<style scoped>\n",
              "    .dataframe tbody tr th:only-of-type {\n",
              "        vertical-align: middle;\n",
              "    }\n",
              "\n",
              "    .dataframe tbody tr th {\n",
              "        vertical-align: top;\n",
              "    }\n",
              "\n",
              "    .dataframe thead th {\n",
              "        text-align: right;\n",
              "    }\n",
              "</style>\n",
              "<table border=\"1\" class=\"dataframe\">\n",
              "  <thead>\n",
              "    <tr style=\"text-align: right;\">\n",
              "      <th></th>\n",
              "      <th>user_id</th>\n",
              "      <th>date</th>\n",
              "      <th>calls_per_month</th>\n",
              "      <th>call_time_monthly</th>\n",
              "      <th>sms_per_month</th>\n",
              "      <th>gb_usage</th>\n",
              "      <th>first_name</th>\n",
              "      <th>last_name</th>\n",
              "      <th>age</th>\n",
              "      <th>city</th>\n",
              "      <th>...</th>\n",
              "      <th>minutes_included</th>\n",
              "      <th>usd_monthly_pay</th>\n",
              "      <th>usd_per_gb</th>\n",
              "      <th>usd_per_message</th>\n",
              "      <th>usd_per_minute</th>\n",
              "      <th>gb_surplus_charge</th>\n",
              "      <th>sms_surplus_charge</th>\n",
              "      <th>minutes_surplus_charge</th>\n",
              "      <th>total_surplus_charge</th>\n",
              "      <th>user_monthly_income</th>\n",
              "    </tr>\n",
              "  </thead>\n",
              "  <tbody>\n",
              "    <tr>\n",
              "      <th>0</th>\n",
              "      <td>1000</td>\n",
              "      <td>2018-12-31</td>\n",
              "      <td>16.0</td>\n",
              "      <td>124</td>\n",
              "      <td>11.0</td>\n",
              "      <td>2.0</td>\n",
              "      <td>Anamaria</td>\n",
              "      <td>Bauer</td>\n",
              "      <td>45</td>\n",
              "      <td>Atlanta-Sandy Springs-Roswell, GA MSA</td>\n",
              "      <td>...</td>\n",
              "      <td>3000</td>\n",
              "      <td>70</td>\n",
              "      <td>7</td>\n",
              "      <td>0.01</td>\n",
              "      <td>0.01</td>\n",
              "      <td>0.0</td>\n",
              "      <td>0.00</td>\n",
              "      <td>0.0</td>\n",
              "      <td>0.00</td>\n",
              "      <td>70.00</td>\n",
              "    </tr>\n",
              "    <tr>\n",
              "      <th>1</th>\n",
              "      <td>1006</td>\n",
              "      <td>2018-11-30</td>\n",
              "      <td>2.0</td>\n",
              "      <td>10</td>\n",
              "      <td>15.0</td>\n",
              "      <td>3.0</td>\n",
              "      <td>Jesusa</td>\n",
              "      <td>Bradford</td>\n",
              "      <td>73</td>\n",
              "      <td>San Francisco-Oakland-Berkeley, CA MSA</td>\n",
              "      <td>...</td>\n",
              "      <td>3000</td>\n",
              "      <td>70</td>\n",
              "      <td>7</td>\n",
              "      <td>0.01</td>\n",
              "      <td>0.01</td>\n",
              "      <td>0.0</td>\n",
              "      <td>0.00</td>\n",
              "      <td>0.0</td>\n",
              "      <td>0.00</td>\n",
              "      <td>70.00</td>\n",
              "    </tr>\n",
              "    <tr>\n",
              "      <th>2</th>\n",
              "      <td>1006</td>\n",
              "      <td>2018-12-31</td>\n",
              "      <td>9.0</td>\n",
              "      <td>59</td>\n",
              "      <td>139.0</td>\n",
              "      <td>32.0</td>\n",
              "      <td>Jesusa</td>\n",
              "      <td>Bradford</td>\n",
              "      <td>73</td>\n",
              "      <td>San Francisco-Oakland-Berkeley, CA MSA</td>\n",
              "      <td>...</td>\n",
              "      <td>3000</td>\n",
              "      <td>70</td>\n",
              "      <td>7</td>\n",
              "      <td>0.01</td>\n",
              "      <td>0.01</td>\n",
              "      <td>14.0</td>\n",
              "      <td>0.00</td>\n",
              "      <td>0.0</td>\n",
              "      <td>14.00</td>\n",
              "      <td>84.00</td>\n",
              "    </tr>\n",
              "    <tr>\n",
              "      <th>3</th>\n",
              "      <td>1008</td>\n",
              "      <td>2018-10-31</td>\n",
              "      <td>71.0</td>\n",
              "      <td>475</td>\n",
              "      <td>21.0</td>\n",
              "      <td>17.0</td>\n",
              "      <td>Emely</td>\n",
              "      <td>Hoffman</td>\n",
              "      <td>53</td>\n",
              "      <td>Orlando-Kissimmee-Sanford, FL MSA</td>\n",
              "      <td>...</td>\n",
              "      <td>3000</td>\n",
              "      <td>70</td>\n",
              "      <td>7</td>\n",
              "      <td>0.01</td>\n",
              "      <td>0.01</td>\n",
              "      <td>0.0</td>\n",
              "      <td>0.00</td>\n",
              "      <td>0.0</td>\n",
              "      <td>0.00</td>\n",
              "      <td>70.00</td>\n",
              "    </tr>\n",
              "    <tr>\n",
              "      <th>4</th>\n",
              "      <td>1008</td>\n",
              "      <td>2018-11-30</td>\n",
              "      <td>63.0</td>\n",
              "      <td>446</td>\n",
              "      <td>37.0</td>\n",
              "      <td>24.0</td>\n",
              "      <td>Emely</td>\n",
              "      <td>Hoffman</td>\n",
              "      <td>53</td>\n",
              "      <td>Orlando-Kissimmee-Sanford, FL MSA</td>\n",
              "      <td>...</td>\n",
              "      <td>3000</td>\n",
              "      <td>70</td>\n",
              "      <td>7</td>\n",
              "      <td>0.01</td>\n",
              "      <td>0.01</td>\n",
              "      <td>0.0</td>\n",
              "      <td>0.00</td>\n",
              "      <td>0.0</td>\n",
              "      <td>0.00</td>\n",
              "      <td>70.00</td>\n",
              "    </tr>\n",
              "    <tr>\n",
              "      <th>...</th>\n",
              "      <td>...</td>\n",
              "      <td>...</td>\n",
              "      <td>...</td>\n",
              "      <td>...</td>\n",
              "      <td>...</td>\n",
              "      <td>...</td>\n",
              "      <td>...</td>\n",
              "      <td>...</td>\n",
              "      <td>...</td>\n",
              "      <td>...</td>\n",
              "      <td>...</td>\n",
              "      <td>...</td>\n",
              "      <td>...</td>\n",
              "      <td>...</td>\n",
              "      <td>...</td>\n",
              "      <td>...</td>\n",
              "      <td>...</td>\n",
              "      <td>...</td>\n",
              "      <td>...</td>\n",
              "      <td>...</td>\n",
              "      <td>...</td>\n",
              "    </tr>\n",
              "    <tr>\n",
              "      <th>2288</th>\n",
              "      <td>1194</td>\n",
              "      <td>2018-11-30</td>\n",
              "      <td>0.0</td>\n",
              "      <td>0</td>\n",
              "      <td>62.0</td>\n",
              "      <td>42.0</td>\n",
              "      <td>Robert</td>\n",
              "      <td>Mclean</td>\n",
              "      <td>40</td>\n",
              "      <td>San Jose-Sunnyvale-Santa Clara, CA MSA</td>\n",
              "      <td>...</td>\n",
              "      <td>500</td>\n",
              "      <td>20</td>\n",
              "      <td>10</td>\n",
              "      <td>0.03</td>\n",
              "      <td>0.03</td>\n",
              "      <td>270.0</td>\n",
              "      <td>0.36</td>\n",
              "      <td>0.0</td>\n",
              "      <td>270.36</td>\n",
              "      <td>290.36</td>\n",
              "    </tr>\n",
              "    <tr>\n",
              "      <th>2289</th>\n",
              "      <td>1194</td>\n",
              "      <td>2018-12-31</td>\n",
              "      <td>0.0</td>\n",
              "      <td>0</td>\n",
              "      <td>56.0</td>\n",
              "      <td>31.0</td>\n",
              "      <td>Robert</td>\n",
              "      <td>Mclean</td>\n",
              "      <td>40</td>\n",
              "      <td>San Jose-Sunnyvale-Santa Clara, CA MSA</td>\n",
              "      <td>...</td>\n",
              "      <td>500</td>\n",
              "      <td>20</td>\n",
              "      <td>10</td>\n",
              "      <td>0.03</td>\n",
              "      <td>0.03</td>\n",
              "      <td>160.0</td>\n",
              "      <td>0.18</td>\n",
              "      <td>0.0</td>\n",
              "      <td>160.18</td>\n",
              "      <td>180.18</td>\n",
              "    </tr>\n",
              "    <tr>\n",
              "      <th>2290</th>\n",
              "      <td>1349</td>\n",
              "      <td>2018-10-31</td>\n",
              "      <td>0.0</td>\n",
              "      <td>0</td>\n",
              "      <td>76.0</td>\n",
              "      <td>13.0</td>\n",
              "      <td>Florentina</td>\n",
              "      <td>Diaz</td>\n",
              "      <td>69</td>\n",
              "      <td>Boston-Cambridge-Newton, MA-NH MSA</td>\n",
              "      <td>...</td>\n",
              "      <td>500</td>\n",
              "      <td>20</td>\n",
              "      <td>10</td>\n",
              "      <td>0.03</td>\n",
              "      <td>0.03</td>\n",
              "      <td>0.0</td>\n",
              "      <td>0.78</td>\n",
              "      <td>0.0</td>\n",
              "      <td>0.78</td>\n",
              "      <td>20.78</td>\n",
              "    </tr>\n",
              "    <tr>\n",
              "      <th>2291</th>\n",
              "      <td>1349</td>\n",
              "      <td>2018-11-30</td>\n",
              "      <td>0.0</td>\n",
              "      <td>0</td>\n",
              "      <td>72.0</td>\n",
              "      <td>17.0</td>\n",
              "      <td>Florentina</td>\n",
              "      <td>Diaz</td>\n",
              "      <td>69</td>\n",
              "      <td>Boston-Cambridge-Newton, MA-NH MSA</td>\n",
              "      <td>...</td>\n",
              "      <td>500</td>\n",
              "      <td>20</td>\n",
              "      <td>10</td>\n",
              "      <td>0.03</td>\n",
              "      <td>0.03</td>\n",
              "      <td>20.0</td>\n",
              "      <td>0.66</td>\n",
              "      <td>0.0</td>\n",
              "      <td>20.66</td>\n",
              "      <td>40.66</td>\n",
              "    </tr>\n",
              "    <tr>\n",
              "      <th>2292</th>\n",
              "      <td>1349</td>\n",
              "      <td>2018-12-31</td>\n",
              "      <td>0.0</td>\n",
              "      <td>0</td>\n",
              "      <td>61.0</td>\n",
              "      <td>13.0</td>\n",
              "      <td>Florentina</td>\n",
              "      <td>Diaz</td>\n",
              "      <td>69</td>\n",
              "      <td>Boston-Cambridge-Newton, MA-NH MSA</td>\n",
              "      <td>...</td>\n",
              "      <td>500</td>\n",
              "      <td>20</td>\n",
              "      <td>10</td>\n",
              "      <td>0.03</td>\n",
              "      <td>0.03</td>\n",
              "      <td>0.0</td>\n",
              "      <td>0.33</td>\n",
              "      <td>0.0</td>\n",
              "      <td>0.33</td>\n",
              "      <td>20.33</td>\n",
              "    </tr>\n",
              "  </tbody>\n",
              "</table>\n",
              "<p>2293 rows × 25 columns</p>\n",
              "</div>"
            ],
            "text/plain": [
              "      user_id       date  calls_per_month  call_time_monthly  sms_per_month  \\\n",
              "0        1000 2018-12-31             16.0                124           11.0   \n",
              "1        1006 2018-11-30              2.0                 10           15.0   \n",
              "2        1006 2018-12-31              9.0                 59          139.0   \n",
              "3        1008 2018-10-31             71.0                475           21.0   \n",
              "4        1008 2018-11-30             63.0                446           37.0   \n",
              "...       ...        ...              ...                ...            ...   \n",
              "2288     1194 2018-11-30              0.0                  0           62.0   \n",
              "2289     1194 2018-12-31              0.0                  0           56.0   \n",
              "2290     1349 2018-10-31              0.0                  0           76.0   \n",
              "2291     1349 2018-11-30              0.0                  0           72.0   \n",
              "2292     1349 2018-12-31              0.0                  0           61.0   \n",
              "\n",
              "      gb_usage  first_name last_name  age  \\\n",
              "0          2.0    Anamaria     Bauer   45   \n",
              "1          3.0      Jesusa  Bradford   73   \n",
              "2         32.0      Jesusa  Bradford   73   \n",
              "3         17.0       Emely   Hoffman   53   \n",
              "4         24.0       Emely   Hoffman   53   \n",
              "...        ...         ...       ...  ...   \n",
              "2288      42.0      Robert    Mclean   40   \n",
              "2289      31.0      Robert    Mclean   40   \n",
              "2290      13.0  Florentina      Diaz   69   \n",
              "2291      17.0  Florentina      Diaz   69   \n",
              "2292      13.0  Florentina      Diaz   69   \n",
              "\n",
              "                                        city  ... minutes_included  \\\n",
              "0      Atlanta-Sandy Springs-Roswell, GA MSA  ...             3000   \n",
              "1     San Francisco-Oakland-Berkeley, CA MSA  ...             3000   \n",
              "2     San Francisco-Oakland-Berkeley, CA MSA  ...             3000   \n",
              "3          Orlando-Kissimmee-Sanford, FL MSA  ...             3000   \n",
              "4          Orlando-Kissimmee-Sanford, FL MSA  ...             3000   \n",
              "...                                      ...  ...              ...   \n",
              "2288  San Jose-Sunnyvale-Santa Clara, CA MSA  ...              500   \n",
              "2289  San Jose-Sunnyvale-Santa Clara, CA MSA  ...              500   \n",
              "2290      Boston-Cambridge-Newton, MA-NH MSA  ...              500   \n",
              "2291      Boston-Cambridge-Newton, MA-NH MSA  ...              500   \n",
              "2292      Boston-Cambridge-Newton, MA-NH MSA  ...              500   \n",
              "\n",
              "     usd_monthly_pay usd_per_gb  usd_per_message  usd_per_minute  \\\n",
              "0                 70          7             0.01            0.01   \n",
              "1                 70          7             0.01            0.01   \n",
              "2                 70          7             0.01            0.01   \n",
              "3                 70          7             0.01            0.01   \n",
              "4                 70          7             0.01            0.01   \n",
              "...              ...        ...              ...             ...   \n",
              "2288              20         10             0.03            0.03   \n",
              "2289              20         10             0.03            0.03   \n",
              "2290              20         10             0.03            0.03   \n",
              "2291              20         10             0.03            0.03   \n",
              "2292              20         10             0.03            0.03   \n",
              "\n",
              "      gb_surplus_charge  sms_surplus_charge  minutes_surplus_charge  \\\n",
              "0                   0.0                0.00                     0.0   \n",
              "1                   0.0                0.00                     0.0   \n",
              "2                  14.0                0.00                     0.0   \n",
              "3                   0.0                0.00                     0.0   \n",
              "4                   0.0                0.00                     0.0   \n",
              "...                 ...                 ...                     ...   \n",
              "2288              270.0                0.36                     0.0   \n",
              "2289              160.0                0.18                     0.0   \n",
              "2290                0.0                0.78                     0.0   \n",
              "2291               20.0                0.66                     0.0   \n",
              "2292                0.0                0.33                     0.0   \n",
              "\n",
              "      total_surplus_charge  user_monthly_income  \n",
              "0                     0.00                70.00  \n",
              "1                     0.00                70.00  \n",
              "2                    14.00                84.00  \n",
              "3                     0.00                70.00  \n",
              "4                     0.00                70.00  \n",
              "...                    ...                  ...  \n",
              "2288                270.36               290.36  \n",
              "2289                160.18               180.18  \n",
              "2290                  0.78                20.78  \n",
              "2291                 20.66                40.66  \n",
              "2292                  0.33                20.33  \n",
              "\n",
              "[2293 rows x 25 columns]"
            ]
          },
          "execution_count": 89,
          "metadata": {},
          "output_type": "execute_result"
        }
      ],
      "source": [
        "# visualizamos nuestro DataFrame actualizado\n",
        "megalinev3"
      ]
    },
    {
      "cell_type": "markdown",
      "metadata": {
        "id": "g3M7oofkSdao"
      },
      "source": [
        "Y listo! ya tenemos toda la información necesaria para comenzar con nuestro análisis."
      ]
    },
    {
      "cell_type": "markdown",
      "metadata": {
        "id": "q_OTRo5YSdao"
      },
      "source": [
        "## Estudia el comportamiento del usuario"
      ]
    },
    {
      "cell_type": "markdown",
      "metadata": {
        "id": "Nc2EvS9LSdap"
      },
      "source": [
        "A continuación calcularemos algunas estadísticas descriptivas para los datos agregados y fusionados que nos sean útiles y que muestren un panorama general captado por los datos. Dibujaremos gráficos para facilitar la comprensión. Dado que la tarea principal es comparar los planes y decidir cuál es más rentable, las estadísticas y gráficas serán calculadas por plan."
      ]
    },
    {
      "cell_type": "markdown",
      "metadata": {
        "id": "ydwZx85ESdat"
      },
      "source": [
        "### Llamadas"
      ]
    },
    {
      "cell_type": "markdown",
      "metadata": {
        "id": "zq6o1q0nSdat"
      },
      "source": [
        "Comenzaremos comparando la duración promedio de llamadas por cada plan por cada mes y las visualizaremos con gráficos de barras. Para esto, crearemos dos dataframes filtrados por los planes llamados: **'megaline_ultimate'** y **'megaline_surf'**."
      ]
    },
    {
      "cell_type": "code",
      "execution_count": null,
      "metadata": {
        "id": "R0kg8YsrSdat"
      },
      "outputs": [],
      "source": [
        "# Creamos la tabla 'megaline_ultimate'\n",
        "megaline_ultimate = megalinev3[megalinev3['plan_name'] == 'ultimate']"
      ]
    },
    {
      "cell_type": "code",
      "execution_count": null,
      "metadata": {
        "id": "iLcsFGgVSdat"
      },
      "outputs": [],
      "source": [
        "# Creamos la tabla 'megaline_surf'\n",
        "megaline_surf = megalinev3[megalinev3['plan_name'] == 'surf']"
      ]
    },
    {
      "cell_type": "code",
      "execution_count": null,
      "metadata": {
        "scrolled": true,
        "id": "9y3qZT5kSdau"
      },
      "outputs": [],
      "source": [
        "# Comparamos la duración promedio de llamadas por cada plan por cada mes. Los visualizaremos por medio de un gráfico de barras.\n",
        "## Primero guardamos los promedios de la duración de las llamadas por mes y por plan\n",
        "call_mean_ultimate = megaline_ultimate.pivot_table(index='date', values='call_time_monthly')\n",
        "call_mean_surf = megaline_surf.pivot_table(index='date', values='call_time_monthly')"
      ]
    },
    {
      "cell_type": "code",
      "execution_count": null,
      "metadata": {
        "id": "XmCsYmOZSdau",
        "outputId": "61779aad-ceb0-40a9-d935-0321aa45fcb9"
      },
      "outputs": [
        {
          "data": {
            "image/png": "[encoded data removed]",
            "text/plain": [
              "<Figure size 432x288 with 1 Axes>"
            ]
          },
          "metadata": {
            "needs_background": "light"
          },
          "output_type": "display_data"
        }
      ],
      "source": [
        "# Graficamos la duración promedio de llamadas por mes del plan ultimate\n",
        "call_mean_ultimate.plot(kind='bar')\n",
        "\n",
        "plt.xlabel('Fecha')\n",
        "plt.ylabel('Duración promedio de llamadas')\n",
        "plt.title('Duración promedio de llamadas por mes')\n",
        "\n",
        "plt.show()"
      ]
    },
    {
      "cell_type": "code",
      "execution_count": null,
      "metadata": {
        "scrolled": true,
        "id": "FerSoqnHSdav",
        "outputId": "5da883b5-3664-43bd-c479-9519fc4e2da8"
      },
      "outputs": [
        {
          "data": {
            "image/png": "[encoded data removed]",
            "text/plain": [
              "<Figure size 432x288 with 1 Axes>"
            ]
          },
          "metadata": {
            "needs_background": "light"
          },
          "output_type": "display_data"
        }
      ],
      "source": [
        "# Graficamos la duración promedio de llamadas por mes del plan ultimate\n",
        "call_mean_surf.plot(kind='bar')\n",
        "\n",
        "plt.xlabel('Fecha')\n",
        "plt.ylabel('Duración promedio de llamadas')\n",
        "plt.title('Duración promedio de llamadas por mes')\n",
        "\n",
        "plt.show()"
      ]
    },
    {
      "cell_type": "markdown",
      "metadata": {
        "id": "hxXkIQ9YSdav"
      },
      "source": [
        "Los gráficos muestran que en ambos planes, el promedio de llamadas de enero a diciembre va en aumento, aunque de forma irregular.\n",
        "En ambo casos en enero hay un promedio de alrededor de 200 minutos.Una diferencia significativa es que en el plan **ultimate**, el promedio del mes de febrero alcanza los 400 minutos, mientras que en el plan **surf**, para este mes solo alcanza los 300 minutos. Además, en ambos planes en el mes de diciembre se encuentra el promedio más alto, valores cernanos a los 460 minutos."
      ]
    },
    {
      "cell_type": "markdown",
      "metadata": {
        "id": "cq7xhqs-Sdav"
      },
      "source": [
        "A continuación compararemos el número de minutos que los usuarios de cada plan requieren cada mes por medio de un histograma."
      ]
    },
    {
      "cell_type": "code",
      "execution_count": null,
      "metadata": {
        "scrolled": true,
        "id": "oU2lVMjDSdav",
        "outputId": "acfec99a-41e2-4bc1-a9df-7dbfeaed18af"
      },
      "outputs": [
        {
          "data": {
            "image/png": "[encoded data removed]",
            "text/plain": [
              "<Figure size 504x360 with 1 Axes>"
            ]
          },
          "metadata": {
            "needs_background": "light"
          },
          "output_type": "display_data"
        }
      ],
      "source": [
        "# Compara el número de minutos que los usuarios de cada plan requieren cada mes. Traza un histograma.\n",
        "plt.figure(figsize=(7, 5))\n",
        "plt.hist(megaline_ultimate['call_time_monthly'], bins=10, alpha=0.5, label='Ultimate')\n",
        "plt.hist(megaline_surf['call_time_monthly'], bins=10, alpha=0.5, label='Surf')\n",
        "\n",
        "plt.grid(True)\n",
        "plt.xlabel('Minutos Mensuales')\n",
        "plt.ylabel('Frecuencia')\n",
        "plt.title('Comparación de Minutos Mensuales por Plan')\n",
        "plt.legend()\n",
        "\n",
        "plt.show()"
      ]
    },
    {
      "cell_type": "code",
      "execution_count": null,
      "metadata": {
        "id": "tEyCq1iPSdaw",
        "outputId": "eee62e54-89c4-4609-f6da-0fb6d147de0a"
      },
      "outputs": [
        {
          "name": "stdout",
          "output_type": "stream",
          "text": [
            "cantidad de usuarios con plan ultimate: 161\n",
            "cantidad de usuarios con plan surf: 339\n"
          ]
        }
      ],
      "source": [
        "# Calcularemos la cantidad de usuarios para saber porqué las frecuencias son diferentes\n",
        "len_ult = len(users[users['plan_name']=='ultimate'])\n",
        "len_surf = len(users[users['plan_name']=='surf'])\n",
        "print(f\"cantidad de usuarios con plan ultimate: {len_ult}\")\n",
        "print(f\"cantidad de usuarios con plan surf: {len_surf}\")"
      ]
    },
    {
      "cell_type": "markdown",
      "metadata": {
        "id": "hyeMIGlDSdaw"
      },
      "source": [
        "Como era de esperarse, la frecuencia del plan **surf** es bastante superior a la del plan **ultimate**, debido a la cantidad de usuarios.\n",
        "\n",
        "**Plan Surf**:\n",
        " - Alcanza el pick de frecuencia (400) entre los 300 y 450 minutos, es decir, son los tiempos más utilizados por mes por los clientes.\n",
        " - Luego este pick comienza a descender bastante en los 900 minutos mensuales. Después de los 1000 minutos por mes, la frecuencia de usuarios es bastante baja.\n",
        "\n",
        "**Plan Ultimate**:\n",
        " - Alcanza su pick de frecuencia (200) entre los 400 y 550 minutos mensuales, es decir, son los minutos mensuales que utiliza la mayoría de usuarios.\n",
        " - A partir de los 550 minutos el pick compienza a descender hasta los 950 minutos. A partie de los 950 los clientes son bastante escasos."
      ]
    },
    {
      "cell_type": "code",
      "execution_count": null,
      "metadata": {
        "id": "7ob_aAPFSdaw",
        "outputId": "a079ff24-21b1-4c42-b57c-cf145f25f3c5"
      },
      "outputs": [
        {
          "data": {
            "image/png": "[encoded data removed]",
            "text/plain": [
              "<Figure size 504x360 with 1 Axes>"
            ]
          },
          "metadata": {
            "needs_background": "light"
          },
          "output_type": "display_data"
        }
      ],
      "source": [
        "# Además imprimiremos la proporción en lugar de los conteos\n",
        "# Compara el número de minutos que los usuarios de cada plan requieren cada mes. Traza un histograma.\n",
        "plt.figure(figsize=(7, 5))\n",
        "plt.hist(megaline_ultimate['call_time_monthly'], bins=10, alpha=0.5, label='Ultimate', density=True)\n",
        "plt.hist(megaline_surf['call_time_monthly'], bins=10, alpha=0.5, label='Surf', density=True)\n",
        "\n",
        "plt.grid(True)\n",
        "plt.xlabel('Minutos Mensuales')\n",
        "plt.title('Comparación de Minutos Mensuales por Plan')\n",
        "plt.legend()\n",
        "\n",
        "plt.show()\n"
      ]
    },
    {
      "cell_type": "markdown",
      "metadata": {
        "id": "-oCDtqv8Sdaw"
      },
      "source": [
        "Ahora calcularemos la media y la variable de la duración de la llamada por plan, para concluir si los usuarios de diferentes planes muestran comportamientos distintos para sus llamadas."
      ]
    },
    {
      "cell_type": "code",
      "execution_count": null,
      "metadata": {
        "scrolled": true,
        "id": "KEWnBJFqSdax",
        "outputId": "a4ddbada-d8bf-4a80-ad52-44fd17405573"
      },
      "outputs": [
        {
          "name": "stdout",
          "output_type": "stream",
          "text": [
            "La media de la duración mensual de llamadas es: 429.9402777777778\n",
            "La varianza de la duración mensual de llamadas es: 57622.71171103395\n"
          ]
        }
      ],
      "source": [
        "# Calculamos la media y la varianza de la duración mensual de llamadas del plan 'Ultimate'\n",
        "\n",
        "print(f\"La media de la duración mensual de llamadas es: {megaline_ultimate['call_time_monthly'].mean()}\")\n",
        "print(f\"La varianza de la duración mensual de llamadas es: {np.var(megaline_ultimate['call_time_monthly'])}\")"
      ]
    },
    {
      "cell_type": "code",
      "execution_count": null,
      "metadata": {
        "scrolled": true,
        "id": "d-4VETULSdax",
        "outputId": "c85e1f55-dcee-4de7-918a-7a3e5c7a88e7"
      },
      "outputs": [
        {
          "name": "stdout",
          "output_type": "stream",
          "text": [
            "La media de la duración mensual de llamadas es: 428.25619834710744\n",
            "La varianza de la duración mensual de llamadas es: 54809.40607251502\n"
          ]
        }
      ],
      "source": [
        "# Calculamos la media y la varianza de la duración mensual de llamadas del plan 'Surf'\n",
        "\n",
        "print(f\"La media de la duración mensual de llamadas es: {megaline_surf['call_time_monthly'].mean()}\")\n",
        "print(f\"La varianza de la duración mensual de llamadas es: {np.var(megaline_surf['call_time_monthly'])}\")"
      ]
    },
    {
      "cell_type": "markdown",
      "metadata": {
        "id": "bsBH-bm6Sdax"
      },
      "source": [
        "Para ambos planes, tanto la media como la varianza son casi idénticas. La media de **ultimate** es 429 y la de **Surf** es 428. La varianza de **ultimate** es 57.622 y la de **surf** es 54.622.\n",
        "\n",
        " - Para ambos planes el promedio de minutos es cercano a los 430 minutos por mes.\n",
        " - Respecto a la varianza de los planes, ambas indican que la dispersión de los valores en relación a la media es relativamente alta."
      ]
    },
    {
      "cell_type": "markdown",
      "metadata": {
        "id": "ETHbGPXaSdax"
      },
      "source": [
        "Para continuar trazaremos un diagrama de caja para visualizar la distribución de la duración mensual de llamadas en ambos planes."
      ]
    },
    {
      "cell_type": "code",
      "execution_count": null,
      "metadata": {
        "scrolled": true,
        "id": "x0GCqIPxSdax",
        "outputId": "62b73f06-e354-48f9-a479-bca46be596c6"
      },
      "outputs": [
        {
          "data": {
            "image/png": "[encoded data removed]",
            "text/plain": [
              "<Figure size 504x360 with 1 Axes>"
            ]
          },
          "metadata": {
            "needs_background": "light"
          },
          "output_type": "display_data"
        }
      ],
      "source": [
        "# Trazamos un diagrama de caja para visualizar la distribución de la duración mensual de llamadas en ambos planes.\n",
        "\n",
        "data_ultimate = megaline_ultimate['call_time_monthly']\n",
        "data_surf = megaline_surf['call_time_monthly']\n",
        "data = [data_ultimate, data_surf]\n",
        "\n",
        "plt.figure(figsize=(7, 5))\n",
        "plt.boxplot(data, labels=['Ultimate', 'Surf'])\n",
        "plt.xlabel('Plan')\n",
        "plt.ylabel('Duración de llamadas por mes en minutos')\n",
        "plt.title('Distribución Duración Mensual de Llamadas en Ambos Planes')\n",
        "plt.grid(True)\n",
        "plt.show()"
      ]
    },
    {
      "cell_type": "code",
      "execution_count": null,
      "metadata": {
        "scrolled": true,
        "id": "5SYva7GOSdax",
        "outputId": "b055ce45-cef5-4169-9f03-fc0a6c520df2"
      },
      "outputs": [
        {
          "data": {
            "text/plain": [
              "count     720.000000\n",
              "mean      429.940278\n",
              "std       240.214185\n",
              "min         0.000000\n",
              "25%       259.750000\n",
              "50%       423.000000\n",
              "75%       564.250000\n",
              "max      1365.000000\n",
              "Name: call_time_monthly, dtype: float64"
            ]
          },
          "execution_count": 101,
          "metadata": {},
          "output_type": "execute_result"
        }
      ],
      "source": [
        "# Asismismo revisamos la distribución de llamadas en ambos planes de forma más exacta\n",
        "# Distribución duración llamadas plan ultimate\n",
        "megaline_ultimate['call_time_monthly'].describe()"
      ]
    },
    {
      "cell_type": "code",
      "execution_count": null,
      "metadata": {
        "id": "Uu_4TktWSday",
        "outputId": "726d4557-c49b-43e3-c89c-4ae7c9c5de20"
      },
      "outputs": [
        {
          "data": {
            "text/plain": [
              "count    1573.000000\n",
              "mean      428.256198\n",
              "std       234.188540\n",
              "min         0.000000\n",
              "25%       271.000000\n",
              "50%       425.000000\n",
              "75%       575.000000\n",
              "max      1510.000000\n",
              "Name: call_time_monthly, dtype: float64"
            ]
          },
          "execution_count": 102,
          "metadata": {},
          "output_type": "execute_result"
        }
      ],
      "source": [
        "# Distribución duración llamadas plan ultimate\n",
        "megaline_surf['call_time_monthly'].describe()"
      ]
    },
    {
      "cell_type": "markdown",
      "metadata": {
        "id": "hkwiXQ56Sday"
      },
      "source": [
        "Como revisamos anteriormente, para la duración de llamadas por mes por usuario **'call_time_monthly'**:\n",
        " - La cantidad de usuarios con plan ultimate 161 y plan surf 339.\n",
        " - Al revisar el histograma, el plan **surf** alcanza valores más altos en términos de frecuencia debido a que tiene alrededor del doble de usuarios del plan **ultimate**. El plan surf alcanza el pick de frecuencia (400) entre los 300 y 450 minutos. Y el plan ultimate alcanza su pick de frecuencia (200) entre los 400 y 550 minutos mensuales.\n",
        " - Al observar la distribución con '.describe()' y el diagrama de caja, podemos ver que sus medias y medianas son muy similares. Sus medias son 429, 428 y sus medianas 423 y 425.\n",
        " - La varianza en ambos planes también es bastante similar, la de 'ultimate' es 57622 y la de surf es '54809'.\n",
        "\n",
        " De modo más general, ambos planes se comportan de manera bastante similar, sin embargo, el plan surf tiene más usuarios que el plan ultimate. Con esto podemos teorizar que el plan surf genera más ingresos.\n"
      ]
    },
    {
      "cell_type": "markdown",
      "metadata": {
        "id": "V4O89fBbSdaz"
      },
      "source": [
        "### Mensajes"
      ]
    },
    {
      "cell_type": "markdown",
      "metadata": {
        "id": "jlvNm17OSdaz"
      },
      "source": [
        "Ahora estudiaremos el parámetro **'sms_per_month'**, que contiene la cantidad de mensajes enviados por mes por cada usuario. Comenzaremos comparando el número de mensajes enviados por mes por los usuarios de ambos planes."
      ]
    },
    {
      "cell_type": "markdown",
      "metadata": {
        "id": "ip1qVeIpSdaz"
      },
      "source": [
        "Primero compararemos el promedio de mensajes que tienden a enviar cada mes los usuarios de cada plan. Esto lo haremos por medio de gráficos de barra."
      ]
    },
    {
      "cell_type": "code",
      "execution_count": null,
      "metadata": {
        "id": "sfAVAHIASdaz"
      },
      "outputs": [],
      "source": [
        "# Guardamos los promedios de sms enviados por mes y por plan\n",
        "sms_mean_ultimate = megaline_ultimate.pivot_table(index='date', values='sms_per_month')\n",
        "sms_mean_surf = megaline_surf.pivot_table(index='date', values='sms_per_month')"
      ]
    },
    {
      "cell_type": "code",
      "execution_count": null,
      "metadata": {
        "id": "N0zwC3ykSdaz",
        "outputId": "73aaa4cb-2b93-4d51-ede4-1283eb6bcf5a"
      },
      "outputs": [
        {
          "data": {
            "image/png": "[encoded data removed]",
            "text/plain": [
              "<Figure size 432x288 with 1 Axes>"
            ]
          },
          "metadata": {
            "needs_background": "light"
          },
          "output_type": "display_data"
        }
      ],
      "source": [
        "# Graficamos la cantidad promedio de sms por mes del plan ultimate\n",
        "sms_mean_ultimate.plot(kind='bar')\n",
        "\n",
        "plt.xlabel('Fecha')\n",
        "plt.ylabel('cantidad promedio de SMS por mes')\n",
        "plt.title('Cantidad de SMS promedio por mes')\n",
        "\n",
        "plt.grid(True)\n",
        "plt.show()"
      ]
    },
    {
      "cell_type": "code",
      "execution_count": null,
      "metadata": {
        "id": "qB8WQ7V3Sdaz",
        "outputId": "ac1e3d58-4e45-4dfc-b6e1-9d07cd16576b"
      },
      "outputs": [
        {
          "data": {
            "image/png": "[encoded data removed]",
            "text/plain": [
              "<Figure size 432x288 with 1 Axes>"
            ]
          },
          "metadata": {
            "needs_background": "light"
          },
          "output_type": "display_data"
        }
      ],
      "source": [
        "# Graficamos la duración promedio de llamadas por mes del plan surf\n",
        "sms_mean_surf.plot(kind='bar')\n",
        "\n",
        "plt.xlabel('Fecha')\n",
        "plt.ylabel('cantidad promedio de SMS por mes')\n",
        "plt.title('Cantidad de SMS promedio por mes')\n",
        "\n",
        "plt.grid(True)\n",
        "plt.show()"
      ]
    },
    {
      "cell_type": "markdown",
      "metadata": {
        "id": "DYgtHmVtSdaz"
      },
      "source": [
        "Al observar los gráficos podemos ver que el el promedio de mensajes enviados por mes va aumentando de forma más o menos pareja desde enero a diciembre. Sin embargo, se puede notar que los promedios del plan **'ultimte'** son más altos."
      ]
    },
    {
      "cell_type": "markdown",
      "metadata": {
        "id": "8-d2BipGSdaz"
      },
      "source": [
        "A continuación compararemos el número de sms que los usuarios de cada plan requieren cada mes por medio de un histograma."
      ]
    },
    {
      "cell_type": "code",
      "execution_count": null,
      "metadata": {
        "scrolled": false,
        "id": "SM7XnN_dSda0",
        "outputId": "22a30758-e991-465a-bc78-466e5f5e8c99"
      },
      "outputs": [
        {
          "data": {
            "image/png": "[encoded data removed]",
            "text/plain": [
              "<Figure size 504x360 with 1 Axes>"
            ]
          },
          "metadata": {
            "needs_background": "light"
          },
          "output_type": "display_data"
        }
      ],
      "source": [
        "# Comparamos el número de sms que los usuarios de cada plan requieren cada mes por medio de un histograma.\n",
        "plt.figure(figsize=(7, 5))\n",
        "plt.hist(megaline_ultimate['sms_per_month'], bins=20, alpha=0.5, label='Ultimate')\n",
        "plt.hist(megaline_surf['sms_per_month'], bins=20, alpha=0.5, label='Surf')\n",
        "\n",
        "plt.xlabel('SMS Mensuales')\n",
        "plt.ylabel('Frecuencia')\n",
        "plt.title('Comparación SMS Mensuales por Plan')\n",
        "plt.legend()\n",
        "\n",
        "plt.show()"
      ]
    },
    {
      "cell_type": "markdown",
      "metadata": {
        "id": "a8xJ4vynSda0"
      },
      "source": [
        "Por medio del histograma podemos ver que en ambos planes los datos están sesgados hacia la derecha. También podemos observar que la frecuencia del plan surf es bastante superior debido a su cantidad de usuarios. Además podemos notar que en el plan **surf** se envían más SMS por usuario que en el plan **ultimate** (266 versus 166), aunque los usuarios que envían esta cantidad de mensajes son escasos. Por otra parte, el comportamiento representado en la forma de los histogramas es bastante similar: ambos tienen un pick que desciende abruptamente, luego tienen otro pick menor y comienzan a descender nuevamente."
      ]
    },
    {
      "cell_type": "code",
      "execution_count": null,
      "metadata": {
        "id": "u0bBvX8RSda0",
        "outputId": "08772bf8-0a5a-421a-9d2a-2b6a363a5612"
      },
      "outputs": [
        {
          "data": {
            "image/png": "[encoded data removed]",
            "text/plain": [
              "<Figure size 504x360 with 1 Axes>"
            ]
          },
          "metadata": {
            "needs_background": "light"
          },
          "output_type": "display_data"
        }
      ],
      "source": [
        "# Además imprimiremos la proporción en lugar de los conteos\n",
        "# Comparamos el número de sms que los usuarios de cada plan requieren cada mes por medio de un histograma.\n",
        "plt.figure(figsize=(7, 5))\n",
        "plt.hist(megaline_ultimate['sms_per_month'], bins=20, alpha=0.5, label='Ultimate', density=True)\n",
        "plt.hist(megaline_surf['sms_per_month'], bins=20, alpha=0.5, label='Surf', density=True)\n",
        "\n",
        "plt.xlabel('SMS Mensuales')\n",
        "plt.title('Comparación SMS Mensuales por Plan')\n",
        "plt.legend()\n",
        "\n",
        "plt.show()"
      ]
    },
    {
      "cell_type": "markdown",
      "metadata": {
        "id": "4XoHY5F5Sda0"
      },
      "source": [
        "Ahora calcularemos la media y la varianza de la cantidad de SMS por plan, para concluir si los usuarios de diferentes planes muestran comportamientos distintos para los SMS."
      ]
    },
    {
      "cell_type": "code",
      "execution_count": null,
      "metadata": {
        "scrolled": false,
        "id": "o6z5aXA_Sda0",
        "outputId": "c76ac72c-af7a-45a1-bf3b-5ed8b7499e2a"
      },
      "outputs": [
        {
          "name": "stdout",
          "output_type": "stream",
          "text": [
            "La media de sms enviados al mes es: 37.55138888888889\n",
            "La varianza sms enviados al mes es: 1207.0779147376543\n"
          ]
        }
      ],
      "source": [
        "# Calculamos la media y la varianza de la cantidad de SMS mensuales del plan 'Ultimate'\n",
        "\n",
        "print(f\"La media de sms enviados al mes es: {megaline_ultimate['sms_per_month'].mean()}\")\n",
        "print(f\"La varianza sms enviados al mes es: {np.var(megaline_ultimate['sms_per_month'])}\")"
      ]
    },
    {
      "cell_type": "code",
      "execution_count": null,
      "metadata": {
        "id": "DCoQc0_ASda0",
        "outputId": "5d1334dd-0f9a-4095-bd74-ea5125ecd3bd"
      },
      "outputs": [
        {
          "name": "stdout",
          "output_type": "stream",
          "text": [
            "La media de sms enviados al mes es: 31.15956770502225\n",
            "La varianza sms enviados al mes es: 1126.008231726662\n"
          ]
        }
      ],
      "source": [
        "# Calculamos la media y la varianza de la cantidad de SMS mensuales del plan 'Surf'\n",
        "\n",
        "print(f\"La media de sms enviados al mes es: {megaline_surf['sms_per_month'].mean()}\")\n",
        "print(f\"La varianza sms enviados al mes es: {np.var(megaline_surf['sms_per_month'])}\")"
      ]
    },
    {
      "cell_type": "markdown",
      "metadata": {
        "id": "yE4_v8XiSda0"
      },
      "source": [
        " - Para ambos planes, la media de SMS enviados al mes del plan **'Ultimate'** es ligeramente más alta (37) que la del plan **'Surf'** (31).\n",
        " - Respecto a la varianza, para el plan **'Ultimate'** es 1207 y para el plan **Surf** es 1126, lo que indica que en ambos casos los valores de **'sms_per_month'** son bastante dispersos respecto a la media."
      ]
    },
    {
      "cell_type": "markdown",
      "metadata": {
        "id": "NRw-gWM4Sda0"
      },
      "source": [
        "Para continuar trazaremos un diagrama de caja para visualizar la distribución de la cantidad mensual de sms en ambos planes."
      ]
    },
    {
      "cell_type": "code",
      "execution_count": null,
      "metadata": {
        "scrolled": true,
        "id": "z7jtEEqASda1",
        "outputId": "3d3d2371-e5cb-41c1-e33c-aa47530a9862"
      },
      "outputs": [
        {
          "data": {
            "image/png": "[encoded data removed]",
            "text/plain": [
              "<Figure size 504x360 with 1 Axes>"
            ]
          },
          "metadata": {
            "needs_background": "light"
          },
          "output_type": "display_data"
        }
      ],
      "source": [
        "data_ultimate = megaline_ultimate['sms_per_month']\n",
        "data_surf = megaline_surf['sms_per_month']\n",
        "data = [data_ultimate, data_surf]\n",
        "\n",
        "plt.figure(figsize=(7, 5))\n",
        "plt.boxplot(data, labels=['Ultimate', 'Surf'])\n",
        "plt.xlabel('Plan')\n",
        "plt.ylabel('Cantidad de SMS por mes')\n",
        "plt.title('Distribución Mensual de SMS')\n",
        "plt.grid(True)\n",
        "plt.show()"
      ]
    },
    {
      "cell_type": "code",
      "execution_count": null,
      "metadata": {
        "id": "3lrvo451Sda1",
        "outputId": "3ac024a3-ae9e-4c4c-9341-6080120c1794"
      },
      "outputs": [
        {
          "data": {
            "text/plain": [
              "count    720.000000\n",
              "mean      37.551389\n",
              "std       34.767179\n",
              "min        0.000000\n",
              "25%        7.000000\n",
              "50%       30.000000\n",
              "75%       61.000000\n",
              "max      166.000000\n",
              "Name: sms_per_month, dtype: float64"
            ]
          },
          "execution_count": 111,
          "metadata": {},
          "output_type": "execute_result"
        }
      ],
      "source": [
        "# Asismismo revisamos la distribución de SMS mensuales en ambos planes de forma más exacta\n",
        "# Distribución sms por mes del plan ultimate\n",
        "megaline_ultimate['sms_per_month'].describe()"
      ]
    },
    {
      "cell_type": "code",
      "execution_count": null,
      "metadata": {
        "id": "r9x3qGwwSda1",
        "outputId": "a35da4d0-a197-407e-f754-da5f730b58a7"
      },
      "outputs": [
        {
          "data": {
            "text/plain": [
              "count    1573.000000\n",
              "mean       31.159568\n",
              "std        33.566717\n",
              "min         0.000000\n",
              "25%         3.000000\n",
              "50%        24.000000\n",
              "75%        47.000000\n",
              "max       266.000000\n",
              "Name: sms_per_month, dtype: float64"
            ]
          },
          "execution_count": 112,
          "metadata": {},
          "output_type": "execute_result"
        }
      ],
      "source": [
        "# Distribución sms por mes del plan surf\n",
        "megaline_surf['sms_per_month'].describe()"
      ]
    },
    {
      "cell_type": "markdown",
      "metadata": {
        "id": "SRA5egv_Sda1"
      },
      "source": [
        "Como conclusión, analizar el parámetro **'sms_per_month'** pudimos ver que:\n",
        " - El promedio de mensajes enviados por mes va aumentando de forma más o menos pareja desde enero a diciembre. Sin embargo, se puede notar que los promedios del plan 'ultimte' son más altos.\n",
        "\n",
        "\n",
        " - Al ver el histograma ambos planes los datos están sesgados hacia la derecha. También pudimos observar que la frecuencia del plan surf es bastante superior debido a su cantidad de usuarios. Además pudimos notar que en el plan surf se envían más SMS por usuario que en el plan ultimate (266 versus 166), aunque los usuarios que envían esta cantidad de mensajes son escasos. Por otra parte, el comportamiento representado en los histogramas es bastante similar: ambos tienen un pick que desciende abruptamente, luego tienen otro pick menor y comienzan a descender nuevamente.\n",
        "\n",
        "\n",
        " - Para ambos planes, la media de SMS enviados al mes del plan **'Ultimate'** es ligeramente más alta (37) que la del plan **'Surf'** (31).\n",
        "\n",
        "\n",
        " - Respecto a la varianza, para el plan **'Ultimate'** es 1207 y para el plan **Surf** es 1126, lo que indica que en ambos casos los valores de **'sms_per_month'** son bastante dispersos respecto a la media.\n",
        "\n",
        "\n",
        " - Al observar el histograma pudimos ver que las medianas en ambos planes difieren ligeramente. Pudimos ver valores atípicos en la parte superior fuera de los bigotes. Y también que la concentración de los valores es ligeramente diferente."
      ]
    },
    {
      "cell_type": "markdown",
      "metadata": {
        "id": "DqGvr1e7Sda1"
      },
      "source": [
        "### Internet"
      ]
    },
    {
      "cell_type": "markdown",
      "metadata": {
        "id": "8MslJTOCSda1"
      },
      "source": [
        "Ahora estudiaremos el parámetro **'gb_usage'**, que contiene la cantidad GB utilizados por mes por cada usuario. Comenzaremos comparando el número GB usados por mes por los usuarios de ambos planes."
      ]
    },
    {
      "cell_type": "markdown",
      "metadata": {
        "id": "O1RG7N-sSda1"
      },
      "source": [
        "Primero compararemos el promedio de mensajes que tienden a enviar cada mes los usuarios de cada plan. Esto lo haremos por medio de gráficos de barra."
      ]
    },
    {
      "cell_type": "code",
      "execution_count": null,
      "metadata": {
        "id": "PAdxQVNcSda1"
      },
      "outputs": [],
      "source": [
        "# Guardamos los promedios de GB enviados por mes y por plan\n",
        "gb_mean_ultimate = megaline_ultimate.pivot_table(index='date', values='gb_usage')\n",
        "gb_mean_surf = megaline_surf.pivot_table(index='date', values='gb_usage')"
      ]
    },
    {
      "cell_type": "code",
      "execution_count": null,
      "metadata": {
        "id": "_1Ut_vHISda2",
        "outputId": "3ffe2925-bf1d-4ec5-dd27-c0a356940e20"
      },
      "outputs": [
        {
          "data": {
            "image/png": "[encoded data removed]",
            "text/plain": [
              "<Figure size 432x288 with 1 Axes>"
            ]
          },
          "metadata": {
            "needs_background": "light"
          },
          "output_type": "display_data"
        }
      ],
      "source": [
        "# Graficamos la cantidad promedio GB usados por mes del plan ultimate\n",
        "gb_mean_ultimate.plot(kind='bar')\n",
        "\n",
        "plt.xlabel('Fecha')\n",
        "plt.ylabel('Cantidad promedio de GB por mes')\n",
        "plt.title('Cantidad de GB promedio por mes')\n",
        "\n",
        "plt.grid(True)\n",
        "plt.show()"
      ]
    },
    {
      "cell_type": "code",
      "execution_count": null,
      "metadata": {
        "id": "i5S7F-OQSda2",
        "outputId": "34f98924-cfb4-465c-987d-d2b721f2e816"
      },
      "outputs": [
        {
          "data": {
            "image/png": "[encoded data removed]",
            "text/plain": [
              "<Figure size 432x288 with 1 Axes>"
            ]
          },
          "metadata": {
            "needs_background": "light"
          },
          "output_type": "display_data"
        }
      ],
      "source": [
        "# Graficamos la cantidad promedio GB usados por mes del plan surf ########\n",
        "gb_mean_surf.plot(kind='bar')\n",
        "\n",
        "plt.xlabel('Fecha')\n",
        "plt.ylabel('Cantidad promedio de GB por mes')\n",
        "plt.title('Cantidad de GB promedio por mes')\n",
        "\n",
        "plt.grid(True)\n",
        "plt.show()"
      ]
    },
    {
      "cell_type": "markdown",
      "metadata": {
        "id": "4UdNUU2wSda2"
      },
      "source": [
        "Al observar los gráficos, lo primero que podemos ver es que en ambos planes el promedio de GB utilizados en enero es más bajo que en los otros meses. En el caso de **'Ultimate'** este sube bastante después de enero y más o menos se mantiene así hasta diciembre. En el caso de **'Surf'** podemos ver que desde febrero comienza a ascender de forma sútil hasta diciemre. Al ver el gráfico podemos ver que durante todo el año, los usuarios con el plan **'Ultimate'** utilizan más GB durante los meses."
      ]
    },
    {
      "cell_type": "markdown",
      "metadata": {
        "id": "Qcyv-vubSda2"
      },
      "source": [
        "A continuación compararemos la cantidad de GB que los usuarios de cada plan requieren cada mes, por medio de un histograma."
      ]
    },
    {
      "cell_type": "code",
      "execution_count": null,
      "metadata": {
        "id": "hYrDO22ySda2",
        "outputId": "2690c2bb-fd12-4688-8969-2e11de8ab4d5"
      },
      "outputs": [
        {
          "data": {
            "image/png": "[encoded data removed]",
            "text/plain": [
              "<Figure size 504x360 with 1 Axes>"
            ]
          },
          "metadata": {
            "needs_background": "light"
          },
          "output_type": "display_data"
        }
      ],
      "source": [
        "# Comparamos la cantidad de GB que los usuarios de cada plan requieren cada mes por medio de un histograma.\n",
        "plt.figure(figsize=(7, 5))\n",
        "plt.hist(megaline_ultimate['gb_usage'], bins=20, alpha=0.5, label='Ultimate')\n",
        "plt.hist(megaline_surf['gb_usage'], bins=20, alpha=0.5, label='Surf')\n",
        "\n",
        "plt.xlabel('GB Mensuales')\n",
        "plt.ylabel('Frecuencia')\n",
        "plt.title('Comparación de GB Mensuales por Plan')\n",
        "plt.legend()\n",
        "\n",
        "plt.show()"
      ]
    },
    {
      "cell_type": "markdown",
      "metadata": {
        "id": "nK2VFiv3Sda3"
      },
      "source": [
        "Aquí también podemos ver que el comportamiento de los clientes em ambos planes es bastante parecido. En ambos casos se ve que las cantidades más usadas están entre los 13gb y 25gb. Y muy porcas personas utilizan cantidades después de los 38gb."
      ]
    },
    {
      "cell_type": "code",
      "execution_count": null,
      "metadata": {
        "id": "xBUXd35BSda3",
        "outputId": "35f33f0f-b03e-455c-c167-2e5a0aca6ff3"
      },
      "outputs": [
        {
          "data": {
            "image/png": "[encoded data removed]",
            "text/plain": [
              "<Figure size 504x360 with 1 Axes>"
            ]
          },
          "metadata": {
            "needs_background": "light"
          },
          "output_type": "display_data"
        }
      ],
      "source": [
        "# Además imprimiremos la proporción en lugar de los conteos\n",
        "# Comparamos la cantidad de GB que los usuarios de cada plan requieren cada mes por medio de un histograma.\n",
        "plt.figure(figsize=(7, 5))\n",
        "plt.hist(megaline_ultimate['gb_usage'], bins=20, alpha=0.5, label='Ultimate', density=True)\n",
        "plt.hist(megaline_surf['gb_usage'], bins=20, alpha=0.5, label='Surf', density=True)\n",
        "\n",
        "plt.xlabel('GB Mensuales')\n",
        "plt.title('Comparación de GB Mensuales por Plan')\n",
        "plt.legend()\n",
        "\n",
        "plt.show()"
      ]
    },
    {
      "cell_type": "markdown",
      "metadata": {
        "id": "1s2g49hoSda3"
      },
      "source": [
        "Ahora calcularemos la media y la varianza de la cantidad de GB por plan, para concluir si los usuarios de diferentes planes muestran comportamientos distintos."
      ]
    },
    {
      "cell_type": "code",
      "execution_count": null,
      "metadata": {
        "scrolled": true,
        "id": "43Uh2q79Sda3",
        "outputId": "aa8a0e1e-1848-4b10-83a3-a124660d8a2f"
      },
      "outputs": [
        {
          "name": "stdout",
          "output_type": "stream",
          "text": [
            "La media de GB enviados al mes es: 17.306944444444444\n",
            "La varianza GB enviados al mes es: 58.748840663580246\n"
          ]
        }
      ],
      "source": [
        "# Calculamos la media y la varianza de la cantidad de GB mensuales del plan 'Ultimate'\n",
        "\n",
        "print(f\"La media de GB enviados al mes es: {megaline_ultimate['gb_usage'].mean()}\")\n",
        "print(f\"La varianza GB enviados al mes es: {np.var(megaline_ultimate['gb_usage'])}\")"
      ]
    },
    {
      "cell_type": "code",
      "execution_count": null,
      "metadata": {
        "id": "tCaBtJSdSda3",
        "outputId": "d2489f30-72e9-4de6-8559-a2d9adc261ea"
      },
      "outputs": [
        {
          "name": "stdout",
          "output_type": "stream",
          "text": [
            "La media de GB enviados al mes es: 16.670692943420217\n",
            "La varianza GB enviados al mes es: 61.54444942447023\n"
          ]
        }
      ],
      "source": [
        "# Calculamos la media y la varianza de la cantidad de GB mensuales del plan 'Surf'\n",
        "\n",
        "print(f\"La media de GB enviados al mes es: {megaline_surf['gb_usage'].mean()}\")\n",
        "print(f\"La varianza GB enviados al mes es: {np.var(megaline_surf['gb_usage'])}\")"
      ]
    },
    {
      "cell_type": "markdown",
      "metadata": {
        "id": "8GJsQvLISda3"
      },
      "source": [
        "Cómo podemos ver en los cálculos, la media de ambos planes es casi idéntica. En cuanto a la varianza, para **'ultimate'** es 58 y para **'surf'** es 61, lo que nos indica una dispersión moderada de los datos en ambos casos."
      ]
    },
    {
      "cell_type": "markdown",
      "metadata": {
        "id": "hvlP4kghSda3"
      },
      "source": [
        "Para continuar trazaremos un diagrama de caja para visualizar la distribución de la cantidad mensual de GB en ambos planes."
      ]
    },
    {
      "cell_type": "code",
      "execution_count": null,
      "metadata": {
        "id": "WHgX3PIKSda4",
        "outputId": "53bbad63-c0e4-4425-84dc-b2c361abf115"
      },
      "outputs": [
        {
          "data": {
            "image/png": "[encoded data removed]",
            "text/plain": [
              "<Figure size 504x360 with 1 Axes>"
            ]
          },
          "metadata": {
            "needs_background": "light"
          },
          "output_type": "display_data"
        }
      ],
      "source": [
        "data_ultimate = megaline_ultimate['gb_usage']\n",
        "data_surf = megaline_surf['gb_usage']\n",
        "data = [data_ultimate, data_surf]\n",
        "\n",
        "plt.figure(figsize=(7, 5))\n",
        "plt.boxplot(data, labels=['Ultimate', 'Surf'])\n",
        "plt.xlabel('Plan')\n",
        "plt.ylabel('Cantidad de GB por mes')\n",
        "plt.title('Distribución Mensual de GB')\n",
        "plt.grid(True)\n",
        "plt.show()"
      ]
    },
    {
      "cell_type": "code",
      "execution_count": null,
      "metadata": {
        "id": "6OyjFocPSda4",
        "outputId": "25c4b81a-c696-47b2-93bb-af34afd9af2a"
      },
      "outputs": [
        {
          "data": {
            "text/plain": [
              "count    720.000000\n",
              "mean      17.306944\n",
              "std        7.670108\n",
              "min        0.000000\n",
              "25%       13.000000\n",
              "50%       17.000000\n",
              "75%       21.000000\n",
              "max       46.000000\n",
              "Name: gb_usage, dtype: float64"
            ]
          },
          "execution_count": 121,
          "metadata": {},
          "output_type": "execute_result"
        }
      ],
      "source": [
        "# Distribución de la cantidad de GB mensual del plan Ultimate\n",
        "megaline_ultimate['gb_usage'].describe()"
      ]
    },
    {
      "cell_type": "code",
      "execution_count": null,
      "metadata": {
        "id": "i2Wkpl3tSda4",
        "outputId": "dcf9fc1c-299c-45da-b090-0d7448370f50"
      },
      "outputs": [
        {
          "data": {
            "text/plain": [
              "count    1573.000000\n",
              "mean       16.670693\n",
              "std         7.847522\n",
              "min         0.000000\n",
              "25%        12.000000\n",
              "50%        17.000000\n",
              "75%        21.000000\n",
              "max        70.000000\n",
              "Name: gb_usage, dtype: float64"
            ]
          },
          "execution_count": 122,
          "metadata": {},
          "output_type": "execute_result"
        }
      ],
      "source": [
        "# Distribución de la cantidad de GB mensual del plan Ultimate\n",
        "megaline_surf['gb_usage'].describe()"
      ]
    },
    {
      "cell_type": "markdown",
      "metadata": {
        "id": "HJK7T0zqSda4"
      },
      "source": [
        "Al observar la distribución en el diagrama de bigotes y en las tablas, se ve que es casi identica para ambos casos. La mediana es la misma. Los cuartiles son casi idénticos. Los límites de los vigotes son bastante parecidos. Por otra parte, el plan **'Surf'** posee valores atípicos mucho mayores, pero en general el comportamiento de los usuarios respecto al uso de GB es bastante similar."
      ]
    },
    {
      "cell_type": "markdown",
      "metadata": {
        "id": "9tmKnXcFSda5"
      },
      "source": [
        "Para concluir, pudimos observar que:\n",
        "\n",
        " - En ambos casos, la varianza, media, mediana, cuartiles son muy similares; es decir, el comportamiento del uso de GB en ambos planes es muy similar. Por otro lado, al calcular la media de GB utilizados por mes, pudimos ver que en el plan **'Ultimate'** se utilizan más GB en todos los meses."
      ]
    },
    {
      "cell_type": "markdown",
      "metadata": {
        "id": "-IlVyS7zSda5"
      },
      "source": [
        "## Ingreso"
      ]
    },
    {
      "cell_type": "markdown",
      "metadata": {
        "id": "aBHPEAI3Sda5"
      },
      "source": [
        "Ahora estudiaremos el parámetro **'user_monthly_income'**, que representa el ingreso mensual por usuario en USD. Comenzaremos comparando el promedio de ingresos mensuales de cada plan. Esto lo haremos por medio de gráficos de barra."
      ]
    },
    {
      "cell_type": "code",
      "execution_count": null,
      "metadata": {
        "id": "h4Hpt3n8Sda5"
      },
      "outputs": [],
      "source": [
        "# Guardamos los promedios de los ingresos por mes y por plan\n",
        "income_mean_ultimate = megaline_ultimate.pivot_table(index='date', values='user_monthly_income')\n",
        "income_mean_surf = megaline_surf.pivot_table(index='date', values='user_monthly_income')"
      ]
    },
    {
      "cell_type": "code",
      "execution_count": null,
      "metadata": {
        "scrolled": false,
        "id": "Pd-0SbBQSda5",
        "outputId": "92a36718-da0b-4660-d402-c0a624ebc565"
      },
      "outputs": [
        {
          "data": {
            "image/png": "[encoded data removed]",
            "text/plain": [
              "<Figure size 432x288 with 1 Axes>"
            ]
          },
          "metadata": {
            "needs_background": "light"
          },
          "output_type": "display_data"
        }
      ],
      "source": [
        "# Graficamos los promedios de ingresos mensuales del plan Ultimate\n",
        "income_mean_ultimate.plot(kind='bar')\n",
        "\n",
        "plt.xlabel('Fecha')\n",
        "plt.ylabel('Promedio de Ingresos Mensuales')\n",
        "plt.title('Promedio de Ingresos Mensuales')\n",
        "\n",
        "plt.show()"
      ]
    },
    {
      "cell_type": "code",
      "execution_count": null,
      "metadata": {
        "scrolled": true,
        "id": "ll54ZJxwSda5",
        "outputId": "15df8f0b-7730-4060-ccb9-66484dec9293"
      },
      "outputs": [
        {
          "data": {
            "image/png": "[encoded data removed]",
            "text/plain": [
              "<Figure size 432x288 with 1 Axes>"
            ]
          },
          "metadata": {
            "needs_background": "light"
          },
          "output_type": "display_data"
        }
      ],
      "source": [
        "# Graficamos los promedios de ingresos mensuales del plan Surf\n",
        "income_mean_surf.plot(kind='bar')\n",
        "\n",
        "plt.xlabel('Fecha')\n",
        "plt.ylabel('Promedio de Ingresos Mensuales')\n",
        "plt.title('Promedio de Ingresos Mensuales')\n",
        "\n",
        "plt.show()"
      ]
    },
    {
      "cell_type": "markdown",
      "metadata": {
        "id": "YtmK5sqJSda5"
      },
      "source": [
        "En el gráfico de los ingresos del plan **'Ultimate'** el promedio mensual se mantiene bastante parejo, rondando los 70 usd en todos los meses. En cambio en el plan **'Surf'**, el promedio del mes de enero es de al rededor de 20USD y comienza a subir progresivamente hasta llegar a un promedio de 70USD en diciembre."
      ]
    },
    {
      "cell_type": "markdown",
      "metadata": {
        "id": "cF2mWO_USda6"
      },
      "source": [
        "A continuación compararemos los ingresos mensuales generados por los usuarios de cada plan, por medio de un histograma."
      ]
    },
    {
      "cell_type": "code",
      "execution_count": null,
      "metadata": {
        "scrolled": true,
        "id": "zzo3bnkwSda6",
        "outputId": "b3f1e33e-f33f-4ee8-d398-56ffcbad1639"
      },
      "outputs": [
        {
          "data": {
            "image/png": "[encoded data removed]",
            "text/plain": [
              "<Figure size 504x360 with 1 Axes>"
            ]
          },
          "metadata": {
            "needs_background": "light"
          },
          "output_type": "display_data"
        }
      ],
      "source": [
        "# Comparamos la cantidad de GB que los usuarios de cada plan requieren cada mes por medio de un histograma.\n",
        "plt.figure(figsize=(7, 5))\n",
        "plt.hist(megaline_ultimate['user_monthly_income'], bins=15, alpha=0.5, label='Ultimate')\n",
        "plt.hist(megaline_surf['user_monthly_income'], bins=15, alpha=0.5, label='Surf')\n",
        "\n",
        "plt.xlabel('Ingresos Mensuales')\n",
        "plt.ylabel('Frecuencia')\n",
        "plt.title('Comparación Ingresos Mensuales por Plan')\n",
        "plt.legend()\n",
        "\n",
        "plt.show()"
      ]
    },
    {
      "cell_type": "markdown",
      "metadata": {
        "id": "2dcgCmvuSda6"
      },
      "source": [
        "Como nos muestra el histograma, en el caso de **'Ultimate'** la mayoría de usuarios generan ingresos entre 70 y 80USD, mientras que en el plan **Surf** los ingresos por usuarios son bastante más diversos, además se puede ver que los valores más frecuentes en este plan son menores que los del plan **'Ultimate'**."
      ]
    },
    {
      "cell_type": "code",
      "execution_count": null,
      "metadata": {
        "id": "vV8tRoZrSda6",
        "outputId": "8cfd0be0-1900-4751-b401-0eefb19b0ba2"
      },
      "outputs": [
        {
          "data": {
            "image/png": "[encoded data removed]",
            "text/plain": [
              "<Figure size 504x360 with 1 Axes>"
            ]
          },
          "metadata": {
            "needs_background": "light"
          },
          "output_type": "display_data"
        }
      ],
      "source": [
        "# Además imprimiremos la proporción en lugar de los conteos\n",
        "# Comparamos la cantidad de GB que los usuarios de cada plan requieren cada mes por medio de un histograma.\n",
        "plt.figure(figsize=(7, 5))\n",
        "plt.hist(megaline_ultimate['user_monthly_income'], bins=15, alpha=0.5, label='Ultimate', density=True)\n",
        "plt.hist(megaline_surf['user_monthly_income'], bins=15, alpha=0.5, label='Surf', density=True)\n",
        "\n",
        "plt.xlabel('Ingresos Mensuales')\n",
        "plt.title('Comparación Ingresos Mensuales por Plan')\n",
        "plt.legend()\n",
        "\n",
        "plt.show()"
      ]
    },
    {
      "cell_type": "markdown",
      "metadata": {
        "id": "f_NXZn7USda6"
      },
      "source": [
        "Ahora calcularemos la media y la varianza de los ingresos mensuales por plan, para concluir si los usuarios de diferentes planes muestran comportamientos distintos."
      ]
    },
    {
      "cell_type": "code",
      "execution_count": null,
      "metadata": {
        "scrolled": true,
        "id": "7Iur-FnYSda7",
        "outputId": "10a4022a-78bc-49d1-908b-04b0192e47b7"
      },
      "outputs": [
        {
          "name": "stdout",
          "output_type": "stream",
          "text": [
            "La media de ingresos mensuales es: 72.31388888888888\n",
            "La varianza de ingresos mensuales es: 129.66814043209877\n"
          ]
        }
      ],
      "source": [
        "# Calculamos la media y la varianza de los ingresos mensuales del plan 'Ultimate'\n",
        "\n",
        "print(f\"La media de ingresos mensuales es: {megaline_ultimate['user_monthly_income'].mean()}\")\n",
        "print(f\"La varianza de ingresos mensuales es: {np.var(megaline_ultimate['user_monthly_income'])}\")"
      ]
    },
    {
      "cell_type": "code",
      "execution_count": null,
      "metadata": {
        "id": "3rjCDNH_Sda7",
        "outputId": "df377ff4-02c7-4e3a-9e9e-cd54f675b5e1"
      },
      "outputs": [
        {
          "name": "stdout",
          "output_type": "stream",
          "text": [
            "La media de ingresos mensuales es: 60.69807374443739\n",
            "La varianza de ingresos mensuales es: 3065.4499409176387\n"
          ]
        }
      ],
      "source": [
        "# Calculamos la media y la varianza de los ingresos mensuales del plan 'Surf'\n",
        "\n",
        "print(f\"La media de ingresos mensuales es: {megaline_surf['user_monthly_income'].mean()}\")\n",
        "print(f\"La varianza de ingresos mensuales es: {np.var(megaline_surf['user_monthly_income'])}\")"
      ]
    },
    {
      "cell_type": "markdown",
      "metadata": {
        "id": "Xx2e3NeoSda7"
      },
      "source": [
        "De acuerdo a los cálculos, la media del plan **'Ultimate'** es mayor a la de **'Surf'**. Por otro lado, la varianza del plan **'Ultimate'** nos indica que existe una dispersión moderada de los valores en relación con la media.Y la varianza del plan **'Surf'** nos indica una dispersión amplia de los datos en relación con la media."
      ]
    },
    {
      "cell_type": "markdown",
      "metadata": {
        "id": "Gg-TS1n9Sda7"
      },
      "source": [
        "Para continuar trazaremos un diagrama de caja para visualizar la distribución de los ingresos mensuales en ambos planes."
      ]
    },
    {
      "cell_type": "code",
      "execution_count": null,
      "metadata": {
        "id": "FbInPYFaSda7",
        "outputId": "dc72b7fe-243e-4a45-fa07-648d0f5e5515"
      },
      "outputs": [
        {
          "data": {
            "image/png": "[encoded data removed]",
            "text/plain": [
              "<Figure size 504x360 with 1 Axes>"
            ]
          },
          "metadata": {
            "needs_background": "light"
          },
          "output_type": "display_data"
        }
      ],
      "source": [
        "data_ultimate = megaline_ultimate['user_monthly_income']\n",
        "data_surf = megaline_surf['user_monthly_income']\n",
        "data = [data_ultimate, data_surf]\n",
        "\n",
        "plt.figure(figsize=(7, 5))\n",
        "plt.boxplot(data, labels=['Ultimate', 'Surf'])\n",
        "plt.xlabel('Plan')\n",
        "plt.ylabel('Ingresos Mensuales por Usuario')\n",
        "plt.title('Distribución Ingresos Mensuales por Usuario')\n",
        "plt.grid(True)\n",
        "plt.show()"
      ]
    },
    {
      "cell_type": "markdown",
      "metadata": {
        "id": "Db7SdZp_Sda7"
      },
      "source": [
        "Al observar el diagrama de caja vemos que para el plan **Ultimate** la mayoría de los valores se concentran más o menos en los 70 USD. Mientras que en el plan **'Surf'** los valores están más dispersos y su mediana es mas baja (40)."
      ]
    },
    {
      "cell_type": "code",
      "execution_count": null,
      "metadata": {
        "id": "jKUJMT2WSda7",
        "outputId": "464c336c-7f2a-4dd6-fef8-9c92595c9542"
      },
      "outputs": [
        {
          "data": {
            "text/plain": [
              "count    720.000000\n",
              "mean      72.313889\n",
              "std       11.395108\n",
              "min       70.000000\n",
              "25%       70.000000\n",
              "50%       70.000000\n",
              "75%       70.000000\n",
              "max      182.000000\n",
              "Name: user_monthly_income, dtype: float64"
            ]
          },
          "execution_count": 131,
          "metadata": {},
          "output_type": "execute_result"
        }
      ],
      "source": [
        "# Distribución de ingresos mensuales por usuario del plan Ultimate\n",
        "megaline_ultimate['user_monthly_income'].describe()"
      ]
    },
    {
      "cell_type": "code",
      "execution_count": null,
      "metadata": {
        "id": "npbB17ogSda8",
        "outputId": "7fccdd52-1cee-41d2-abc5-fe6b8d876c6d"
      },
      "outputs": [
        {
          "data": {
            "text/plain": [
              "count    1573.000000\n",
              "mean       60.698074\n",
              "std        55.384113\n",
              "min        20.000000\n",
              "25%        20.000000\n",
              "50%        40.360000\n",
              "75%        80.360000\n",
              "max       590.250000\n",
              "Name: user_monthly_income, dtype: float64"
            ]
          },
          "execution_count": 132,
          "metadata": {},
          "output_type": "execute_result"
        }
      ],
      "source": [
        "# Distribución de ingresos mensuales por usuario del plan Surf\n",
        "megaline_surf['user_monthly_income'].describe()"
      ]
    },
    {
      "cell_type": "markdown",
      "metadata": {
        "id": "9ncZBmFHSda8"
      },
      "source": [
        "Al analizar el parámetro e ingresos mensuales por usuario podemos concluir que:\n",
        " - En el gráfico de los ingresos del plan 'Ultimate' el promedio mensual se mantiene bastante parejo, rondando los 70 usd en todos los meses. En cambio en el plan 'Surf', el promedio del mes de enero es de al rededor de 20USD y comienza a subir progresivamente hasta llegar a un promedio de 70USD en diciembre.\n",
        "\n",
        "\n",
        "- Como nos muestró el histograma, en el caso de **'Ultimate'** la mayoría de usuarios generan ingresos entre 70 y 80USD, mientras que en el plan **Surf** los ingresos por usuarios son bastante más diversos, además vimos que los valores más frecuentes en este plan son menores que los del plan **'Ultimate'**.\n",
        "\n",
        "\n",
        " - De acuerdo a los cálculos, la media del plan **'Ultimate'** es mayor a la de **'Surf'**. Por otro lado, la varianza del plan **'Ultimate'** nos indica que existe una dispersión moderada de los valores en relación con la media.Y la varianza del plan **'Surf'** nos indica una dispersión amplia de los datos en relación con la media.\n",
        "\n",
        "\n",
        " - Al observar el diagrama de caja vimos que para el plan **Ultimate** la mayoría de los valores se concentran más o menos en los 70 USD. Mientras que en el plan **'Surf'** los valores están más dispersos y su mediana es mas baja (40).\n",
        ""
      ]
    },
    {
      "cell_type": "markdown",
      "metadata": {
        "id": "nOIKv73USda8"
      },
      "source": [
        "## Probar las hipótesis estadísticas.\n"
      ]
    },
    {
      "cell_type": "markdown",
      "metadata": {
        "id": "HuiCLIl0Sda8"
      },
      "source": [
        "### Prueba 1"
      ]
    },
    {
      "cell_type": "markdown",
      "metadata": {
        "id": "xivvEdV_Sda8"
      },
      "source": [
        "En la última parte de nuestro estudio, probaremos la siguiente hipotesis : \"El ingreso promedio de los usuarios de los planes de llamada **Ultimate** y **Surf** es diferente\". Para esto utilizaremos una prueba de hipótesis de dos poblaciones y de dos colas; estableciendo la hipotesis nula y alternativa como:\n",
        "\n",
        " - H0: El ingreso promedio de los usuarios de los planes de llamada **Ultimate** y **Surf** es el mismo.\n",
        " - H1: El ingreso promedio de los usuarios de los planes de llamada **Ultimate** y **Surf** es diferente."
      ]
    },
    {
      "cell_type": "code",
      "execution_count": null,
      "metadata": {
        "id": "sW0Ybwi8Sda8",
        "outputId": "9996576c-527c-4841-89bd-3edc51099cae"
      },
      "outputs": [
        {
          "name": "stdout",
          "output_type": "stream",
          "text": [
            "p-value: 3.0199000830260373e-15\n",
            "Rechazamos la hipótesis nula\n"
          ]
        }
      ],
      "source": [
        "# Probamos las hipótesis\n",
        "\n",
        "# Varianzas de ingresos mensuales de Ultimate es 129.6\n",
        "# Varianza de ingresos mensuales de Surf es 3065.4\n",
        "# Dejamos el parámetro 'equal_var' en 'False' debido a la variabilidad de las varianzas\n",
        "results = ttest_ind(\n",
        "    megaline_surf['user_monthly_income'],\n",
        "    megaline_ultimate['user_monthly_income'],\n",
        "    equal_var = False\n",
        ")\n",
        "# Establecemos el valor alfa\n",
        "alpha = 0.05\n",
        "\n",
        "print('p-value:', results.pvalue)\n",
        "\n",
        "if results.pvalue < alpha:\n",
        "     print(\"Rechazamos la hipótesis nula\")\n",
        "else:\n",
        "    print(\"No rechazamos la hipótesis nula\")\n"
      ]
    },
    {
      "cell_type": "markdown",
      "metadata": {
        "id": "NcVgRlndSda8"
      },
      "source": [
        "De acuerdo a lo que nos indica el P-value, tenemos suficiente evidencia para rechazar la hipotesis nula.\n",
        "En este caso nuestro valor P es minúsculo () y mucho menor que el valo alfa, esto significa que la probabilidad de que no haya diferencia entre los ingresos promedio de los usuarios de los planes **Surf** y **Ultimate** es extremadamente baja."
      ]
    },
    {
      "cell_type": "markdown",
      "metadata": {
        "id": "GaIpJdyUSda9"
      },
      "source": [
        "### Prueba 2"
      ]
    },
    {
      "cell_type": "markdown",
      "metadata": {
        "id": "w4_tY364Sda9"
      },
      "source": [
        "Ahora probaremos la siguiente hipotesis : \"El ingreso promedio de los usuarios del área NY-NJ es diferente al de los usuarios de otras regiones\". Para esto también utilizaremos una prueba de hipótesis de dos poblaciones y de dos colas; estableciendo la hipotesis nula y alternativa como:\n",
        "\n",
        " - H0: El ingreso promedio de los usuarios del área NY-NJ es el **mismo** al de los usuarios de otras regiones.\n",
        " - H1: El ingreso promedio de los usuarios del área NY-NJ es **diferente** al de los usuarios de otras regiones."
      ]
    },
    {
      "cell_type": "markdown",
      "metadata": {
        "id": "8P3vbJfCSda9"
      },
      "source": [
        "Para esto primero crearemos tablas filtradas con los datos necesarios para llevar a cabo el test."
      ]
    },
    {
      "cell_type": "code",
      "execution_count": null,
      "metadata": {
        "id": "Uwfzg1X1Sda9"
      },
      "outputs": [],
      "source": [
        "# Filtramos la tabla 'megalinev3' solo con usuarios del área de NY_NJ\n",
        "megaline_ny_nj = megalinev3[megalinev3['city']=='New York-Newark-Jersey City, NY-NJ-PA MSA']\n",
        "\n",
        "# Filtramos la tabla 'megalinev3' con los usuarios de las otras regiones\n",
        "megaline_other_regions = megalinev3[megalinev3['city']!='New York-Newark-Jersey City, NY-NJ-PA MSA']"
      ]
    },
    {
      "cell_type": "code",
      "execution_count": null,
      "metadata": {
        "id": "Jt2XxV-ISda9",
        "outputId": "d38f6d5d-bc26-4b9d-d1e5-25c94f474bd8"
      },
      "outputs": [
        {
          "name": "stdout",
          "output_type": "stream",
          "text": [
            "La varianza de 'megaline_ny_nj' es: 1890.3503082256261\n",
            "La varianza de 'megaline_other_regions' es: 2223.608473677547\n"
          ]
        }
      ],
      "source": [
        "# Revisamos las varianzas de ambas tablas\n",
        "print(f\"La varianza de 'megaline_ny_nj' es: {np.var(megaline_ny_nj['user_monthly_income'])}\")\n",
        "print(f\"La varianza de 'megaline_other_regions' es: {np.var(megaline_other_regions['user_monthly_income'])}\")"
      ]
    },
    {
      "cell_type": "code",
      "execution_count": null,
      "metadata": {
        "id": "Ouxf12PYSda9",
        "outputId": "9342c535-cfa4-4a17-8867-22601764dfd5"
      },
      "outputs": [
        {
          "name": "stdout",
          "output_type": "stream",
          "text": [
            "p-value: 0.033440767667409964\n",
            "Rechazamos la hipótesis nula\n"
          ]
        }
      ],
      "source": [
        "# Probamos las hipótesis\n",
        "\n",
        "# Dejamos el parámetro 'equal_var' en 'False' debido a la variabilidad de las varianzas\n",
        "results_1 = ttest_ind(\n",
        "    megaline_ny_nj['user_monthly_income'],\n",
        "    megaline_other_regions['user_monthly_income'],\n",
        "    equal_var = False\n",
        ")\n",
        "# Establecemos el valor alfa\n",
        "alpha = 0.05\n",
        "\n",
        "print('p-value:', results_1.pvalue)\n",
        "\n",
        "if results_1.pvalue < alpha:\n",
        "     print(\"Rechazamos la hipótesis nula\")\n",
        "else:\n",
        "    print(\"No rechazamos la hipótesis nula\")"
      ]
    },
    {
      "cell_type": "markdown",
      "metadata": {
        "id": "3hku2gJ9Sda-"
      },
      "source": [
        "En este caso, dado que el P-value es menor que el valor alfa, tenemos evidencia, nuevamente, para rechazar la hipotesis nula. De este modo, se puede decir que hay indicios que nos indican que el ingreso promedio de los usuarios del área de 'NY-NJ' es diferente al de los usuarios de otras regiones."
      ]
    },
    {
      "cell_type": "markdown",
      "metadata": {
        "id": "_gLverfqSda-"
      },
      "source": [
        "## Conclusión general"
      ]
    },
    {
      "cell_type": "markdown",
      "metadata": {
        "id": "Yj_wvs2NSda-"
      },
      "source": [
        "Como conclusión, para responder a la pregunta: \"cuál de los planes genera más ingresos para ajustar el presupuesto de publicidad\", realizamos dos pruebas:\n",
        "\n",
        " - Para la hipotesis \"El ingreso promedio de los usuarios del área NY-NJ es diferente al de los usuarios de otras regiones\", establecimos las siguintes hipotesis nulas:\n",
        "  - H0: El ingreso promedio de los usuarios de los planes de llamada **Ultimate** y **Surf** es el mismo.\n",
        "  - H1: El ingreso promedio de los usuarios de los planes de llamada **Ultimate** y **Surf** es diferente.\n",
        "\n",
        "Donde en este caso el P-value fue extremadamente menor al alpha, lo que nos dio evidencia para rechazar la hipótesis nula. En otras palabras, concluimos, de acuerdo a la evidencia, **los ingresos de los usuarios son diferentes en ambos planes**.\n",
        "\n",
        "- Por otra parte estudiamos la hipotesis \"El ingreso promedio de los usuarios del área NY-NJ es diferente al de los usuarios de otras regiones\", donde se establecieron las hipotesis:\n",
        " - H0: El ingreso promedio de los usuarios de los planes de llamada **Ultimate** y **Surf** es el mismo.\n",
        " - H1: El ingreso promedio de los usuarios de los planes de llamada **Ultimate** y **Surf** es diferente.\n",
        "\n",
        "Donde, nuevamente el valor alfa fue mayor que el P-value, lo que nos dio evidencia para rechazar esta hipótesis nula. Es decir, de acuerdo a la evidencia, concluimos que **los ingresos de los usuarios de 'NY-NJ' son distintos a los de usuarios de otras regiones**.\n",
        "\n",
        "Asimismo, al calcular la media del plan **Ultimate** (72,31) y la del plan **Surf** (60.69), podemos concluir que los usuarios del plan **Ultimate** generan más ingresos, con una diferencia aproximada de 12USD.\n",
        "\n"
      ]
    },
    {
      "cell_type": "markdown",
      "metadata": {
        "id": "wvBTCLq0Sda-"
      },
      "source": [
        " - Este análisis se llevó a cabo por medio de las tablas 'calls', 'internet', 'messages', que nos entregaron información sobre el uso de los planes por cada uno de los 500 usuarios. Es decir, duración de llamadas, sms enviados y mb utilizados.\n",
        " - Estudiamos las tres tablas y corregimos sus datos. Para esto revisamos duplicados, formatos de las columnas y de sus nombres, valores ausentes y en algunos casos enriquecimos los datos.\n",
        " - Para la columna 'duration' de la tabla 'calls' redondeamos los segundos a minutos, y para la tabla 'internet', con la columna columna 'mb_used' creamos otra columna con gigabytes redondeados.\n",
        " -Por medio de estas tablas calculamos el uso de gigabytes, duración de llamadas, número de sms y el número de llamadas por mes por usuario.\n",
        " - Además se nos entregaron otras tablas llamadas 'plans' y 'users', que unimos con nuestras tablas anteriores, generando una sola tabala llamada 'megalinev3'. En esta tabla calculados los ingresos mensuales por usuario, sumando el costo por plan y los excedentes de uso de SMS, GB y minutos de llamadas.\n",
        " - Luego estudiamos el comportamiento por usuario en ambos planes, en los parámetros 'llamadas', 'mensajes', 'sms', 'internet' e 'ingresos'. Aquí el comportamiento de los usuarios en ambos planes para 'llamadas' y 'mensajes' era bastante similar. En cambio en el parámetros 'internet' se pudo observar un comportamiento distinto para los usuarios de ambos planes.\n",
        " - Al analizar los ingresos, también se observaron diferencias entre planes, donde, a grandes rasgos, en el plan **ultimate** se observó un ingreso promedio más alto desde el comienzo del año 2018.\n",
        " - Finalmente probamos las siguiente hipotesis:\n",
        "  - \"El ingreso promedio de los usuarios de los planes de llamada Ultimate y Surf es diferente.\"\n",
        "  - \"El ingreso promedio de los usuarios del área NY-NJ es diferente al de los usuarios de otras regiones.\"\n",
        "\n",
        "En ambos casos la hipótesis nula fue rechazada. De este modo pudimos concluir que los ingresos en ambos planes son distintos y que por medio del plan **Ultimate** se generan más ingresos."
      ]
    },
    {
      "cell_type": "markdown",
      "metadata": {
        "id": "kFyd1XqLSda_"
      },
      "source": [
        " <div class=\"alert alert-block alert-success\">\n",
        "<b>Comentario del evaluador</b> <a class=\"tocSkip\"></a>\n",
        "\n",
        "¡Hola!\n",
        "    \n",
        "Te quiero felicitar por tu trabajo, está bastante completo y muy bien realizado. El código es correcto y se nota que te desenvuelves con facilidad en python. Un consejo en general sería que definas más funciones para reducir líneas de código en procesos que repites, esto te resultará muy útil.\n",
        "    \n",
        "Realicé algunos comentarios en bloques de color amarillo, pero en general me parece bueno tu proyecto por lo que puedo aprobarlo.\n",
        "    \n",
        "Saludos y éxito,\n",
        "\n",
        "</div>"
      ]
    }
  ],
  "metadata": {
    "ExecuteTimeLog": [
      {
        "duration": 828,
        "start_time": "2021-11-16T09:21:11.304Z"
      },
      {
        "duration": 893,
        "start_time": "2021-11-16T09:21:17.728Z"
      },
      {
        "duration": 1150,
        "start_time": "2021-11-16T09:21:29.568Z"
      },
      {
        "duration": 3,
        "start_time": "2021-11-16T09:24:14.495Z"
      },
      {
        "duration": 120,
        "start_time": "2021-11-16T09:24:46.630Z"
      },
      {
        "duration": 3,
        "start_time": "2021-11-16T09:28:27.882Z"
      },
      {
        "duration": 4,
        "start_time": "2021-11-16T09:29:54.281Z"
      },
      {
        "duration": 3,
        "start_time": "2021-11-16T09:30:45.936Z"
      },
      {
        "duration": 4,
        "start_time": "2021-11-16T09:31:06.300Z"
      },
      {
        "duration": 113,
        "start_time": "2021-11-16T09:31:37.208Z"
      },
      {
        "duration": 143,
        "start_time": "2021-11-16T09:31:48.656Z"
      },
      {
        "duration": 98,
        "start_time": "2021-11-16T09:31:55.678Z"
      },
      {
        "duration": 3,
        "start_time": "2021-11-16T09:32:08.535Z"
      },
      {
        "duration": 111,
        "start_time": "2021-11-16T09:32:10.120Z"
      },
      {
        "duration": 3,
        "start_time": "2021-11-16T09:32:15.732Z"
      },
      {
        "duration": 4,
        "start_time": "2021-11-16T09:32:29.423Z"
      },
      {
        "duration": 3,
        "start_time": "2021-11-16T10:03:03.074Z"
      },
      {
        "duration": 3,
        "start_time": "2021-11-16T10:10:01.288Z"
      },
      {
        "duration": 3,
        "start_time": "2021-11-16T10:10:46.923Z"
      },
      {
        "duration": 121,
        "start_time": "2021-11-16T10:37:46.494Z"
      },
      {
        "duration": 125,
        "start_time": "2021-11-16T10:38:20.632Z"
      },
      {
        "duration": 112,
        "start_time": "2021-11-16T10:46:53.001Z"
      },
      {
        "duration": 110,
        "start_time": "2021-11-16T10:48:25.775Z"
      },
      {
        "duration": 3,
        "start_time": "2021-11-16T10:50:18.720Z"
      },
      {
        "duration": 4,
        "start_time": "2021-11-16T10:50:37.649Z"
      },
      {
        "duration": 2,
        "start_time": "2021-11-16T10:50:51.884Z"
      },
      {
        "duration": 3,
        "start_time": "2021-11-16T10:51:56.237Z"
      },
      {
        "duration": 101,
        "start_time": "2021-11-16T10:53:13.791Z"
      },
      {
        "duration": 3,
        "start_time": "2021-11-16T10:55:59.186Z"
      },
      {
        "duration": 3,
        "start_time": "2021-11-16T10:56:10.751Z"
      },
      {
        "duration": 3,
        "start_time": "2021-11-16T10:56:49.038Z"
      },
      {
        "duration": 3,
        "start_time": "2021-11-16T10:56:49.174Z"
      },
      {
        "duration": 4,
        "start_time": "2021-11-16T10:56:49.414Z"
      },
      {
        "duration": 3,
        "start_time": "2021-11-16T10:56:49.680Z"
      },
      {
        "duration": 3,
        "start_time": "2021-11-16T10:56:50.370Z"
      },
      {
        "duration": 114,
        "start_time": "2021-11-16T10:59:34.518Z"
      },
      {
        "duration": 3,
        "start_time": "2021-11-16T11:01:41.201Z"
      },
      {
        "duration": 116,
        "start_time": "2021-11-16T11:01:48.754Z"
      },
      {
        "duration": 3,
        "start_time": "2021-11-16T11:02:16.685Z"
      },
      {
        "duration": 3,
        "start_time": "2021-11-16T11:02:19.479Z"
      },
      {
        "duration": 3,
        "start_time": "2021-11-16T11:02:47.067Z"
      },
      {
        "duration": 3,
        "start_time": "2021-11-16T11:02:49.353Z"
      },
      {
        "duration": 3,
        "start_time": "2021-11-16T11:03:07.835Z"
      },
      {
        "duration": 3,
        "start_time": "2021-11-16T11:03:07.953Z"
      },
      {
        "duration": 112,
        "start_time": "2021-11-16T11:07:52.072Z"
      },
      {
        "duration": 187,
        "start_time": "2021-11-16T11:09:23.468Z"
      },
      {
        "duration": 4,
        "start_time": "2021-11-16T11:10:01.455Z"
      },
      {
        "duration": 3,
        "start_time": "2021-11-16T11:10:05.069Z"
      },
      {
        "duration": 4,
        "start_time": "2021-11-16T11:10:13.376Z"
      },
      {
        "duration": 3,
        "start_time": "2021-11-16T11:10:14.434Z"
      },
      {
        "duration": 3,
        "start_time": "2021-11-16T11:10:22.853Z"
      },
      {
        "duration": 4,
        "start_time": "2021-11-16T11:27:29.279Z"
      },
      {
        "duration": 4,
        "start_time": "2021-11-16T11:29:08.919Z"
      },
      {
        "duration": 118,
        "start_time": "2021-11-16T11:29:46.703Z"
      },
      {
        "duration": 437,
        "start_time": "2021-11-16T11:36:02.181Z"
      },
      {
        "duration": 157,
        "start_time": "2021-11-16T11:36:14.388Z"
      },
      {
        "duration": 207,
        "start_time": "2021-11-16T11:47:15.898Z"
      },
      {
        "duration": 3,
        "start_time": "2021-11-16T11:53:52.092Z"
      },
      {
        "duration": 3,
        "start_time": "2021-11-16T11:53:52.236Z"
      },
      {
        "duration": 3,
        "start_time": "2021-11-16T11:59:12.005Z"
      },
      {
        "duration": 112,
        "start_time": "2021-11-16T12:00:33.446Z"
      },
      {
        "duration": 3,
        "start_time": "2021-11-16T12:02:14.453Z"
      },
      {
        "duration": 3,
        "start_time": "2021-11-16T12:02:39.512Z"
      },
      {
        "duration": 106,
        "start_time": "2021-11-16T12:03:03.460Z"
      },
      {
        "duration": 3,
        "start_time": "2021-11-17T20:37:21.139Z"
      },
      {
        "duration": 3,
        "start_time": "2021-11-17T20:37:22.229Z"
      },
      {
        "duration": 3,
        "start_time": "2021-11-17T20:38:38.806Z"
      },
      {
        "duration": 3,
        "start_time": "2021-11-17T20:38:41.958Z"
      },
      {
        "duration": 3,
        "start_time": "2021-11-17T20:43:46.551Z"
      },
      {
        "duration": 4,
        "start_time": "2021-11-17T20:58:21.835Z"
      },
      {
        "duration": 3,
        "start_time": "2021-11-17T20:59:21.872Z"
      },
      {
        "duration": 4,
        "start_time": "2021-11-17T20:59:45.352Z"
      },
      {
        "duration": 4,
        "start_time": "2021-11-17T20:59:49.646Z"
      },
      {
        "duration": 159,
        "start_time": "2021-11-17T21:02:26.949Z"
      },
      {
        "duration": 3,
        "start_time": "2021-11-17T21:03:53.461Z"
      },
      {
        "duration": 3,
        "start_time": "2021-11-17T21:03:53.694Z"
      },
      {
        "duration": 3,
        "start_time": "2021-11-17T21:05:28.145Z"
      },
      {
        "duration": 116,
        "start_time": "2021-11-17T21:05:57.787Z"
      },
      {
        "duration": 3,
        "start_time": "2021-11-17T21:06:37.993Z"
      },
      {
        "duration": 3,
        "start_time": "2021-11-17T21:06:38.261Z"
      },
      {
        "duration": 3,
        "start_time": "2021-11-17T21:11:54.358Z"
      },
      {
        "duration": 3,
        "start_time": "2021-11-17T21:12:43.846Z"
      },
      {
        "duration": 4,
        "start_time": "2021-11-17T21:13:08.773Z"
      },
      {
        "duration": 3,
        "start_time": "2021-11-17T21:14:44.441Z"
      },
      {
        "duration": 3,
        "start_time": "2021-11-17T21:15:42.059Z"
      },
      {
        "duration": 4,
        "start_time": "2021-11-17T21:15:51.995Z"
      },
      {
        "duration": 3,
        "start_time": "2021-11-17T21:15:53.923Z"
      },
      {
        "duration": 3,
        "start_time": "2021-11-17T21:15:55.282Z"
      },
      {
        "duration": 3,
        "start_time": "2021-11-17T21:16:28.492Z"
      },
      {
        "duration": 3,
        "start_time": "2021-11-17T21:16:32.603Z"
      },
      {
        "duration": 3,
        "start_time": "2021-11-17T21:17:06.941Z"
      },
      {
        "duration": 98,
        "start_time": "2021-11-17T21:18:05.733Z"
      },
      {
        "duration": 4,
        "start_time": "2021-11-17T21:21:35.255Z"
      },
      {
        "duration": 3,
        "start_time": "2021-11-17T21:21:37.804Z"
      },
      {
        "duration": 4,
        "start_time": "2021-11-17T21:23:06.071Z"
      },
      {
        "duration": 3,
        "start_time": "2021-11-17T21:23:24.799Z"
      },
      {
        "duration": 3,
        "start_time": "2021-11-17T21:23:32.591Z"
      },
      {
        "duration": 98,
        "start_time": "2021-11-17T21:28:31.559Z"
      },
      {
        "duration": 3,
        "start_time": "2021-11-17T21:28:45.448Z"
      },
      {
        "duration": 3,
        "start_time": "2021-11-17T21:29:17.303Z"
      },
      {
        "duration": 3,
        "start_time": "2021-11-17T21:29:29.617Z"
      },
      {
        "duration": 3,
        "start_time": "2021-11-17T21:29:32.681Z"
      },
      {
        "duration": 3,
        "start_time": "2021-11-17T21:36:11.474Z"
      },
      {
        "duration": 3,
        "start_time": "2021-11-17T21:36:14.791Z"
      },
      {
        "duration": 3,
        "start_time": "2021-11-17T21:36:53.943Z"
      },
      {
        "duration": 3,
        "start_time": "2021-11-17T21:36:56.165Z"
      },
      {
        "duration": 4,
        "start_time": "2021-11-17T21:37:16.590Z"
      },
      {
        "duration": 3,
        "start_time": "2021-11-17T21:37:22.702Z"
      },
      {
        "duration": 4,
        "start_time": "2021-11-17T21:38:03.479Z"
      },
      {
        "duration": 3,
        "start_time": "2021-11-17T21:38:08.601Z"
      },
      {
        "duration": 3,
        "start_time": "2021-11-17T21:38:12.928Z"
      },
      {
        "duration": 3,
        "start_time": "2021-11-17T21:38:48.896Z"
      },
      {
        "duration": 2,
        "start_time": "2021-11-17T21:38:49.171Z"
      },
      {
        "duration": 4,
        "start_time": "2021-11-17T21:39:57.889Z"
      },
      {
        "duration": 3,
        "start_time": "2021-11-17T21:39:58.057Z"
      },
      {
        "duration": 3,
        "start_time": "2021-11-17T21:41:20.108Z"
      },
      {
        "duration": 3,
        "start_time": "2021-11-17T21:41:20.629Z"
      },
      {
        "duration": 3,
        "start_time": "2021-11-17T21:42:49.136Z"
      },
      {
        "duration": 3,
        "start_time": "2021-11-17T21:43:15.137Z"
      },
      {
        "duration": 4,
        "start_time": "2021-11-17T21:43:16.766Z"
      },
      {
        "duration": 4,
        "start_time": "2021-11-17T21:43:31.711Z"
      },
      {
        "duration": 3,
        "start_time": "2021-11-17T21:43:36.312Z"
      },
      {
        "duration": 4,
        "start_time": "2021-11-17T21:45:08.825Z"
      },
      {
        "duration": 4,
        "start_time": "2021-11-17T21:45:10.119Z"
      },
      {
        "duration": 4,
        "start_time": "2021-11-17T21:45:13.748Z"
      },
      {
        "duration": 3,
        "start_time": "2021-11-17T21:45:22.219Z"
      },
      {
        "duration": 3,
        "start_time": "2021-11-17T21:45:33.412Z"
      },
      {
        "duration": 2,
        "start_time": "2021-11-17T21:46:01.885Z"
      },
      {
        "duration": 3,
        "start_time": "2021-11-17T21:46:03.628Z"
      },
      {
        "duration": 107,
        "start_time": "2021-11-17T21:47:32.512Z"
      },
      {
        "duration": 103,
        "start_time": "2021-11-17T21:50:36.243Z"
      },
      {
        "duration": 3,
        "start_time": "2021-11-18T06:28:31.440Z"
      },
      {
        "duration": 3,
        "start_time": "2021-11-18T06:29:00.168Z"
      },
      {
        "duration": 3,
        "start_time": "2021-11-18T06:31:27.008Z"
      },
      {
        "duration": 2,
        "start_time": "2021-11-18T06:35:34.288Z"
      },
      {
        "duration": 2,
        "start_time": "2021-11-18T06:38:04.527Z"
      }
    ],
    "kernelspec": {
      "display_name": "Python 3 (ipykernel)",
      "language": "python",
      "name": "python3"
    },
    "language_info": {
      "codemirror_mode": {
        "name": "ipython",
        "version": 3
      },
      "file_extension": ".py",
      "mimetype": "text/x-python",
      "name": "python",
      "nbconvert_exporter": "python",
      "pygments_lexer": "ipython3",
      "version": "3.9.5"
    },
    "toc": {
      "base_numbering": 1,
      "nav_menu": {},
      "number_sections": true,
      "sideBar": true,
      "skip_h1_title": false,
      "title_cell": "Table of Contents",
      "title_sidebar": "Contents",
      "toc_cell": false,
      "toc_position": {
        "height": "341.333px",
        "left": "325px",
        "top": "110.229px",
        "width": "165px"
      },
      "toc_section_display": true,
      "toc_window_display": true
    },
    "colab": {
      "provenance": []
    }
  },
  "nbformat": 4,
  "nbformat_minor": 0
}